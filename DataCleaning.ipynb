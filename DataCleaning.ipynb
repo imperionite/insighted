{
 "cells": [
  {
   "cell_type": "markdown",
   "id": "de9f1f1e-35b6-4f29-9d40-a11defd605b9",
   "metadata": {},
   "source": [
    "# InsightEd - Data Cleaning"
   ]
  },
  {
   "cell_type": "code",
   "execution_count": 2,
   "id": "c141a6ec-767f-440e-9144-03b21dce7e53",
   "metadata": {},
   "outputs": [],
   "source": [
    "library(dplyr)\n",
    "library(data.table)\n",
    "library(skimr)\n",
    "library(tidyverse)\n",
    "library(janitor) "
   ]
  },
  {
   "cell_type": "code",
   "execution_count": 3,
   "id": "d431fada-ea28-4b38-a248-d818adf626de",
   "metadata": {},
   "outputs": [],
   "source": [
    "# read and load csv\n",
    "data <- fread(\"mini_task.csv\")"
   ]
  },
  {
   "cell_type": "code",
   "execution_count": 4,
   "id": "54d9433e-2d9d-4dd9-bf3b-21a1f9748170",
   "metadata": {
    "scrolled": true
   },
   "outputs": [
    {
     "data": {
      "text/html": [
       "<table class=\"dataframe\">\n",
       "<caption>A data.table: 6 × 14</caption>\n",
       "<thead>\n",
       "\t<tr><th scope=col>Gender</th><th scope=col>Age</th><th scope=col>Education Level</th><th scope=col>Institution Type</th><th scope=col>IT Student</th><th scope=col>Location</th><th scope=col>Load-shedding</th><th scope=col>Financial Condition</th><th scope=col>Internet Type</th><th scope=col>Network Type</th><th scope=col>Class Duration</th><th scope=col>Self Lms</th><th scope=col>Device</th><th scope=col>Adaptivity Level</th></tr>\n",
       "\t<tr><th scope=col>&lt;chr&gt;</th><th scope=col>&lt;chr&gt;</th><th scope=col>&lt;chr&gt;</th><th scope=col>&lt;chr&gt;</th><th scope=col>&lt;chr&gt;</th><th scope=col>&lt;chr&gt;</th><th scope=col>&lt;chr&gt;</th><th scope=col>&lt;chr&gt;</th><th scope=col>&lt;chr&gt;</th><th scope=col>&lt;chr&gt;</th><th scope=col>&lt;chr&gt;</th><th scope=col>&lt;chr&gt;</th><th scope=col>&lt;chr&gt;</th><th scope=col>&lt;chr&gt;</th></tr>\n",
       "</thead>\n",
       "<tbody>\n",
       "\t<tr><td>Boy </td><td>21-25</td><td>University</td><td>Non Government</td><td>No</td><td>Yes</td><td>Low </td><td>Mid </td><td>Wifi       </td><td>4G</td><td>3-6</td><td>No </td><td>Tab   </td><td>Moderate</td></tr>\n",
       "\t<tr><td>Girl</td><td>21-25</td><td>University</td><td>Non Government</td><td>No</td><td>Yes</td><td>High</td><td>Mid </td><td>Mobile Data</td><td>4G</td><td>1-3</td><td>Yes</td><td>Mobile</td><td>Moderate</td></tr>\n",
       "\t<tr><td>Girl</td><td>16-20</td><td>College   </td><td>Government    </td><td>No</td><td>Yes</td><td>Low </td><td>Mid </td><td>Wifi       </td><td>4G</td><td>1-3</td><td>No </td><td>Mobile</td><td>Moderate</td></tr>\n",
       "\t<tr><td>Girl</td><td>11-15</td><td>School    </td><td>Non Government</td><td>No</td><td>Yes</td><td>Low </td><td>Mid </td><td>Mobile Data</td><td>4G</td><td>1-3</td><td>No </td><td>Mobile</td><td>Moderate</td></tr>\n",
       "\t<tr><td>Girl</td><td>16-20</td><td>School    </td><td>Non Government</td><td>No</td><td>Yes</td><td>Low </td><td>Poor</td><td>Mobile Data</td><td>3G</td><td>0  </td><td>No </td><td>Mobile</td><td>Low     </td></tr>\n",
       "\t<tr><td>Boy </td><td>11-15</td><td>School    </td><td>Non Government</td><td>No</td><td>Yes</td><td>Low </td><td>Poor</td><td>Mobile Data</td><td>3G</td><td>1-3</td><td>No </td><td>Mobile</td><td>Low     </td></tr>\n",
       "</tbody>\n",
       "</table>\n"
      ],
      "text/latex": [
       "A data.table: 6 × 14\n",
       "\\begin{tabular}{llllllllllllll}\n",
       " Gender & Age & Education Level & Institution Type & IT Student & Location & Load-shedding & Financial Condition & Internet Type & Network Type & Class Duration & Self Lms & Device & Adaptivity Level\\\\\n",
       " <chr> & <chr> & <chr> & <chr> & <chr> & <chr> & <chr> & <chr> & <chr> & <chr> & <chr> & <chr> & <chr> & <chr>\\\\\n",
       "\\hline\n",
       "\t Boy  & 21-25 & University & Non Government & No & Yes & Low  & Mid  & Wifi        & 4G & 3-6 & No  & Tab    & Moderate\\\\\n",
       "\t Girl & 21-25 & University & Non Government & No & Yes & High & Mid  & Mobile Data & 4G & 1-3 & Yes & Mobile & Moderate\\\\\n",
       "\t Girl & 16-20 & College    & Government     & No & Yes & Low  & Mid  & Wifi        & 4G & 1-3 & No  & Mobile & Moderate\\\\\n",
       "\t Girl & 11-15 & School     & Non Government & No & Yes & Low  & Mid  & Mobile Data & 4G & 1-3 & No  & Mobile & Moderate\\\\\n",
       "\t Girl & 16-20 & School     & Non Government & No & Yes & Low  & Poor & Mobile Data & 3G & 0   & No  & Mobile & Low     \\\\\n",
       "\t Boy  & 11-15 & School     & Non Government & No & Yes & Low  & Poor & Mobile Data & 3G & 1-3 & No  & Mobile & Low     \\\\\n",
       "\\end{tabular}\n"
      ],
      "text/markdown": [
       "\n",
       "A data.table: 6 × 14\n",
       "\n",
       "| Gender &lt;chr&gt; | Age &lt;chr&gt; | Education Level &lt;chr&gt; | Institution Type &lt;chr&gt; | IT Student &lt;chr&gt; | Location &lt;chr&gt; | Load-shedding &lt;chr&gt; | Financial Condition &lt;chr&gt; | Internet Type &lt;chr&gt; | Network Type &lt;chr&gt; | Class Duration &lt;chr&gt; | Self Lms &lt;chr&gt; | Device &lt;chr&gt; | Adaptivity Level &lt;chr&gt; |\n",
       "|---|---|---|---|---|---|---|---|---|---|---|---|---|---|\n",
       "| Boy  | 21-25 | University | Non Government | No | Yes | Low  | Mid  | Wifi        | 4G | 3-6 | No  | Tab    | Moderate |\n",
       "| Girl | 21-25 | University | Non Government | No | Yes | High | Mid  | Mobile Data | 4G | 1-3 | Yes | Mobile | Moderate |\n",
       "| Girl | 16-20 | College    | Government     | No | Yes | Low  | Mid  | Wifi        | 4G | 1-3 | No  | Mobile | Moderate |\n",
       "| Girl | 11-15 | School     | Non Government | No | Yes | Low  | Mid  | Mobile Data | 4G | 1-3 | No  | Mobile | Moderate |\n",
       "| Girl | 16-20 | School     | Non Government | No | Yes | Low  | Poor | Mobile Data | 3G | 0   | No  | Mobile | Low      |\n",
       "| Boy  | 11-15 | School     | Non Government | No | Yes | Low  | Poor | Mobile Data | 3G | 1-3 | No  | Mobile | Low      |\n",
       "\n"
      ],
      "text/plain": [
       "  Gender Age   Education Level Institution Type IT Student Location\n",
       "1 Boy    21-25 University      Non Government   No         Yes     \n",
       "2 Girl   21-25 University      Non Government   No         Yes     \n",
       "3 Girl   16-20 College         Government       No         Yes     \n",
       "4 Girl   11-15 School          Non Government   No         Yes     \n",
       "5 Girl   16-20 School          Non Government   No         Yes     \n",
       "6 Boy    11-15 School          Non Government   No         Yes     \n",
       "  Load-shedding Financial Condition Internet Type Network Type Class Duration\n",
       "1 Low           Mid                 Wifi          4G           3-6           \n",
       "2 High          Mid                 Mobile Data   4G           1-3           \n",
       "3 Low           Mid                 Wifi          4G           1-3           \n",
       "4 Low           Mid                 Mobile Data   4G           1-3           \n",
       "5 Low           Poor                Mobile Data   3G           0             \n",
       "6 Low           Poor                Mobile Data   3G           1-3           \n",
       "  Self Lms Device Adaptivity Level\n",
       "1 No       Tab    Moderate        \n",
       "2 Yes      Mobile Moderate        \n",
       "3 No       Mobile Moderate        \n",
       "4 No       Mobile Moderate        \n",
       "5 No       Mobile Low             \n",
       "6 No       Mobile Low             "
      ]
     },
     "metadata": {},
     "output_type": "display_data"
    }
   ],
   "source": [
    "# all columns are read as factor (not chr) for accuracy\n",
    "head(data)"
   ]
  },
  {
   "cell_type": "code",
   "execution_count": 5,
   "id": "bbdc3aa0-f393-48cc-ab0e-f47e50b880e2",
   "metadata": {},
   "outputs": [
    {
     "data": {
      "text/html": [
       "<table class=\"dataframe\">\n",
       "<caption>A tabyl: 3 × 3</caption>\n",
       "<thead>\n",
       "\t<tr><th scope=col>Adaptivity Level</th><th scope=col>n</th><th scope=col>percent</th></tr>\n",
       "\t<tr><th scope=col>&lt;chr&gt;</th><th scope=col>&lt;int&gt;</th><th scope=col>&lt;dbl&gt;</th></tr>\n",
       "</thead>\n",
       "<tbody>\n",
       "\t<tr><td>High    </td><td>100</td><td>0.08298755</td></tr>\n",
       "\t<tr><td>Low     </td><td>480</td><td>0.39834025</td></tr>\n",
       "\t<tr><td>Moderate</td><td>625</td><td>0.51867220</td></tr>\n",
       "</tbody>\n",
       "</table>\n"
      ],
      "text/latex": [
       "A tabyl: 3 × 3\n",
       "\\begin{tabular}{lll}\n",
       " Adaptivity Level & n & percent\\\\\n",
       " <chr> & <int> & <dbl>\\\\\n",
       "\\hline\n",
       "\t High     & 100 & 0.08298755\\\\\n",
       "\t Low      & 480 & 0.39834025\\\\\n",
       "\t Moderate & 625 & 0.51867220\\\\\n",
       "\\end{tabular}\n"
      ],
      "text/markdown": [
       "\n",
       "A tabyl: 3 × 3\n",
       "\n",
       "| Adaptivity Level &lt;chr&gt; | n &lt;int&gt; | percent &lt;dbl&gt; |\n",
       "|---|---|---|\n",
       "| High     | 100 | 0.08298755 |\n",
       "| Low      | 480 | 0.39834025 |\n",
       "| Moderate | 625 | 0.51867220 |\n",
       "\n"
      ],
      "text/plain": [
       "  Adaptivity Level n   percent   \n",
       "1 High             100 0.08298755\n",
       "2 Low              480 0.39834025\n",
       "3 Moderate         625 0.51867220"
      ]
     },
     "metadata": {},
     "output_type": "display_data"
    },
    {
     "data": {
      "text/html": [
       "<table class=\"dataframe\">\n",
       "<caption>A tabyl: 3 × 3</caption>\n",
       "<thead>\n",
       "\t<tr><th scope=col>Financial Condition</th><th scope=col>n</th><th scope=col>percent</th></tr>\n",
       "\t<tr><th scope=col>&lt;chr&gt;</th><th scope=col>&lt;int&gt;</th><th scope=col>&lt;dbl&gt;</th></tr>\n",
       "</thead>\n",
       "<tbody>\n",
       "\t<tr><td>Mid </td><td>878</td><td>0.72863071</td></tr>\n",
       "\t<tr><td>Poor</td><td>242</td><td>0.20082988</td></tr>\n",
       "\t<tr><td>Rich</td><td> 85</td><td>0.07053942</td></tr>\n",
       "</tbody>\n",
       "</table>\n"
      ],
      "text/latex": [
       "A tabyl: 3 × 3\n",
       "\\begin{tabular}{lll}\n",
       " Financial Condition & n & percent\\\\\n",
       " <chr> & <int> & <dbl>\\\\\n",
       "\\hline\n",
       "\t Mid  & 878 & 0.72863071\\\\\n",
       "\t Poor & 242 & 0.20082988\\\\\n",
       "\t Rich &  85 & 0.07053942\\\\\n",
       "\\end{tabular}\n"
      ],
      "text/markdown": [
       "\n",
       "A tabyl: 3 × 3\n",
       "\n",
       "| Financial Condition &lt;chr&gt; | n &lt;int&gt; | percent &lt;dbl&gt; |\n",
       "|---|---|---|\n",
       "| Mid  | 878 | 0.72863071 |\n",
       "| Poor | 242 | 0.20082988 |\n",
       "| Rich |  85 | 0.07053942 |\n",
       "\n"
      ],
      "text/plain": [
       "  Financial Condition n   percent   \n",
       "1 Mid                 878 0.72863071\n",
       "2 Poor                242 0.20082988\n",
       "3 Rich                 85 0.07053942"
      ]
     },
     "metadata": {},
     "output_type": "display_data"
    },
    {
     "data": {
      "text/html": [
       "<table class=\"dataframe\">\n",
       "<caption>A tabyl: 2 × 3</caption>\n",
       "<thead>\n",
       "\t<tr><th scope=col>Internet Type</th><th scope=col>n</th><th scope=col>percent</th></tr>\n",
       "\t<tr><th scope=col>&lt;chr&gt;</th><th scope=col>&lt;int&gt;</th><th scope=col>&lt;dbl&gt;</th></tr>\n",
       "</thead>\n",
       "<tbody>\n",
       "\t<tr><td>Mobile Data</td><td>695</td><td>0.5767635</td></tr>\n",
       "\t<tr><td>Wifi       </td><td>510</td><td>0.4232365</td></tr>\n",
       "</tbody>\n",
       "</table>\n"
      ],
      "text/latex": [
       "A tabyl: 2 × 3\n",
       "\\begin{tabular}{lll}\n",
       " Internet Type & n & percent\\\\\n",
       " <chr> & <int> & <dbl>\\\\\n",
       "\\hline\n",
       "\t Mobile Data & 695 & 0.5767635\\\\\n",
       "\t Wifi        & 510 & 0.4232365\\\\\n",
       "\\end{tabular}\n"
      ],
      "text/markdown": [
       "\n",
       "A tabyl: 2 × 3\n",
       "\n",
       "| Internet Type &lt;chr&gt; | n &lt;int&gt; | percent &lt;dbl&gt; |\n",
       "|---|---|---|\n",
       "| Mobile Data | 695 | 0.5767635 |\n",
       "| Wifi        | 510 | 0.4232365 |\n",
       "\n"
      ],
      "text/plain": [
       "  Internet Type n   percent  \n",
       "1 Mobile Data   695 0.5767635\n",
       "2 Wifi          510 0.4232365"
      ]
     },
     "metadata": {},
     "output_type": "display_data"
    },
    {
     "data": {
      "text/html": [
       "<table class=\"dataframe\">\n",
       "<caption>A tabyl: 3 × 3</caption>\n",
       "<thead>\n",
       "\t<tr><th scope=col>Network Type</th><th scope=col>n</th><th scope=col>percent</th></tr>\n",
       "\t<tr><th scope=col>&lt;chr&gt;</th><th scope=col>&lt;int&gt;</th><th scope=col>&lt;dbl&gt;</th></tr>\n",
       "</thead>\n",
       "<tbody>\n",
       "\t<tr><td>2G</td><td> 19</td><td>0.01576763</td></tr>\n",
       "\t<tr><td>3G</td><td>411</td><td>0.34107884</td></tr>\n",
       "\t<tr><td>4G</td><td>775</td><td>0.64315353</td></tr>\n",
       "</tbody>\n",
       "</table>\n"
      ],
      "text/latex": [
       "A tabyl: 3 × 3\n",
       "\\begin{tabular}{lll}\n",
       " Network Type & n & percent\\\\\n",
       " <chr> & <int> & <dbl>\\\\\n",
       "\\hline\n",
       "\t 2G &  19 & 0.01576763\\\\\n",
       "\t 3G & 411 & 0.34107884\\\\\n",
       "\t 4G & 775 & 0.64315353\\\\\n",
       "\\end{tabular}\n"
      ],
      "text/markdown": [
       "\n",
       "A tabyl: 3 × 3\n",
       "\n",
       "| Network Type &lt;chr&gt; | n &lt;int&gt; | percent &lt;dbl&gt; |\n",
       "|---|---|---|\n",
       "| 2G |  19 | 0.01576763 |\n",
       "| 3G | 411 | 0.34107884 |\n",
       "| 4G | 775 | 0.64315353 |\n",
       "\n"
      ],
      "text/plain": [
       "  Network Type n   percent   \n",
       "1 2G            19 0.01576763\n",
       "2 3G           411 0.34107884\n",
       "3 4G           775 0.64315353"
      ]
     },
     "metadata": {},
     "output_type": "display_data"
    },
    {
     "data": {
      "text/html": [
       "<table class=\"dataframe\">\n",
       "<caption>A tabyl: 3 × 3</caption>\n",
       "<thead>\n",
       "\t<tr><th scope=col>Device</th><th scope=col>n</th><th scope=col>percent</th></tr>\n",
       "\t<tr><th scope=col>&lt;chr&gt;</th><th scope=col>&lt;int&gt;</th><th scope=col>&lt;dbl&gt;</th></tr>\n",
       "</thead>\n",
       "<tbody>\n",
       "\t<tr><td>Computer</td><td> 162</td><td>0.13443983</td></tr>\n",
       "\t<tr><td>Mobile  </td><td>1013</td><td>0.84066390</td></tr>\n",
       "\t<tr><td>Tab     </td><td>  30</td><td>0.02489627</td></tr>\n",
       "</tbody>\n",
       "</table>\n"
      ],
      "text/latex": [
       "A tabyl: 3 × 3\n",
       "\\begin{tabular}{lll}\n",
       " Device & n & percent\\\\\n",
       " <chr> & <int> & <dbl>\\\\\n",
       "\\hline\n",
       "\t Computer &  162 & 0.13443983\\\\\n",
       "\t Mobile   & 1013 & 0.84066390\\\\\n",
       "\t Tab      &   30 & 0.02489627\\\\\n",
       "\\end{tabular}\n"
      ],
      "text/markdown": [
       "\n",
       "A tabyl: 3 × 3\n",
       "\n",
       "| Device &lt;chr&gt; | n &lt;int&gt; | percent &lt;dbl&gt; |\n",
       "|---|---|---|\n",
       "| Computer |  162 | 0.13443983 |\n",
       "| Mobile   | 1013 | 0.84066390 |\n",
       "| Tab      |   30 | 0.02489627 |\n",
       "\n"
      ],
      "text/plain": [
       "  Device   n    percent   \n",
       "1 Computer  162 0.13443983\n",
       "2 Mobile   1013 0.84066390\n",
       "3 Tab        30 0.02489627"
      ]
     },
     "metadata": {},
     "output_type": "display_data"
    },
    {
     "data": {
      "text/html": [
       "<table class=\"dataframe\">\n",
       "<caption>A tabyl: 6 × 3</caption>\n",
       "<thead>\n",
       "\t<tr><th scope=col>Age</th><th scope=col>n</th><th scope=col>percent</th></tr>\n",
       "\t<tr><th scope=col>&lt;chr&gt;</th><th scope=col>&lt;int&gt;</th><th scope=col>&lt;dbl&gt;</th></tr>\n",
       "</thead>\n",
       "<tbody>\n",
       "\t<tr><td>1-5  </td><td> 81</td><td>0.06721992</td></tr>\n",
       "\t<tr><td>11-15</td><td>353</td><td>0.29294606</td></tr>\n",
       "\t<tr><td>16-20</td><td>278</td><td>0.23070539</td></tr>\n",
       "\t<tr><td>21-25</td><td>374</td><td>0.31037344</td></tr>\n",
       "\t<tr><td>26-30</td><td> 68</td><td>0.05643154</td></tr>\n",
       "\t<tr><td>6-10 </td><td> 51</td><td>0.04232365</td></tr>\n",
       "</tbody>\n",
       "</table>\n"
      ],
      "text/latex": [
       "A tabyl: 6 × 3\n",
       "\\begin{tabular}{lll}\n",
       " Age & n & percent\\\\\n",
       " <chr> & <int> & <dbl>\\\\\n",
       "\\hline\n",
       "\t 1-5   &  81 & 0.06721992\\\\\n",
       "\t 11-15 & 353 & 0.29294606\\\\\n",
       "\t 16-20 & 278 & 0.23070539\\\\\n",
       "\t 21-25 & 374 & 0.31037344\\\\\n",
       "\t 26-30 &  68 & 0.05643154\\\\\n",
       "\t 6-10  &  51 & 0.04232365\\\\\n",
       "\\end{tabular}\n"
      ],
      "text/markdown": [
       "\n",
       "A tabyl: 6 × 3\n",
       "\n",
       "| Age &lt;chr&gt; | n &lt;int&gt; | percent &lt;dbl&gt; |\n",
       "|---|---|---|\n",
       "| 1-5   |  81 | 0.06721992 |\n",
       "| 11-15 | 353 | 0.29294606 |\n",
       "| 16-20 | 278 | 0.23070539 |\n",
       "| 21-25 | 374 | 0.31037344 |\n",
       "| 26-30 |  68 | 0.05643154 |\n",
       "| 6-10  |  51 | 0.04232365 |\n",
       "\n"
      ],
      "text/plain": [
       "  Age   n   percent   \n",
       "1 1-5    81 0.06721992\n",
       "2 11-15 353 0.29294606\n",
       "3 16-20 278 0.23070539\n",
       "4 21-25 374 0.31037344\n",
       "5 26-30  68 0.05643154\n",
       "6 6-10   51 0.04232365"
      ]
     },
     "metadata": {},
     "output_type": "display_data"
    }
   ],
   "source": [
    "# Initial Exploration and Cleaning with janitor\n",
    "data %>% \n",
    "  tabyl(`Adaptivity Level`)\n",
    "data %>% \n",
    "  tabyl(`Financial Condition`)\n",
    "data %>% \n",
    "  tabyl(`Internet Type`)\n",
    "data %>% \n",
    "  tabyl(`Network Type`)\n",
    "data %>% \n",
    "  tabyl(`Device`)\n",
    "data %>% \n",
    "  tabyl(`Age`)\n",
    "data <- data %>% \n",
    "  clean_names() # Clean column names (replace spaces with underscores, etc.)"
   ]
  },
  {
   "cell_type": "code",
   "execution_count": 6,
   "id": "73097aaf-77ec-4eaf-bfb2-7b8abec5d0bc",
   "metadata": {},
   "outputs": [],
   "source": [
    "# Age Cleaning\n",
    "data <- data %>%\n",
    "  mutate(age_numeric = case_when(\n",
    "    age == \"1-5\" ~ 3,\n",
    "    age == \"6-10\" ~ 8,\n",
    "    age == \"11-15\" ~ 13,\n",
    "    age == \"16-20\" ~ 18,\n",
    "    age == \"21-25\" ~ 23,\n",
    "    age == \"26-30\" ~ 28,\n",
    "    TRUE ~ NA_integer_\n",
    "  )) %>%\n",
    "  select(-age)"
   ]
  },
  {
   "cell_type": "code",
   "execution_count": 7,
   "id": "943ecf37-d711-4db1-9085-b5e3f033d925",
   "metadata": {},
   "outputs": [],
   "source": [
    "# Convert to factors (crucial for Shiny and analysis)\n",
    "data <- data %>%\n",
    "  mutate(\n",
    "    gender = as.factor(gender),\n",
    "    education_level = as.factor(education_level),\n",
    "    institution_type = as.factor(institution_type),\n",
    "    it_student = as.factor(it_student),\n",
    "    location = as.factor(location),\n",
    "    load_shedding = as.factor(load_shedding),\n",
    "    financial_condition = as.factor(financial_condition),\n",
    "    internet_type = as.factor(internet_type),\n",
    "    network_type = as.factor(network_type),\n",
    "    class_duration = as.factor(class_duration),\n",
    "    self_lms = as.factor(self_lms),\n",
    "    device = as.factor(device),\n",
    "    adaptivity_level = factor(adaptivity_level, levels = c(\"Low\", \"Moderate\", \"High\"), ordered = TRUE)\n",
    "  )"
   ]
  },
  {
   "cell_type": "code",
   "execution_count": 8,
   "id": "1f743366-4743-49df-b6d8-4b76a857ea74",
   "metadata": {},
   "outputs": [
    {
     "data": {
      "text/html": [
       "<style>\n",
       ".list-inline {list-style: none; margin:0; padding: 0}\n",
       ".list-inline>li {display: inline-block}\n",
       ".list-inline>li:not(:last-child)::after {content: \"\\00b7\"; padding: 0 .5ex}\n",
       "</style>\n",
       "<ol class=list-inline><li>1205</li><li>14</li></ol>\n"
      ],
      "text/latex": [
       "\\begin{enumerate*}\n",
       "\\item 1205\n",
       "\\item 14\n",
       "\\end{enumerate*}\n"
      ],
      "text/markdown": [
       "1. 1205\n",
       "2. 14\n",
       "\n",
       "\n"
      ],
      "text/plain": [
       "[1] 1205   14"
      ]
     },
     "metadata": {},
     "output_type": "display_data"
    }
   ],
   "source": [
    "# check data dimensions; Check the data dimensions (number of rows and columns)\n",
    "dim(data)"
   ]
  },
  {
   "cell_type": "code",
   "execution_count": 9,
   "id": "1add9ee2-e404-4b63-808a-8859c58884d4",
   "metadata": {},
   "outputs": [
    {
     "data": {
      "text/html": [
       "<style>\n",
       ".list-inline {list-style: none; margin:0; padding: 0}\n",
       ".list-inline>li {display: inline-block}\n",
       ".list-inline>li:not(:last-child)::after {content: \"\\00b7\"; padding: 0 .5ex}\n",
       "</style>\n",
       "<ol class=list-inline><li>'gender'</li><li>'education_level'</li><li>'institution_type'</li><li>'it_student'</li><li>'location'</li><li>'load_shedding'</li><li>'financial_condition'</li><li>'internet_type'</li><li>'network_type'</li><li>'class_duration'</li><li>'self_lms'</li><li>'device'</li><li>'adaptivity_level'</li><li>'age_numeric'</li></ol>\n"
      ],
      "text/latex": [
       "\\begin{enumerate*}\n",
       "\\item 'gender'\n",
       "\\item 'education\\_level'\n",
       "\\item 'institution\\_type'\n",
       "\\item 'it\\_student'\n",
       "\\item 'location'\n",
       "\\item 'load\\_shedding'\n",
       "\\item 'financial\\_condition'\n",
       "\\item 'internet\\_type'\n",
       "\\item 'network\\_type'\n",
       "\\item 'class\\_duration'\n",
       "\\item 'self\\_lms'\n",
       "\\item 'device'\n",
       "\\item 'adaptivity\\_level'\n",
       "\\item 'age\\_numeric'\n",
       "\\end{enumerate*}\n"
      ],
      "text/markdown": [
       "1. 'gender'\n",
       "2. 'education_level'\n",
       "3. 'institution_type'\n",
       "4. 'it_student'\n",
       "5. 'location'\n",
       "6. 'load_shedding'\n",
       "7. 'financial_condition'\n",
       "8. 'internet_type'\n",
       "9. 'network_type'\n",
       "10. 'class_duration'\n",
       "11. 'self_lms'\n",
       "12. 'device'\n",
       "13. 'adaptivity_level'\n",
       "14. 'age_numeric'\n",
       "\n",
       "\n"
      ],
      "text/plain": [
       " [1] \"gender\"              \"education_level\"     \"institution_type\"   \n",
       " [4] \"it_student\"          \"location\"            \"load_shedding\"      \n",
       " [7] \"financial_condition\" \"internet_type\"       \"network_type\"       \n",
       "[10] \"class_duration\"      \"self_lms\"            \"device\"             \n",
       "[13] \"adaptivity_level\"    \"age_numeric\"        "
      ]
     },
     "metadata": {},
     "output_type": "display_data"
    }
   ],
   "source": [
    "# Check the column names to get column names\n",
    "colnames(data)"
   ]
  },
  {
   "cell_type": "code",
   "execution_count": 10,
   "id": "28dfdd71-e57c-4ff5-9d6f-616e4897ce8b",
   "metadata": {},
   "outputs": [
    {
     "data": {
      "text/html": [
       "<table class=\"dataframe\">\n",
       "<caption>A data.table: 6 × 14</caption>\n",
       "<thead>\n",
       "\t<tr><th scope=col>gender</th><th scope=col>education_level</th><th scope=col>institution_type</th><th scope=col>it_student</th><th scope=col>location</th><th scope=col>load_shedding</th><th scope=col>financial_condition</th><th scope=col>internet_type</th><th scope=col>network_type</th><th scope=col>class_duration</th><th scope=col>self_lms</th><th scope=col>device</th><th scope=col>adaptivity_level</th><th scope=col>age_numeric</th></tr>\n",
       "\t<tr><th scope=col>&lt;fct&gt;</th><th scope=col>&lt;fct&gt;</th><th scope=col>&lt;fct&gt;</th><th scope=col>&lt;fct&gt;</th><th scope=col>&lt;fct&gt;</th><th scope=col>&lt;fct&gt;</th><th scope=col>&lt;fct&gt;</th><th scope=col>&lt;fct&gt;</th><th scope=col>&lt;fct&gt;</th><th scope=col>&lt;fct&gt;</th><th scope=col>&lt;fct&gt;</th><th scope=col>&lt;fct&gt;</th><th scope=col>&lt;ord&gt;</th><th scope=col>&lt;dbl&gt;</th></tr>\n",
       "</thead>\n",
       "<tbody>\n",
       "\t<tr><td>Boy </td><td>University</td><td>Non Government</td><td>Yes</td><td>Yes</td><td>Low </td><td>Mid </td><td>Wifi       </td><td>4G</td><td>3-6</td><td>No</td><td>Computer</td><td>Low     </td><td>23</td></tr>\n",
       "\t<tr><td>Girl</td><td>College   </td><td>Non Government</td><td>No </td><td>Yes</td><td>Low </td><td>Mid </td><td>Wifi       </td><td>4G</td><td>1-3</td><td>No</td><td>Mobile  </td><td>Low     </td><td>18</td></tr>\n",
       "\t<tr><td>Girl</td><td>College   </td><td>Non Government</td><td>No </td><td>No </td><td>High</td><td>Mid </td><td>Wifi       </td><td>4G</td><td>3-6</td><td>No</td><td>Mobile  </td><td>Moderate</td><td>18</td></tr>\n",
       "\t<tr><td>Boy </td><td>School    </td><td>Non Government</td><td>No </td><td>Yes</td><td>Low </td><td>Mid </td><td>Mobile Data</td><td>3G</td><td>1-3</td><td>No</td><td>Mobile  </td><td>Moderate</td><td>13</td></tr>\n",
       "\t<tr><td>Girl</td><td>College   </td><td>Non Government</td><td>No </td><td>No </td><td>Low </td><td>Mid </td><td>Wifi       </td><td>4G</td><td>1-3</td><td>No</td><td>Mobile  </td><td>Low     </td><td>18</td></tr>\n",
       "\t<tr><td>Girl</td><td>School    </td><td>Non Government</td><td>No </td><td>Yes</td><td>Low </td><td>Poor</td><td>Mobile Data</td><td>3G</td><td>1-3</td><td>No</td><td>Mobile  </td><td>Moderate</td><td>13</td></tr>\n",
       "</tbody>\n",
       "</table>\n"
      ],
      "text/latex": [
       "A data.table: 6 × 14\n",
       "\\begin{tabular}{llllllllllllll}\n",
       " gender & education\\_level & institution\\_type & it\\_student & location & load\\_shedding & financial\\_condition & internet\\_type & network\\_type & class\\_duration & self\\_lms & device & adaptivity\\_level & age\\_numeric\\\\\n",
       " <fct> & <fct> & <fct> & <fct> & <fct> & <fct> & <fct> & <fct> & <fct> & <fct> & <fct> & <fct> & <ord> & <dbl>\\\\\n",
       "\\hline\n",
       "\t Boy  & University & Non Government & Yes & Yes & Low  & Mid  & Wifi        & 4G & 3-6 & No & Computer & Low      & 23\\\\\n",
       "\t Girl & College    & Non Government & No  & Yes & Low  & Mid  & Wifi        & 4G & 1-3 & No & Mobile   & Low      & 18\\\\\n",
       "\t Girl & College    & Non Government & No  & No  & High & Mid  & Wifi        & 4G & 3-6 & No & Mobile   & Moderate & 18\\\\\n",
       "\t Boy  & School     & Non Government & No  & Yes & Low  & Mid  & Mobile Data & 3G & 1-3 & No & Mobile   & Moderate & 13\\\\\n",
       "\t Girl & College    & Non Government & No  & No  & Low  & Mid  & Wifi        & 4G & 1-3 & No & Mobile   & Low      & 18\\\\\n",
       "\t Girl & School     & Non Government & No  & Yes & Low  & Poor & Mobile Data & 3G & 1-3 & No & Mobile   & Moderate & 13\\\\\n",
       "\\end{tabular}\n"
      ],
      "text/markdown": [
       "\n",
       "A data.table: 6 × 14\n",
       "\n",
       "| gender &lt;fct&gt; | education_level &lt;fct&gt; | institution_type &lt;fct&gt; | it_student &lt;fct&gt; | location &lt;fct&gt; | load_shedding &lt;fct&gt; | financial_condition &lt;fct&gt; | internet_type &lt;fct&gt; | network_type &lt;fct&gt; | class_duration &lt;fct&gt; | self_lms &lt;fct&gt; | device &lt;fct&gt; | adaptivity_level &lt;ord&gt; | age_numeric &lt;dbl&gt; |\n",
       "|---|---|---|---|---|---|---|---|---|---|---|---|---|---|\n",
       "| Boy  | University | Non Government | Yes | Yes | Low  | Mid  | Wifi        | 4G | 3-6 | No | Computer | Low      | 23 |\n",
       "| Girl | College    | Non Government | No  | Yes | Low  | Mid  | Wifi        | 4G | 1-3 | No | Mobile   | Low      | 18 |\n",
       "| Girl | College    | Non Government | No  | No  | High | Mid  | Wifi        | 4G | 3-6 | No | Mobile   | Moderate | 18 |\n",
       "| Boy  | School     | Non Government | No  | Yes | Low  | Mid  | Mobile Data | 3G | 1-3 | No | Mobile   | Moderate | 13 |\n",
       "| Girl | College    | Non Government | No  | No  | Low  | Mid  | Wifi        | 4G | 1-3 | No | Mobile   | Low      | 18 |\n",
       "| Girl | School     | Non Government | No  | Yes | Low  | Poor | Mobile Data | 3G | 1-3 | No | Mobile   | Moderate | 13 |\n",
       "\n"
      ],
      "text/plain": [
       "  gender education_level institution_type it_student location load_shedding\n",
       "1 Boy    University      Non Government   Yes        Yes      Low          \n",
       "2 Girl   College         Non Government   No         Yes      Low          \n",
       "3 Girl   College         Non Government   No         No       High         \n",
       "4 Boy    School          Non Government   No         Yes      Low          \n",
       "5 Girl   College         Non Government   No         No       Low          \n",
       "6 Girl   School          Non Government   No         Yes      Low          \n",
       "  financial_condition internet_type network_type class_duration self_lms\n",
       "1 Mid                 Wifi          4G           3-6            No      \n",
       "2 Mid                 Wifi          4G           1-3            No      \n",
       "3 Mid                 Wifi          4G           3-6            No      \n",
       "4 Mid                 Mobile Data   3G           1-3            No      \n",
       "5 Mid                 Wifi          4G           1-3            No      \n",
       "6 Poor                Mobile Data   3G           1-3            No      \n",
       "  device   adaptivity_level age_numeric\n",
       "1 Computer Low              23         \n",
       "2 Mobile   Low              18         \n",
       "3 Mobile   Moderate         18         \n",
       "4 Mobile   Moderate         13         \n",
       "5 Mobile   Low              18         \n",
       "6 Mobile   Moderate         13         "
      ]
     },
     "metadata": {},
     "output_type": "display_data"
    }
   ],
   "source": [
    "# Check the bottom of data to see the last observations\n",
    "tail(data)"
   ]
  },
  {
   "cell_type": "code",
   "execution_count": 11,
   "id": "bd9e4ff1-6bc5-4d98-b724-fad93b2995d8",
   "metadata": {},
   "outputs": [
    {
     "data": {
      "text/html": [
       "<style>\n",
       ".dl-inline {width: auto; margin:0; padding: 0}\n",
       ".dl-inline>dt, .dl-inline>dd {float: none; width: auto; display: inline-block}\n",
       ".dl-inline>dt::after {content: \":\\0020\"; padding-right: .5ex}\n",
       ".dl-inline>dt:not(:first-of-type) {padding-left: .5ex}\n",
       "</style><dl class=dl-inline><dt>gender</dt><dd>0</dd><dt>education_level</dt><dd>0</dd><dt>institution_type</dt><dd>0</dd><dt>it_student</dt><dd>0</dd><dt>location</dt><dd>0</dd><dt>load_shedding</dt><dd>0</dd><dt>financial_condition</dt><dd>0</dd><dt>internet_type</dt><dd>0</dd><dt>network_type</dt><dd>0</dd><dt>class_duration</dt><dd>0</dd><dt>self_lms</dt><dd>0</dd><dt>device</dt><dd>0</dd><dt>adaptivity_level</dt><dd>0</dd><dt>age_numeric</dt><dd>0</dd></dl>\n"
      ],
      "text/latex": [
       "\\begin{description*}\n",
       "\\item[gender] 0\n",
       "\\item[education\\textbackslash{}\\_level] 0\n",
       "\\item[institution\\textbackslash{}\\_type] 0\n",
       "\\item[it\\textbackslash{}\\_student] 0\n",
       "\\item[location] 0\n",
       "\\item[load\\textbackslash{}\\_shedding] 0\n",
       "\\item[financial\\textbackslash{}\\_condition] 0\n",
       "\\item[internet\\textbackslash{}\\_type] 0\n",
       "\\item[network\\textbackslash{}\\_type] 0\n",
       "\\item[class\\textbackslash{}\\_duration] 0\n",
       "\\item[self\\textbackslash{}\\_lms] 0\n",
       "\\item[device] 0\n",
       "\\item[adaptivity\\textbackslash{}\\_level] 0\n",
       "\\item[age\\textbackslash{}\\_numeric] 0\n",
       "\\end{description*}\n"
      ],
      "text/markdown": [
       "gender\n",
       ":   0education_level\n",
       ":   0institution_type\n",
       ":   0it_student\n",
       ":   0location\n",
       ":   0load_shedding\n",
       ":   0financial_condition\n",
       ":   0internet_type\n",
       ":   0network_type\n",
       ":   0class_duration\n",
       ":   0self_lms\n",
       ":   0device\n",
       ":   0adaptivity_level\n",
       ":   0age_numeric\n",
       ":   0\n",
       "\n"
      ],
      "text/plain": [
       "             gender     education_level    institution_type          it_student \n",
       "                  0                   0                   0                   0 \n",
       "           location       load_shedding financial_condition       internet_type \n",
       "                  0                   0                   0                   0 \n",
       "       network_type      class_duration            self_lms              device \n",
       "                  0                   0                   0                   0 \n",
       "   adaptivity_level         age_numeric \n",
       "                  0                   0 "
      ]
     },
     "metadata": {},
     "output_type": "display_data"
    }
   ],
   "source": [
    "# Check for missing values in each column\n",
    "colSums(is.na(data))"
   ]
  },
  {
   "cell_type": "code",
   "execution_count": 12,
   "id": "b6019c40-2f93-4dac-99e2-f727dfbb8dc0",
   "metadata": {},
   "outputs": [
    {
     "data": {
      "text/html": [
       "949"
      ],
      "text/latex": [
       "949"
      ],
      "text/markdown": [
       "949"
      ],
      "text/plain": [
       "[1] 949"
      ]
     },
     "metadata": {},
     "output_type": "display_data"
    }
   ],
   "source": [
    "# My interpretation for this type of data is not true duplicates. Though there are redundancy and rows has no unique keys\n",
    "# For this reason duplicates won't be drop\n",
    "duplicates <- duplicated(data)\n",
    "sum(duplicates)"
   ]
  },
  {
   "cell_type": "code",
   "execution_count": 13,
   "id": "289a9675-6fe8-476e-a72a-1506f9e2eff0",
   "metadata": {},
   "outputs": [],
   "source": [
    "# Create a new data frame without any duplicate rows\n",
    "# data <- unique(data)"
   ]
  },
  {
   "cell_type": "code",
   "execution_count": 14,
   "id": "c2dcf905-21dd-4309-a6d6-651a8555cb1f",
   "metadata": {},
   "outputs": [
    {
     "name": "stdout",
     "output_type": "stream",
     "text": [
      "NULL\n"
     ]
    }
   ],
   "source": [
    "# count remaining rows\n",
    "num_unique_rows <- nrow(df)\n",
    "print(num_unique_rows)"
   ]
  },
  {
   "cell_type": "code",
   "execution_count": 15,
   "id": "408a7d92-43a1-4c37-bd17-1e72f1d2e26f",
   "metadata": {},
   "outputs": [
    {
     "data": {
      "image/png": "[encoded data removed]",
      "text/plain": [
       "plot without title"
      ]
     },
     "metadata": {
      "image/png": {
       "height": 420,
       "width": 420
      }
     },
     "output_type": "display_data"
    }
   ],
   "source": [
    "naniar::gg_miss_var(data)  # Missing variables"
   ]
  },
  {
   "cell_type": "code",
   "execution_count": null,
   "id": "0ed88e4a-6013-4953-97e9-e3935d434478",
   "metadata": {},
   "outputs": [],
   "source": []
  },
  {
   "cell_type": "code",
   "execution_count": 16,
   "id": "987e5953-1eeb-4c9d-b58c-26e3bceb580b",
   "metadata": {},
   "outputs": [
    {
     "data": {
      "image/png": "[encoded data removed]",
      "text/plain": [
       "plot without title"
      ]
     },
     "metadata": {
      "image/png": {
       "height": 420,
       "width": 420
      }
     },
     "output_type": "display_data"
    }
   ],
   "source": [
    "# EDA for Equity Analysis\n",
    "# Example: Adaptability vs. Financial Condition\n",
    "data %>%\n",
    "  ggplot(aes(x = financial_condition, fill = adaptivity_level)) +\n",
    "  geom_bar(position = \"fill\") +\n",
    "  labs(title = \"Adaptability Level by Financial Condition\",\n",
    "       x = \"Financial Condition\",\n",
    "       y = \"Proportion of Students\")\n"
   ]
  },
  {
   "cell_type": "code",
   "execution_count": 17,
   "id": "c54125e4-f0fb-49f6-941c-f64ae84ee3cc",
   "metadata": {},
   "outputs": [],
   "source": [
    "write.csv(data, \"cleaned_data.csv\")"
   ]
  },
  {
   "cell_type": "code",
   "execution_count": 18,
   "id": "d9259e38-e8a4-4f42-9ae2-0168330d5eac",
   "metadata": {
    "scrolled": true
   },
   "outputs": [
    {
     "name": "stdout",
     "output_type": "stream",
     "text": [
      "Classes ‘data.table’ and 'data.frame':\t1205 obs. of  14 variables:\n",
      " $ gender             : Factor w/ 2 levels \"Boy\",\"Girl\": 1 2 2 2 2 1 1 1 1 1 ...\n",
      " $ education_level    : Factor w/ 3 levels \"College\",\"School\",..: 3 3 1 2 2 2 2 2 1 2 ...\n",
      " $ institution_type   : Factor w/ 2 levels \"Government\",\"Non Government\": 2 2 1 2 2 2 2 2 1 2 ...\n",
      " $ it_student         : Factor w/ 2 levels \"No\",\"Yes\": 1 1 1 1 1 1 1 1 1 1 ...\n",
      " $ location           : Factor w/ 2 levels \"No\",\"Yes\": 2 2 2 2 2 2 2 2 2 2 ...\n",
      " $ load_shedding      : Factor w/ 2 levels \"High\",\"Low\": 2 1 2 2 2 2 2 2 2 2 ...\n",
      " $ financial_condition: Factor w/ 3 levels \"Mid\",\"Poor\",\"Rich\": 1 1 1 1 2 2 1 1 1 1 ...\n",
      " $ internet_type      : Factor w/ 2 levels \"Mobile Data\",..: 2 1 2 1 1 1 2 2 2 1 ...\n",
      " $ network_type       : Factor w/ 3 levels \"2G\",\"3G\",\"4G\": 3 3 3 3 2 2 3 3 3 2 ...\n",
      " $ class_duration     : Factor w/ 3 levels \"0\",\"1-3\",\"3-6\": 3 2 2 2 1 2 1 2 2 2 ...\n",
      " $ self_lms           : Factor w/ 2 levels \"No\",\"Yes\": 1 2 1 1 1 1 1 1 1 1 ...\n",
      " $ device             : Factor w/ 3 levels \"Computer\",\"Mobile\",..: 3 2 2 2 2 2 2 2 2 2 ...\n",
      " $ adaptivity_level   : Ord.factor w/ 3 levels \"Low\"<\"Moderate\"<..: 2 2 2 2 1 1 1 2 1 2 ...\n",
      " $ age_numeric        : num  23 23 18 13 18 13 13 13 18 13 ...\n",
      " - attr(*, \".internal.selfref\")=<externalptr> \n"
     ]
    }
   ],
   "source": [
    "str(data)"
   ]
  },
  {
   "cell_type": "code",
   "execution_count": 19,
   "id": "3b7f2954-aad9-4701-8002-00515f6b6448",
   "metadata": {},
   "outputs": [
    {
     "data": {
      "text/html": [
       "<style>\n",
       ".list-inline {list-style: none; margin:0; padding: 0}\n",
       ".list-inline>li {display: inline-block}\n",
       ".list-inline>li:not(:last-child)::after {content: \"\\00b7\"; padding: 0 .5ex}\n",
       "</style>\n",
       "<ol class=list-inline><li>1205</li><li>14</li></ol>\n"
      ],
      "text/latex": [
       "\\begin{enumerate*}\n",
       "\\item 1205\n",
       "\\item 14\n",
       "\\end{enumerate*}\n"
      ],
      "text/markdown": [
       "1. 1205\n",
       "2. 14\n",
       "\n",
       "\n"
      ],
      "text/plain": [
       "[1] 1205   14"
      ]
     },
     "metadata": {},
     "output_type": "display_data"
    }
   ],
   "source": [
    "dim(data)"
   ]
  },
  {
   "cell_type": "code",
   "execution_count": 20,
   "id": "e4557a8a-ed4e-4a8b-b156-39f07f5f87fc",
   "metadata": {},
   "outputs": [
    {
     "name": "stdout",
     "output_type": "stream",
     "text": [
      "numeric(0)\n"
     ]
    }
   ],
   "source": [
    "# Outliers detection using Z-scores\n",
    "values <- data$age_numeric\n",
    "mean_value <- mean(values, na.rm = TRUE)\n",
    "sd_value <- sd(values, na.rm = TRUE)\n",
    "z_scores <- (values - mean_value) / sd_value\n",
    "outliers <- values[abs(z_scores) > 3]\n",
    "print(outliers)"
   ]
  }
 ],
 "metadata": {
  "kernelspec": {
   "display_name": "R",
   "language": "R",
   "name": "ir"
  },
  "language_info": {
   "codemirror_mode": "r",
   "file_extension": ".r",
   "mimetype": "text/x-r-source",
   "name": "R",
   "pygments_lexer": "r",
   "version": "4.4.2"
  }
 },
 "nbformat": 4,
 "nbformat_minor": 5
}
