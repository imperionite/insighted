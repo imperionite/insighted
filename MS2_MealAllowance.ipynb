{
 "cells": [
  {
   "cell_type": "markdown",
   "id": "d58d0bca-68b3-46be-9c55-0980e5efc8f5",
   "metadata": {},
   "source": [
    "# Meal Allowance Optimization: Price, Inflation and Prediction\n",
    "\n",
    "## **Introduction**\n",
    "\n",
    "[Employee meal allowances are essential elements of compensation packages](https://www.hubengage.com/employee-experience/significance-and-impact-of-employee-allowances/), directly influencing employee satisfaction and well-being. However, [fluctuating food prices and inflation can challenge the maintenance of their real value](https://www.shrm.org/topics-tools/flagships/all-things-work/the-wage-inflation-challenge----balancing-business-sustainabilit). This project [addresses the need for a data-driven approach to optimize MotorPH's employee meal allowance, ensuring its continued adequacy and relevance](https://business.doordash.com/en-us/resources/research-shows-meal-benefits-improve-employee-satisfaction). By leveraging [historical food price data and economic indicators, the study provides actionable insights and recommendations](https://psa.gov.ph/price-indices/cpi-ir?utm_source=chatgpt.com). The project employs R and Jupyter Lab as powerful tools for data analysis, visualization, and statistical modeling, demonstrating their practical utility in solving real-world business challenges.\n",
    "\n",
    "## **Objectives**\n",
    "\n",
    "The primary objectives of this project are as follows:\n",
    "\n",
    "- To develop a base meal price model using historical food price data from MotorPH's data repository.\n",
    "- To implement an inflation-adjusted meal allowance model using the Consumer Price Index (CPI) and a proxy Cost of Living Adjustment (COLA).\n",
    "- To create a predictive model to forecast future meal costs, enabling proactive budgeting.\n",
    "- To provide data-driven recommendations for optimizing MotorPH's employee meal allowance.\n",
    "\n",
    "**Data Cleaning and Preparation**\n",
    "- Main Dataset: [Food Prices](https://github.com/imperionite/insighted/blob/main/DataCleaning_FoodPrices.ipynb)\n",
    "- Supplementary Dataset: [Employees Record](https://github.com/imperionite/insighted/blob/main/DataCleaning_Employees.ipynb)"
   ]
  },
  {
   "cell_type": "code",
   "execution_count": 7,
   "id": "4e198d2d-7a20-43c5-9360-0b19e7e0583b",
   "metadata": {},
   "outputs": [],
   "source": [
    "# Load Libraries\n",
    "library(ggplot2)\n",
    "library(dplyr)\n",
    "library(lubridate) \n",
    "library(RColorBrewer)\n",
    "library(viridis)\n",
    "library(tidyr)  "
   ]
  },
  {
   "cell_type": "code",
   "execution_count": 8,
   "id": "9ee6615a-393b-40ba-978d-b2ccb3a1c030",
   "metadata": {},
   "outputs": [],
   "source": [
    "options(repr.plot.width = 14, repr.plot.height = 11)\n",
    "# Load CSV\n",
    "food_prices <- read.csv(\"food_prices_ph_cleaned.csv\", stringsAsFactors = TRUE)\n",
    "employees <- read.csv(\"employees_details_cleaned.csv\", stringsAsFactors = TRUE)\n",
    "\n",
    "# Convert Date to date format\n",
    "food_prices$Date <- as.Date(food_prices$Date)\n",
    "\n",
    "# Ensure that numeric columns are properly formatted\n",
    "food_prices$Price <- as.numeric(food_prices$Price)\n",
    "\n",
    "# Extract year\n",
    "food_prices$Year <- year(food_prices$Date)\n",
    "\n",
    "\n",
    "# Filter for dates from 2019 onwards and exclude Unit entries\n",
    "food_prices <- food_prices %>%\n",
    "  filter(year(Date) >= 2019, Unit != \"Unit\")\n",
    "\n",
    "\n",
    "# Exclude Unit entries\n",
    "food_prices <- food_prices %>%\n",
    "  filter(Unit != \"Unit\")\n"
   ]
  },
  {
   "cell_type": "markdown",
   "id": "3ba6c426-f6d4-431d-9c5f-dde820ecf0c6",
   "metadata": {},
   "source": [
    "### Option 1: Meal Price Model Development"
   ]
  },
  {
   "cell_type": "code",
   "execution_count": null,
   "id": "c39dbf0b-7899-429b-899e-4b740f3b4997",
   "metadata": {},
   "outputs": [],
   "source": []
  }
 ],
 "metadata": {
  "kernelspec": {
   "display_name": "R",
   "language": "R",
   "name": "ir"
  },
  "language_info": {
   "codemirror_mode": "r",
   "file_extension": ".r",
   "mimetype": "text/x-r-source",
   "name": "R",
   "pygments_lexer": "r",
   "version": "4.4.2"
  }
 },
 "nbformat": 4,
 "nbformat_minor": 5
}
