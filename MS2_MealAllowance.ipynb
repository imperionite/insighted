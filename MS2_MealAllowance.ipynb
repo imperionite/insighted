{
 "cells": [
  {
   "cell_type": "markdown",
   "id": "d58d0bca-68b3-46be-9c55-0980e5efc8f5",
   "metadata": {},
   "source": [
    "# Meal Allowance Optimization: Price, Inflation, Prediction\n",
    "\n",
    "## **Introduction**\n",
    "\n",
    "In any organization, employee satisfaction is directly tied to their well-being, which encompasses physical, emotional, and financial health. As part of employee welfare, providing adequate meal allowances is one of the primary considerations. The Philippine workplace context, particularly in private sector companies such as MotorPH, often faces challenges in ensuring that employees receive sufficient allowances that reflect their needs while being sustainable for the company.\n",
    "\n",
    "This study explores the feasibility of implementing a **meal allowance system** at MotorPH, aiming to balance **employee well-being**, **inflation adjustments**, and the **company’s budgetary constraints**. We propose a **Meal Price Model** to standardize meal allowance, leveraging historical price data and employee salary information. We also consider adjusting for the **Cost of Living** (COLA) and **inflation** to ensure that the meal allowance remains relevant over time.\n",
    "\n",
    "## **Objectives**\n",
    "\n",
    "The primary objectives of this project are:\n",
    "1. **To develop a Meal Price Model** based on common meal components and the costs of essential commodities (e.g., proteins, carbohydrates, vegetables, fruits).\n",
    "2. **To estimate the range of appropriate meal allowances** for MotorPH employees based on employee salaries, adjusting for factors such as inflation and the cost of living.\n",
    "3. **To propose three meal allowance options** that balance employee needs with the company's budget. The options will take into account employee well-being, inflation factors, and fair compensation based on salary bands."
   ]
  },
  {
   "cell_type": "code",
   "execution_count": 7,
   "id": "4e198d2d-7a20-43c5-9360-0b19e7e0583b",
   "metadata": {},
   "outputs": [],
   "source": [
    "# Load Libraries\n",
    "library(ggplot2)\n",
    "library(dplyr)\n",
    "library(lubridate) \n",
    "library(RColorBrewer)\n",
    "library(viridis)\n",
    "library(tidyr)  "
   ]
  },
  {
   "cell_type": "code",
   "execution_count": 8,
   "id": "9ee6615a-393b-40ba-978d-b2ccb3a1c030",
   "metadata": {},
   "outputs": [],
   "source": [
    "options(repr.plot.width = 14, repr.plot.height = 11)\n",
    "# Load CSV\n",
    "food_prices <- read.csv(\"food_prices_ph_cleaned.csv\", stringsAsFactors = TRUE)\n",
    "employees <- read.csv(\"employees_details_cleaned.csv\", stringsAsFactors = TRUE)\n",
    "\n",
    "# Convert Date to date format\n",
    "food_prices$Date <- as.Date(food_prices$Date)\n",
    "\n",
    "# Ensure that numeric columns are properly formatted\n",
    "food_prices$Price <- as.numeric(food_prices$Price)\n",
    "\n",
    "# Extract year\n",
    "food_prices$Year <- year(food_prices$Date)\n",
    "\n",
    "\n",
    "# Filter for dates from 2019 onwards and exclude Unit entries\n",
    "food_prices <- food_prices %>%\n",
    "  filter(year(Date) >= 2019, Unit != \"Unit\")\n",
    "\n",
    "\n",
    "# Exclude Unit entries\n",
    "food_prices <- food_prices %>%\n",
    "  filter(Unit != \"Unit\")\n"
   ]
  },
  {
   "cell_type": "markdown",
   "id": "3ba6c426-f6d4-431d-9c5f-dde820ecf0c6",
   "metadata": {},
   "source": [
    "### Option 1: Meal Price Model Development"
   ]
  },
  {
   "cell_type": "code",
   "execution_count": null,
   "id": "c39dbf0b-7899-429b-899e-4b740f3b4997",
   "metadata": {},
   "outputs": [],
   "source": []
  }
 ],
 "metadata": {
  "kernelspec": {
   "display_name": "R",
   "language": "R",
   "name": "ir"
  },
  "language_info": {
   "codemirror_mode": "r",
   "file_extension": ".r",
   "mimetype": "text/x-r-source",
   "name": "R",
   "pygments_lexer": "r",
   "version": "4.4.2"
  }
 },
 "nbformat": 4,
 "nbformat_minor": 5
}
