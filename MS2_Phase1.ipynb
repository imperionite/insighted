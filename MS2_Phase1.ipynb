{
 "cells": [
  {
   "cell_type": "code",
   "execution_count": 248,
   "id": "6b2f74f5-f60e-4762-bfee-04ecda4135b7",
   "metadata": {},
   "outputs": [],
   "source": [
    "library(dplyr)\n",
    "library(ggplot2)\n",
    "library(rlang)"
   ]
  },
  {
   "cell_type": "code",
   "execution_count": 249,
   "id": "13f89072-1675-4876-93c4-6232668c5013",
   "metadata": {},
   "outputs": [],
   "source": [
    "options(repr.plot.width = 8, repr.plot.height = 8)"
   ]
  },
  {
   "cell_type": "code",
   "execution_count": 250,
   "id": "b0fa4513-ca23-42f9-8249-7f51d2222201",
   "metadata": {},
   "outputs": [
    {
     "name": "stdout",
     "output_type": "stream",
     "text": [
      "'data.frame':\t104147 obs. of  11 variables:\n",
      " $ Date      : Factor w/ 264 levels \"2000-01-15\",\"2000-02-15\",..: 1 1 1 1 1 1 1 1 1 1 ...\n",
      " $ Region    : Factor w/ 17 levels \"Autonomous region in Muslim Mindanao\",..: 3 3 3 3 3 3 6 6 6 9 ...\n",
      " $ Location  : Factor w/ 79 levels \"Abra\",\"Agusan del Norte\",..: 46 46 46 46 46 46 54 54 54 79 ...\n",
      " $ Market    : Factor w/ 108 levels \"Abra\",\"Agusan del Norte\",..: 64 64 64 64 64 64 77 77 77 105 ...\n",
      " $ Category  : Factor w/ 6 levels \"cereals and tubers\",..: 1 1 1 1 1 2 1 1 2 1 ...\n",
      " $ Commodity : Factor w/ 73 levels \"Anchovies\",\"Bananas (lakatan)\",..: 39 56 56 59 59 46 56 56 46 59 ...\n",
      " $ Unit      : Factor w/ 3 levels \"750 ML\",\"KG\",..: 2 2 2 2 2 2 2 2 2 2 ...\n",
      " $ Price.Flag: Factor w/ 2 levels \"actual\",\"aggregate\": 1 1 1 1 1 1 1 1 1 1 ...\n",
      " $ Price.Type: Factor w/ 3 levels \"Farm Gate\",\"Retail\",..: 2 2 3 2 3 2 2 3 2 2 ...\n",
      " $ Currency  : Factor w/ 1 level \"PHP\": 1 1 1 1 1 1 1 1 1 1 ...\n",
      " $ Price     : num  15 20 18.4 18 16.4 ...\n"
     ]
    }
   ],
   "source": [
    "# Load the data\n",
    "df <- read.csv(\"food_prices_ph.csv\", stringsAsFactors = TRUE)\n",
    "\n",
    "# Check the structure of the data\n",
    "str(df)"
   ]
  },
  {
   "cell_type": "code",
   "execution_count": 251,
   "id": "0bcc19c3-f0ed-4a24-be3a-3b93333b77ef",
   "metadata": {},
   "outputs": [
    {
     "data": {
      "text/html": [
       "<table class=\"dataframe\">\n",
       "<caption>A data.frame: 6 × 11</caption>\n",
       "<thead>\n",
       "\t<tr><th></th><th scope=col>Date</th><th scope=col>Region</th><th scope=col>Location</th><th scope=col>Market</th><th scope=col>Category</th><th scope=col>Commodity</th><th scope=col>Unit</th><th scope=col>Price.Flag</th><th scope=col>Price.Type</th><th scope=col>Currency</th><th scope=col>Price</th></tr>\n",
       "\t<tr><th></th><th scope=col>&lt;fct&gt;</th><th scope=col>&lt;fct&gt;</th><th scope=col>&lt;fct&gt;</th><th scope=col>&lt;fct&gt;</th><th scope=col>&lt;fct&gt;</th><th scope=col>&lt;fct&gt;</th><th scope=col>&lt;fct&gt;</th><th scope=col>&lt;fct&gt;</th><th scope=col>&lt;fct&gt;</th><th scope=col>&lt;fct&gt;</th><th scope=col>&lt;dbl&gt;</th></tr>\n",
       "</thead>\n",
       "<tbody>\n",
       "\t<tr><th scope=row>1</th><td>2000-01-15</td><td>National Capital region</td><td>Metropolitan Manila</td><td>Metro Manila</td><td>cereals and tubers </td><td>Maize flour (yellow)   </td><td>KG</td><td>actual</td><td>Retail   </td><td>PHP</td><td> 15.00</td></tr>\n",
       "\t<tr><th scope=row>2</th><td>2000-01-15</td><td>National Capital region</td><td>Metropolitan Manila</td><td>Metro Manila</td><td>cereals and tubers </td><td>Rice (milled, superior)</td><td>KG</td><td>actual</td><td>Retail   </td><td>PHP</td><td> 20.00</td></tr>\n",
       "\t<tr><th scope=row>3</th><td>2000-01-15</td><td>National Capital region</td><td>Metropolitan Manila</td><td>Metro Manila</td><td>cereals and tubers </td><td>Rice (milled, superior)</td><td>KG</td><td>actual</td><td>Wholesale</td><td>PHP</td><td> 18.35</td></tr>\n",
       "\t<tr><th scope=row>4</th><td>2000-01-15</td><td>National Capital region</td><td>Metropolitan Manila</td><td>Metro Manila</td><td>cereals and tubers </td><td>Rice (regular, milled) </td><td>KG</td><td>actual</td><td>Retail   </td><td>PHP</td><td> 18.00</td></tr>\n",
       "\t<tr><th scope=row>5</th><td>2000-01-15</td><td>National Capital region</td><td>Metropolitan Manila</td><td>Metro Manila</td><td>cereals and tubers </td><td>Rice (regular, milled) </td><td>KG</td><td>actual</td><td>Wholesale</td><td>PHP</td><td> 16.35</td></tr>\n",
       "\t<tr><th scope=row>6</th><td>2000-01-15</td><td>National Capital region</td><td>Metropolitan Manila</td><td>Metro Manila</td><td>meat, fish and eggs</td><td>Meat (pork)            </td><td>KG</td><td>actual</td><td>Retail   </td><td>PHP</td><td>105.37</td></tr>\n",
       "</tbody>\n",
       "</table>\n"
      ],
      "text/latex": [
       "A data.frame: 6 × 11\n",
       "\\begin{tabular}{r|lllllllllll}\n",
       "  & Date & Region & Location & Market & Category & Commodity & Unit & Price.Flag & Price.Type & Currency & Price\\\\\n",
       "  & <fct> & <fct> & <fct> & <fct> & <fct> & <fct> & <fct> & <fct> & <fct> & <fct> & <dbl>\\\\\n",
       "\\hline\n",
       "\t1 & 2000-01-15 & National Capital region & Metropolitan Manila & Metro Manila & cereals and tubers  & Maize flour (yellow)    & KG & actual & Retail    & PHP &  15.00\\\\\n",
       "\t2 & 2000-01-15 & National Capital region & Metropolitan Manila & Metro Manila & cereals and tubers  & Rice (milled, superior) & KG & actual & Retail    & PHP &  20.00\\\\\n",
       "\t3 & 2000-01-15 & National Capital region & Metropolitan Manila & Metro Manila & cereals and tubers  & Rice (milled, superior) & KG & actual & Wholesale & PHP &  18.35\\\\\n",
       "\t4 & 2000-01-15 & National Capital region & Metropolitan Manila & Metro Manila & cereals and tubers  & Rice (regular, milled)  & KG & actual & Retail    & PHP &  18.00\\\\\n",
       "\t5 & 2000-01-15 & National Capital region & Metropolitan Manila & Metro Manila & cereals and tubers  & Rice (regular, milled)  & KG & actual & Wholesale & PHP &  16.35\\\\\n",
       "\t6 & 2000-01-15 & National Capital region & Metropolitan Manila & Metro Manila & meat, fish and eggs & Meat (pork)             & KG & actual & Retail    & PHP & 105.37\\\\\n",
       "\\end{tabular}\n"
      ],
      "text/markdown": [
       "\n",
       "A data.frame: 6 × 11\n",
       "\n",
       "| <!--/--> | Date &lt;fct&gt; | Region &lt;fct&gt; | Location &lt;fct&gt; | Market &lt;fct&gt; | Category &lt;fct&gt; | Commodity &lt;fct&gt; | Unit &lt;fct&gt; | Price.Flag &lt;fct&gt; | Price.Type &lt;fct&gt; | Currency &lt;fct&gt; | Price &lt;dbl&gt; |\n",
       "|---|---|---|---|---|---|---|---|---|---|---|---|\n",
       "| 1 | 2000-01-15 | National Capital region | Metropolitan Manila | Metro Manila | cereals and tubers  | Maize flour (yellow)    | KG | actual | Retail    | PHP |  15.00 |\n",
       "| 2 | 2000-01-15 | National Capital region | Metropolitan Manila | Metro Manila | cereals and tubers  | Rice (milled, superior) | KG | actual | Retail    | PHP |  20.00 |\n",
       "| 3 | 2000-01-15 | National Capital region | Metropolitan Manila | Metro Manila | cereals and tubers  | Rice (milled, superior) | KG | actual | Wholesale | PHP |  18.35 |\n",
       "| 4 | 2000-01-15 | National Capital region | Metropolitan Manila | Metro Manila | cereals and tubers  | Rice (regular, milled)  | KG | actual | Retail    | PHP |  18.00 |\n",
       "| 5 | 2000-01-15 | National Capital region | Metropolitan Manila | Metro Manila | cereals and tubers  | Rice (regular, milled)  | KG | actual | Wholesale | PHP |  16.35 |\n",
       "| 6 | 2000-01-15 | National Capital region | Metropolitan Manila | Metro Manila | meat, fish and eggs | Meat (pork)             | KG | actual | Retail    | PHP | 105.37 |\n",
       "\n"
      ],
      "text/plain": [
       "  Date       Region                  Location            Market      \n",
       "1 2000-01-15 National Capital region Metropolitan Manila Metro Manila\n",
       "2 2000-01-15 National Capital region Metropolitan Manila Metro Manila\n",
       "3 2000-01-15 National Capital region Metropolitan Manila Metro Manila\n",
       "4 2000-01-15 National Capital region Metropolitan Manila Metro Manila\n",
       "5 2000-01-15 National Capital region Metropolitan Manila Metro Manila\n",
       "6 2000-01-15 National Capital region Metropolitan Manila Metro Manila\n",
       "  Category            Commodity               Unit Price.Flag Price.Type\n",
       "1 cereals and tubers  Maize flour (yellow)    KG   actual     Retail    \n",
       "2 cereals and tubers  Rice (milled, superior) KG   actual     Retail    \n",
       "3 cereals and tubers  Rice (milled, superior) KG   actual     Wholesale \n",
       "4 cereals and tubers  Rice (regular, milled)  KG   actual     Retail    \n",
       "5 cereals and tubers  Rice (regular, milled)  KG   actual     Wholesale \n",
       "6 meat, fish and eggs Meat (pork)             KG   actual     Retail    \n",
       "  Currency Price \n",
       "1 PHP       15.00\n",
       "2 PHP       20.00\n",
       "3 PHP       18.35\n",
       "4 PHP       18.00\n",
       "5 PHP       16.35\n",
       "6 PHP      105.37"
      ]
     },
     "metadata": {},
     "output_type": "display_data"
    }
   ],
   "source": [
    "# Check the first 6 rows in the dataframe (df)\n",
    "head(df)"
   ]
  },
  {
   "cell_type": "code",
   "execution_count": 252,
   "id": "e942a444-3866-4a68-b328-0e843c3d2580",
   "metadata": {},
   "outputs": [
    {
     "data": {
      "text/html": [
       "<style>\n",
       ".list-inline {list-style: none; margin:0; padding: 0}\n",
       ".list-inline>li {display: inline-block}\n",
       ".list-inline>li:not(:last-child)::after {content: \"\\00b7\"; padding: 0 .5ex}\n",
       "</style>\n",
       "<ol class=list-inline><li>104147</li><li>11</li></ol>\n"
      ],
      "text/latex": [
       "\\begin{enumerate*}\n",
       "\\item 104147\n",
       "\\item 11\n",
       "\\end{enumerate*}\n"
      ],
      "text/markdown": [
       "1. 104147\n",
       "2. 11\n",
       "\n",
       "\n"
      ],
      "text/plain": [
       "[1] 104147     11"
      ]
     },
     "metadata": {},
     "output_type": "display_data"
    }
   ],
   "source": [
    "# check df dimensions; check for the # of rows as observations\n",
    "dim(df)"
   ]
  },
  {
   "cell_type": "code",
   "execution_count": 253,
   "id": "9b7ac9ab-b7b0-44ae-8542-5a9be907e051",
   "metadata": {},
   "outputs": [
    {
     "data": {
      "text/html": [
       "<style>\n",
       ".list-inline {list-style: none; margin:0; padding: 0}\n",
       ".list-inline>li {display: inline-block}\n",
       ".list-inline>li:not(:last-child)::after {content: \"\\00b7\"; padding: 0 .5ex}\n",
       "</style>\n",
       "<ol class=list-inline><li>'Date'</li><li>'Region'</li><li>'Location'</li><li>'Market'</li><li>'Category'</li><li>'Commodity'</li><li>'Unit'</li><li>'Price.Flag'</li><li>'Price.Type'</li><li>'Currency'</li><li>'Price'</li></ol>\n"
      ],
      "text/latex": [
       "\\begin{enumerate*}\n",
       "\\item 'Date'\n",
       "\\item 'Region'\n",
       "\\item 'Location'\n",
       "\\item 'Market'\n",
       "\\item 'Category'\n",
       "\\item 'Commodity'\n",
       "\\item 'Unit'\n",
       "\\item 'Price.Flag'\n",
       "\\item 'Price.Type'\n",
       "\\item 'Currency'\n",
       "\\item 'Price'\n",
       "\\end{enumerate*}\n"
      ],
      "text/markdown": [
       "1. 'Date'\n",
       "2. 'Region'\n",
       "3. 'Location'\n",
       "4. 'Market'\n",
       "5. 'Category'\n",
       "6. 'Commodity'\n",
       "7. 'Unit'\n",
       "8. 'Price.Flag'\n",
       "9. 'Price.Type'\n",
       "10. 'Currency'\n",
       "11. 'Price'\n",
       "\n",
       "\n"
      ],
      "text/plain": [
       " [1] \"Date\"       \"Region\"     \"Location\"   \"Market\"     \"Category\"  \n",
       " [6] \"Commodity\"  \"Unit\"       \"Price.Flag\" \"Price.Type\" \"Currency\"  \n",
       "[11] \"Price\"     "
      ]
     },
     "metadata": {},
     "output_type": "display_data"
    }
   ],
   "source": [
    "# Check the column names\n",
    "colnames(df)"
   ]
  },
  {
   "cell_type": "code",
   "execution_count": 254,
   "id": "d3e403c8-0e7c-41b4-a8db-a3f6a8798976",
   "metadata": {},
   "outputs": [
    {
     "data": {
      "text/html": [
       "<style>\n",
       ".dl-inline {width: auto; margin:0; padding: 0}\n",
       ".dl-inline>dt, .dl-inline>dd {float: none; width: auto; display: inline-block}\n",
       ".dl-inline>dt::after {content: \":\\0020\"; padding-right: .5ex}\n",
       ".dl-inline>dt:not(:first-of-type) {padding-left: .5ex}\n",
       "</style><dl class=dl-inline><dt>Date</dt><dd>0</dd><dt>Region</dt><dd>0</dd><dt>Location</dt><dd>0</dd><dt>Market</dt><dd>0</dd><dt>Category</dt><dd>0</dd><dt>Commodity</dt><dd>0</dd><dt>Unit</dt><dd>0</dd><dt>Price.Flag</dt><dd>0</dd><dt>Price.Type</dt><dd>0</dd><dt>Currency</dt><dd>0</dd><dt>Price</dt><dd>0</dd></dl>\n"
      ],
      "text/latex": [
       "\\begin{description*}\n",
       "\\item[Date] 0\n",
       "\\item[Region] 0\n",
       "\\item[Location] 0\n",
       "\\item[Market] 0\n",
       "\\item[Category] 0\n",
       "\\item[Commodity] 0\n",
       "\\item[Unit] 0\n",
       "\\item[Price.Flag] 0\n",
       "\\item[Price.Type] 0\n",
       "\\item[Currency] 0\n",
       "\\item[Price] 0\n",
       "\\end{description*}\n"
      ],
      "text/markdown": [
       "Date\n",
       ":   0Region\n",
       ":   0Location\n",
       ":   0Market\n",
       ":   0Category\n",
       ":   0Commodity\n",
       ":   0Unit\n",
       ":   0Price.Flag\n",
       ":   0Price.Type\n",
       ":   0Currency\n",
       ":   0Price\n",
       ":   0\n",
       "\n"
      ],
      "text/plain": [
       "      Date     Region   Location     Market   Category  Commodity       Unit \n",
       "         0          0          0          0          0          0          0 \n",
       "Price.Flag Price.Type   Currency      Price \n",
       "         0          0          0          0 "
      ]
     },
     "metadata": {},
     "output_type": "display_data"
    }
   ],
   "source": [
    "# Check for missing values in each column\n",
    "colSums(is.na(df))"
   ]
  },
  {
   "cell_type": "code",
   "execution_count": 255,
   "id": "3e00630b-d095-4987-a40a-7477218cb9e3",
   "metadata": {},
   "outputs": [
    {
     "data": {
      "text/html": [
       "0"
      ],
      "text/latex": [
       "0"
      ],
      "text/markdown": [
       "0"
      ],
      "text/plain": [
       "[1] 0"
      ]
     },
     "metadata": {},
     "output_type": "display_data"
    }
   ],
   "source": [
    "# Check for duplicate rows\n",
    "duplicates <- duplicated(df)\n",
    "sum(duplicates)"
   ]
  },
  {
   "cell_type": "code",
   "execution_count": 256,
   "id": "c92bd302-b55e-459f-b4ec-acf1b32e6b11",
   "metadata": {},
   "outputs": [
    {
     "data": {
      "text/html": [
       "'Price'"
      ],
      "text/latex": [
       "'Price'"
      ],
      "text/markdown": [
       "'Price'"
      ],
      "text/plain": [
       "[1] \"Price\""
      ]
     },
     "metadata": {},
     "output_type": "display_data"
    },
    {
     "data": {
      "text/html": [
       "<style>\n",
       ".list-inline {list-style: none; margin:0; padding: 0}\n",
       ".list-inline>li {display: inline-block}\n",
       ".list-inline>li:not(:last-child)::after {content: \"\\00b7\"; padding: 0 .5ex}\n",
       "</style>\n",
       "<ol class=list-inline><li>'Date'</li><li>'Region'</li><li>'Location'</li><li>'Market'</li><li>'Category'</li><li>'Commodity'</li><li>'Unit'</li><li>'Price.Flag'</li><li>'Price.Type'</li><li>'Currency'</li></ol>\n"
      ],
      "text/latex": [
       "\\begin{enumerate*}\n",
       "\\item 'Date'\n",
       "\\item 'Region'\n",
       "\\item 'Location'\n",
       "\\item 'Market'\n",
       "\\item 'Category'\n",
       "\\item 'Commodity'\n",
       "\\item 'Unit'\n",
       "\\item 'Price.Flag'\n",
       "\\item 'Price.Type'\n",
       "\\item 'Currency'\n",
       "\\end{enumerate*}\n"
      ],
      "text/markdown": [
       "1. 'Date'\n",
       "2. 'Region'\n",
       "3. 'Location'\n",
       "4. 'Market'\n",
       "5. 'Category'\n",
       "6. 'Commodity'\n",
       "7. 'Unit'\n",
       "8. 'Price.Flag'\n",
       "9. 'Price.Type'\n",
       "10. 'Currency'\n",
       "\n",
       "\n"
      ],
      "text/plain": [
       " [1] \"Date\"       \"Region\"     \"Location\"   \"Market\"     \"Category\"  \n",
       " [6] \"Commodity\"  \"Unit\"       \"Price.Flag\" \"Price.Type\" \"Currency\"  "
      ]
     },
     "metadata": {},
     "output_type": "display_data"
    }
   ],
   "source": [
    "# Identify numeric columns\n",
    "numeric_cols <- names(df)[sapply(df, is.numeric)]\n",
    "\n",
    "# Identify categorical (factor) columns\n",
    "categorical_cols <- names(df)[sapply(df, is.factor)]\n",
    "\n",
    "# Output the results\n",
    "numeric_cols\n",
    "categorical_cols\n"
   ]
  },
  {
   "cell_type": "code",
   "execution_count": 257,
   "id": "2dc885f5-e4e9-49a1-b6b1-55cac6e768d3",
   "metadata": {},
   "outputs": [
    {
     "data": {
      "text/html": [
       "<style>\n",
       ".dl-inline {width: auto; margin:0; padding: 0}\n",
       ".dl-inline>dt, .dl-inline>dd {float: none; width: auto; display: inline-block}\n",
       ".dl-inline>dt::after {content: \":\\0020\"; padding-right: .5ex}\n",
       ".dl-inline>dt:not(:first-of-type) {padding-left: .5ex}\n",
       "</style><dl class=dl-inline><dt>Date</dt><dd>0</dd><dt>Region</dt><dd>0</dd><dt>Location</dt><dd>0</dd><dt>Market</dt><dd>0</dd><dt>Category</dt><dd>0</dd><dt>Commodity</dt><dd>0</dd><dt>Unit</dt><dd>0</dd><dt>Price.Flag</dt><dd>0</dd><dt>Price.Type</dt><dd>0</dd><dt>Currency</dt><dd>0</dd><dt>Price</dt><dd>4936</dd></dl>\n"
      ],
      "text/latex": [
       "\\begin{description*}\n",
       "\\item[Date] 0\n",
       "\\item[Region] 0\n",
       "\\item[Location] 0\n",
       "\\item[Market] 0\n",
       "\\item[Category] 0\n",
       "\\item[Commodity] 0\n",
       "\\item[Unit] 0\n",
       "\\item[Price.Flag] 0\n",
       "\\item[Price.Type] 0\n",
       "\\item[Currency] 0\n",
       "\\item[Price] 4936\n",
       "\\end{description*}\n"
      ],
      "text/markdown": [
       "Date\n",
       ":   0Region\n",
       ":   0Location\n",
       ":   0Market\n",
       ":   0Category\n",
       ":   0Commodity\n",
       ":   0Unit\n",
       ":   0Price.Flag\n",
       ":   0Price.Type\n",
       ":   0Currency\n",
       ":   0Price\n",
       ":   4936\n",
       "\n"
      ],
      "text/plain": [
       "      Date     Region   Location     Market   Category  Commodity       Unit \n",
       "         0          0          0          0          0          0          0 \n",
       "Price.Flag Price.Type   Currency      Price \n",
       "         0          0          0       4936 "
      ]
     },
     "metadata": {},
     "output_type": "display_data"
    }
   ],
   "source": [
    "# Function to detect outliers based on IQR\n",
    "detect_outliers <- function(df) {\n",
    "  outliers <- sapply(df, function(x) {\n",
    "    if (is.numeric(x)) {\n",
    "      Q1 <- quantile(x, 0.25, na.rm = TRUE)\n",
    "      Q3 <- quantile(x, 0.75, na.rm = TRUE)\n",
    "      IQR <- Q3 - Q1\n",
    "      lower_bound <- Q1 - 1.5 * IQR\n",
    "      upper_bound <- Q3 + 1.5 * IQR\n",
    "      sum(x < lower_bound | x > upper_bound, na.rm = TRUE)\n",
    "    } else {\n",
    "      return(0)\n",
    "    }\n",
    "  })\n",
    "  \n",
    "  return(outliers)\n",
    "}\n",
    "\n",
    "# Detect outliers in numeric columns\n",
    "outlier_counts <- detect_outliers(df)\n",
    "outlier_counts\n"
   ]
  },
  {
   "cell_type": "code",
   "execution_count": 258,
   "id": "b4a82903-37c9-406c-b8fa-06f47728a0c5",
   "metadata": {},
   "outputs": [
    {
     "data": {
      "image/png": "[encoded data removed]",
      "text/plain": [
       "plot without title"
      ]
     },
     "metadata": {
      "image/png": {
       "height": 480,
       "width": 480
      }
     },
     "output_type": "display_data"
    }
   ],
   "source": [
    "# Visualize the numeric columns with outliers using box plot\n",
    "numeric_columns <- sapply(df, is.numeric)\n",
    "df_numeric <- df[, numeric_columns, drop = FALSE]  # Ensure we're working only with numeric data\n",
    "\n",
    "# Check if df_numeric is empty or contains NA values\n",
    "if (ncol(df_numeric) == 0) {\n",
    "  stop(\"There are no numeric columns in the dataframe.\")\n",
    "}\n",
    "\n",
    "# Create box plot for numeric columns with outliers using stack\n",
    "ggplot(stack(df_numeric), aes(x = ind, y = values)) +\n",
    "  geom_boxplot() +\n",
    "  xlab('Variables') + ylab('Values') + \n",
    "  ggtitle('Boxplot of Numeric Columns with Outliers')"
   ]
  },
  {
   "cell_type": "code",
   "execution_count": 259,
   "id": "71e529cd-228d-47e3-80e8-68f96aedfba4",
   "metadata": {},
   "outputs": [
    {
     "data": {
      "text/html": [
       "<style>\n",
       ".dl-inline {width: auto; margin:0; padding: 0}\n",
       ".dl-inline>dt, .dl-inline>dd {float: none; width: auto; display: inline-block}\n",
       ".dl-inline>dt::after {content: \":\\0020\"; padding-right: .5ex}\n",
       ".dl-inline>dt:not(:first-of-type) {padding-left: .5ex}\n",
       "</style><dl class=dl-inline><dt>Date</dt><dd>0</dd><dt>Region</dt><dd>0</dd><dt>Location</dt><dd>0</dd><dt>Market</dt><dd>0</dd><dt>Category</dt><dd>0</dd><dt>Commodity</dt><dd>0</dd><dt>Unit</dt><dd>0</dd><dt>Price.Flag</dt><dd>0</dd><dt>Price.Type</dt><dd>0</dd><dt>Currency</dt><dd>0</dd><dt>Price</dt><dd>2081</dd></dl>\n"
      ],
      "text/latex": [
       "\\begin{description*}\n",
       "\\item[Date] 0\n",
       "\\item[Region] 0\n",
       "\\item[Location] 0\n",
       "\\item[Market] 0\n",
       "\\item[Category] 0\n",
       "\\item[Commodity] 0\n",
       "\\item[Unit] 0\n",
       "\\item[Price.Flag] 0\n",
       "\\item[Price.Type] 0\n",
       "\\item[Currency] 0\n",
       "\\item[Price] 2081\n",
       "\\end{description*}\n"
      ],
      "text/markdown": [
       "Date\n",
       ":   0Region\n",
       ":   0Location\n",
       ":   0Market\n",
       ":   0Category\n",
       ":   0Commodity\n",
       ":   0Unit\n",
       ":   0Price.Flag\n",
       ":   0Price.Type\n",
       ":   0Currency\n",
       ":   0Price\n",
       ":   2081\n",
       "\n"
      ],
      "text/plain": [
       "      Date     Region   Location     Market   Category  Commodity       Unit \n",
       "         0          0          0          0          0          0          0 \n",
       "Price.Flag Price.Type   Currency      Price \n",
       "         0          0          0       2081 "
      ]
     },
     "metadata": {},
     "output_type": "display_data"
    }
   ],
   "source": [
    "# Adjust the multiplier to be more strict (e.g., 2.5 * IQR or 3 * IQR)\n",
    "remove_outliers <- function(df, factor = 1.5) {\n",
    "  df_no_outliers <- df\n",
    "  for (i in 1:ncol(df)) {\n",
    "    if (is.numeric(df[[i]])) {\n",
    "      Q1 <- quantile(df[[i]], 0.25, na.rm = TRUE)\n",
    "      Q3 <- quantile(df[[i]], 0.75, na.rm = TRUE)\n",
    "      IQR <- Q3 - Q1\n",
    "      lower_bound <- Q1 - factor * IQR\n",
    "      upper_bound <- Q3 + factor * IQR\n",
    "      df_no_outliers <- df_no_outliers[df[[i]] >= lower_bound & df[[i]] <= upper_bound, ]\n",
    "    }\n",
    "  }\n",
    "  return(df_no_outliers)\n",
    "}\n",
    "\n",
    "# Remove outliers using a stricter threshold (e.g., 2.5 * IQR)\n",
    "# Avoid over removal of outliers to preserve context\n",
    "# There is no rule how many are allowed in the study but not more than 10% of total # of observations\n",
    "df_no_outliers <- remove_outliers(df)\n",
    "\n",
    "# Check outliers again in the cleaned dataset\n",
    "outlier_counts_after_removal <- detect_outliers(df_no_outliers)\n",
    "outlier_counts_after_removal\n",
    "\n"
   ]
  },
  {
   "cell_type": "code",
   "execution_count": 260,
   "id": "91500eaf-6a32-4de4-8c24-4b49a13803f0",
   "metadata": {},
   "outputs": [
    {
     "data": {
      "image/png": "[encoded data removed]",
      "text/plain": [
       "plot without title"
      ]
     },
     "metadata": {
      "image/png": {
       "height": 480,
       "width": 480
      }
     },
     "output_type": "display_data"
    }
   ],
   "source": [
    "# Visualize the data after removing outliers using box plot\n",
    "df_numeric_no_outliers <- df_no_outliers[, numeric_columns, drop = FALSE]\n",
    "\n",
    "# Create box plot for numeric columns after removing outliers\n",
    "ggplot(stack(df_numeric_no_outliers), aes(x = ind, y = values)) +\n",
    "  geom_boxplot() +\n",
    "  xlab('Variables') + ylab('Values') + \n",
    "  ggtitle('Boxplot of Numeric Columns After Removing Outliers')\n"
   ]
  },
  {
   "cell_type": "code",
   "execution_count": 261,
   "id": "178867ad-db55-415b-9e18-9b82b1cda1e7",
   "metadata": {},
   "outputs": [
    {
     "data": {
      "text/html": [
       "<style>\n",
       ".dl-inline {width: auto; margin:0; padding: 0}\n",
       ".dl-inline>dt, .dl-inline>dd {float: none; width: auto; display: inline-block}\n",
       ".dl-inline>dt::after {content: \":\\0020\"; padding-right: .5ex}\n",
       ".dl-inline>dt:not(:first-of-type) {padding-left: .5ex}\n",
       "</style><dl class=dl-inline><dt>Date</dt><dd>0</dd><dt>Region</dt><dd>0</dd><dt>Location</dt><dd>0</dd><dt>Market</dt><dd>0</dd><dt>Category</dt><dd>0</dd><dt>Commodity</dt><dd>0</dd><dt>Unit</dt><dd>0</dd><dt>Price.Flag</dt><dd>0</dd><dt>Price.Type</dt><dd>0</dd><dt>Currency</dt><dd>0</dd><dt>Price</dt><dd>2081</dd></dl>\n"
      ],
      "text/latex": [
       "\\begin{description*}\n",
       "\\item[Date] 0\n",
       "\\item[Region] 0\n",
       "\\item[Location] 0\n",
       "\\item[Market] 0\n",
       "\\item[Category] 0\n",
       "\\item[Commodity] 0\n",
       "\\item[Unit] 0\n",
       "\\item[Price.Flag] 0\n",
       "\\item[Price.Type] 0\n",
       "\\item[Currency] 0\n",
       "\\item[Price] 2081\n",
       "\\end{description*}\n"
      ],
      "text/markdown": [
       "Date\n",
       ":   0Region\n",
       ":   0Location\n",
       ":   0Market\n",
       ":   0Category\n",
       ":   0Commodity\n",
       ":   0Unit\n",
       ":   0Price.Flag\n",
       ":   0Price.Type\n",
       ":   0Currency\n",
       ":   0Price\n",
       ":   2081\n",
       "\n"
      ],
      "text/plain": [
       "      Date     Region   Location     Market   Category  Commodity       Unit \n",
       "         0          0          0          0          0          0          0 \n",
       "Price.Flag Price.Type   Currency      Price \n",
       "         0          0          0       2081 "
      ]
     },
     "metadata": {},
     "output_type": "display_data"
    }
   ],
   "source": [
    "# Function to detect outliers (same as before)\n",
    "detect_outliers <- function(df) {\n",
    "  outliers <- sapply(df, function(x) {\n",
    "    if (is.numeric(x)) {\n",
    "      Q1 <- quantile(x, 0.25, na.rm = TRUE)\n",
    "      Q3 <- quantile(x, 0.75, na.rm = TRUE)\n",
    "      IQR <- Q3 - Q1\n",
    "      lower_bound <- Q1 - 1.5 * IQR\n",
    "      upper_bound <- Q3 + 1.5 * IQR\n",
    "      sum(x < lower_bound | x > upper_bound, na.rm = TRUE)\n",
    "    } else {\n",
    "      return(0)\n",
    "    }\n",
    "  })\n",
    "  \n",
    "  return(outliers)\n",
    "}\n",
    "\n",
    "# Re-run the outlier detection on the dataset after removing outliers\n",
    "outlier_counts_after_removal <- detect_outliers(df_no_outliers)\n",
    "\n",
    "# Display the count of remaining outliers\n",
    "outlier_counts_after_removal\n"
   ]
  },
  {
   "cell_type": "code",
   "execution_count": 262,
   "id": "a039a37a-c105-4fe9-a4b6-476ca98e06aa",
   "metadata": {},
   "outputs": [
    {
     "data": {
      "text/html": [
       "<style>\n",
       ".list-inline {list-style: none; margin:0; padding: 0}\n",
       ".list-inline>li {display: inline-block}\n",
       ".list-inline>li:not(:last-child)::after {content: \"\\00b7\"; padding: 0 .5ex}\n",
       "</style>\n",
       "<ol class=list-inline><li>99211</li><li>11</li></ol>\n"
      ],
      "text/latex": [
       "\\begin{enumerate*}\n",
       "\\item 99211\n",
       "\\item 11\n",
       "\\end{enumerate*}\n"
      ],
      "text/markdown": [
       "1. 99211\n",
       "2. 11\n",
       "\n",
       "\n"
      ],
      "text/plain": [
       "[1] 99211    11"
      ]
     },
     "metadata": {},
     "output_type": "display_data"
    }
   ],
   "source": [
    "dim(df_no_outliers)"
   ]
  },
  {
   "cell_type": "code",
   "execution_count": 263,
   "id": "fa4448fd-070d-4dd8-a018-0aba4e82cfa8",
   "metadata": {},
   "outputs": [],
   "source": [
    "write.csv(df_no_outliers, \"food_prices_ph_cleaned.csv\")"
   ]
  }
 ],
 "metadata": {
  "kernelspec": {
   "display_name": "R",
   "language": "R",
   "name": "ir"
  },
  "language_info": {
   "codemirror_mode": "r",
   "file_extension": ".r",
   "mimetype": "text/x-r-source",
   "name": "R",
   "pygments_lexer": "r",
   "version": "4.4.2"
  }
 },
 "nbformat": 4,
 "nbformat_minor": 5
}
