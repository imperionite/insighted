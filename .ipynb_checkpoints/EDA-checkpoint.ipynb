{
 "cells": [
  {
   "cell_type": "markdown",
   "id": "5bc91cec-deb5-4095-bcfc-43574cb6fbbd",
   "metadata": {},
   "source": [
    "# InsightEd - EDA"
   ]
  },
  {
   "cell_type": "code",
   "execution_count": 102,
   "id": "804da0ce-d8e5-49aa-98b8-6bdf3344f0f9",
   "metadata": {},
   "outputs": [],
   "source": [
    "library(tidyverse)\n",
    "library(data.table)\n",
    "library(skimr)\n",
    "library(janitor) \n",
    "library(corrplot)\n",
    "library(randomForest)"
   ]
  },
  {
   "cell_type": "code",
   "execution_count": 2,
   "id": "6bb8db36-a309-48fa-9878-cc29008eb854",
   "metadata": {},
   "outputs": [],
   "source": [
    "# read and load csv\n",
    "data <- read.csv(\"cleaned_data.csv\", stringsAsFactors = TRUE)"
   ]
  },
  {
   "cell_type": "code",
   "execution_count": 3,
   "id": "8c3b1844-5c40-4a56-aeab-b1d0b466a76d",
   "metadata": {},
   "outputs": [
    {
     "name": "stdout",
     "output_type": "stream",
     "text": [
      "'data.frame':\t256 obs. of  15 variables:\n",
      " $ X                  : int  1 2 3 4 5 6 7 8 9 10 ...\n",
      " $ gender             : Factor w/ 2 levels \"Boy\",\"Girl\": 1 2 2 2 2 1 1 1 1 1 ...\n",
      " $ education_level    : Factor w/ 3 levels \"College\",\"School\",..: 3 3 1 2 2 2 2 2 1 2 ...\n",
      " $ institution_type   : Factor w/ 2 levels \"Government\",\"Non Government\": 2 2 1 2 2 2 2 2 1 2 ...\n",
      " $ it_student         : Factor w/ 2 levels \"No\",\"Yes\": 1 1 1 1 1 1 1 1 1 1 ...\n",
      " $ location           : Factor w/ 2 levels \"No\",\"Yes\": 2 2 2 2 2 2 2 2 2 2 ...\n",
      " $ load_shedding      : Factor w/ 2 levels \"High\",\"Low\": 2 1 2 2 2 2 2 2 2 2 ...\n",
      " $ financial_condition: Factor w/ 3 levels \"Mid\",\"Poor\",\"Rich\": 1 1 1 1 2 2 1 1 1 1 ...\n",
      " $ internet_type      : Factor w/ 2 levels \"Mobile Data\",..: 2 1 2 1 1 1 2 2 2 1 ...\n",
      " $ network_type       : Factor w/ 3 levels \"2G\",\"3G\",\"4G\": 3 3 3 3 2 2 3 3 3 2 ...\n",
      " $ class_duration     : Factor w/ 3 levels \"0\",\"1-3\",\"3-6\": 3 2 2 2 1 2 1 2 2 2 ...\n",
      " $ self_lms           : Factor w/ 2 levels \"No\",\"Yes\": 1 2 1 1 1 1 1 1 1 1 ...\n",
      " $ device             : Factor w/ 3 levels \"Computer\",\"Mobile\",..: 3 2 2 2 2 2 2 2 2 2 ...\n",
      " $ adaptivity_level   : Factor w/ 3 levels \"High\",\"Low\",\"Moderate\": 3 3 3 3 2 2 2 3 2 3 ...\n",
      " $ age_numeric        : int  23 23 18 13 18 13 13 13 18 13 ...\n"
     ]
    }
   ],
   "source": [
    "str(data)"
   ]
  },
  {
   "cell_type": "code",
   "execution_count": 4,
   "id": "8aa3e78a-19d4-44ff-8d66-02e99cc65d42",
   "metadata": {},
   "outputs": [],
   "source": [
    "# Convert relevant columns to factors (categorical variables)\n",
    "categorical_cols <- c(\"gender\", \"education_level\", \"institution_type\", \"it_student\", \"location\", \n",
    "                      \"load_shedding\", \"financial_condition\", \"internet_type\", \"network_type\", \n",
    "                      \"class_duration\", \"self_lms\", \"device\", \"adaptivity_level\")\n",
    "\n",
    "data[categorical_cols] <- lapply(data[categorical_cols], factor)"
   ]
  },
  {
   "cell_type": "code",
   "execution_count": 5,
   "id": "7babd047-8e73-4096-a23a-30d5b2c197f9",
   "metadata": {},
   "outputs": [
    {
     "data": {
      "text/html": [
       "<table class=\"dataframe\">\n",
       "<caption>A data.frame: 6 × 15</caption>\n",
       "<thead>\n",
       "\t<tr><th></th><th scope=col>X</th><th scope=col>gender</th><th scope=col>education_level</th><th scope=col>institution_type</th><th scope=col>it_student</th><th scope=col>location</th><th scope=col>load_shedding</th><th scope=col>financial_condition</th><th scope=col>internet_type</th><th scope=col>network_type</th><th scope=col>class_duration</th><th scope=col>self_lms</th><th scope=col>device</th><th scope=col>adaptivity_level</th><th scope=col>age_numeric</th></tr>\n",
       "\t<tr><th></th><th scope=col>&lt;int&gt;</th><th scope=col>&lt;fct&gt;</th><th scope=col>&lt;fct&gt;</th><th scope=col>&lt;fct&gt;</th><th scope=col>&lt;fct&gt;</th><th scope=col>&lt;fct&gt;</th><th scope=col>&lt;fct&gt;</th><th scope=col>&lt;fct&gt;</th><th scope=col>&lt;fct&gt;</th><th scope=col>&lt;fct&gt;</th><th scope=col>&lt;fct&gt;</th><th scope=col>&lt;fct&gt;</th><th scope=col>&lt;fct&gt;</th><th scope=col>&lt;fct&gt;</th><th scope=col>&lt;int&gt;</th></tr>\n",
       "</thead>\n",
       "<tbody>\n",
       "\t<tr><th scope=row>1</th><td>1</td><td>Boy </td><td>University</td><td>Non Government</td><td>No</td><td>Yes</td><td>Low </td><td>Mid </td><td>Wifi       </td><td>4G</td><td>3-6</td><td>No </td><td>Tab   </td><td>Moderate</td><td>23</td></tr>\n",
       "\t<tr><th scope=row>2</th><td>2</td><td>Girl</td><td>University</td><td>Non Government</td><td>No</td><td>Yes</td><td>High</td><td>Mid </td><td>Mobile Data</td><td>4G</td><td>1-3</td><td>Yes</td><td>Mobile</td><td>Moderate</td><td>23</td></tr>\n",
       "\t<tr><th scope=row>3</th><td>3</td><td>Girl</td><td>College   </td><td>Government    </td><td>No</td><td>Yes</td><td>Low </td><td>Mid </td><td>Wifi       </td><td>4G</td><td>1-3</td><td>No </td><td>Mobile</td><td>Moderate</td><td>18</td></tr>\n",
       "\t<tr><th scope=row>4</th><td>4</td><td>Girl</td><td>School    </td><td>Non Government</td><td>No</td><td>Yes</td><td>Low </td><td>Mid </td><td>Mobile Data</td><td>4G</td><td>1-3</td><td>No </td><td>Mobile</td><td>Moderate</td><td>13</td></tr>\n",
       "\t<tr><th scope=row>5</th><td>5</td><td>Girl</td><td>School    </td><td>Non Government</td><td>No</td><td>Yes</td><td>Low </td><td>Poor</td><td>Mobile Data</td><td>3G</td><td>0  </td><td>No </td><td>Mobile</td><td>Low     </td><td>18</td></tr>\n",
       "\t<tr><th scope=row>6</th><td>6</td><td>Boy </td><td>School    </td><td>Non Government</td><td>No</td><td>Yes</td><td>Low </td><td>Poor</td><td>Mobile Data</td><td>3G</td><td>1-3</td><td>No </td><td>Mobile</td><td>Low     </td><td>13</td></tr>\n",
       "</tbody>\n",
       "</table>\n"
      ],
      "text/latex": [
       "A data.frame: 6 × 15\n",
       "\\begin{tabular}{r|lllllllllllllll}\n",
       "  & X & gender & education\\_level & institution\\_type & it\\_student & location & load\\_shedding & financial\\_condition & internet\\_type & network\\_type & class\\_duration & self\\_lms & device & adaptivity\\_level & age\\_numeric\\\\\n",
       "  & <int> & <fct> & <fct> & <fct> & <fct> & <fct> & <fct> & <fct> & <fct> & <fct> & <fct> & <fct> & <fct> & <fct> & <int>\\\\\n",
       "\\hline\n",
       "\t1 & 1 & Boy  & University & Non Government & No & Yes & Low  & Mid  & Wifi        & 4G & 3-6 & No  & Tab    & Moderate & 23\\\\\n",
       "\t2 & 2 & Girl & University & Non Government & No & Yes & High & Mid  & Mobile Data & 4G & 1-3 & Yes & Mobile & Moderate & 23\\\\\n",
       "\t3 & 3 & Girl & College    & Government     & No & Yes & Low  & Mid  & Wifi        & 4G & 1-3 & No  & Mobile & Moderate & 18\\\\\n",
       "\t4 & 4 & Girl & School     & Non Government & No & Yes & Low  & Mid  & Mobile Data & 4G & 1-3 & No  & Mobile & Moderate & 13\\\\\n",
       "\t5 & 5 & Girl & School     & Non Government & No & Yes & Low  & Poor & Mobile Data & 3G & 0   & No  & Mobile & Low      & 18\\\\\n",
       "\t6 & 6 & Boy  & School     & Non Government & No & Yes & Low  & Poor & Mobile Data & 3G & 1-3 & No  & Mobile & Low      & 13\\\\\n",
       "\\end{tabular}\n"
      ],
      "text/markdown": [
       "\n",
       "A data.frame: 6 × 15\n",
       "\n",
       "| <!--/--> | X &lt;int&gt; | gender &lt;fct&gt; | education_level &lt;fct&gt; | institution_type &lt;fct&gt; | it_student &lt;fct&gt; | location &lt;fct&gt; | load_shedding &lt;fct&gt; | financial_condition &lt;fct&gt; | internet_type &lt;fct&gt; | network_type &lt;fct&gt; | class_duration &lt;fct&gt; | self_lms &lt;fct&gt; | device &lt;fct&gt; | adaptivity_level &lt;fct&gt; | age_numeric &lt;int&gt; |\n",
       "|---|---|---|---|---|---|---|---|---|---|---|---|---|---|---|---|\n",
       "| 1 | 1 | Boy  | University | Non Government | No | Yes | Low  | Mid  | Wifi        | 4G | 3-6 | No  | Tab    | Moderate | 23 |\n",
       "| 2 | 2 | Girl | University | Non Government | No | Yes | High | Mid  | Mobile Data | 4G | 1-3 | Yes | Mobile | Moderate | 23 |\n",
       "| 3 | 3 | Girl | College    | Government     | No | Yes | Low  | Mid  | Wifi        | 4G | 1-3 | No  | Mobile | Moderate | 18 |\n",
       "| 4 | 4 | Girl | School     | Non Government | No | Yes | Low  | Mid  | Mobile Data | 4G | 1-3 | No  | Mobile | Moderate | 13 |\n",
       "| 5 | 5 | Girl | School     | Non Government | No | Yes | Low  | Poor | Mobile Data | 3G | 0   | No  | Mobile | Low      | 18 |\n",
       "| 6 | 6 | Boy  | School     | Non Government | No | Yes | Low  | Poor | Mobile Data | 3G | 1-3 | No  | Mobile | Low      | 13 |\n",
       "\n"
      ],
      "text/plain": [
       "  X gender education_level institution_type it_student location load_shedding\n",
       "1 1 Boy    University      Non Government   No         Yes      Low          \n",
       "2 2 Girl   University      Non Government   No         Yes      High         \n",
       "3 3 Girl   College         Government       No         Yes      Low          \n",
       "4 4 Girl   School          Non Government   No         Yes      Low          \n",
       "5 5 Girl   School          Non Government   No         Yes      Low          \n",
       "6 6 Boy    School          Non Government   No         Yes      Low          \n",
       "  financial_condition internet_type network_type class_duration self_lms device\n",
       "1 Mid                 Wifi          4G           3-6            No       Tab   \n",
       "2 Mid                 Mobile Data   4G           1-3            Yes      Mobile\n",
       "3 Mid                 Wifi          4G           1-3            No       Mobile\n",
       "4 Mid                 Mobile Data   4G           1-3            No       Mobile\n",
       "5 Poor                Mobile Data   3G           0              No       Mobile\n",
       "6 Poor                Mobile Data   3G           1-3            No       Mobile\n",
       "  adaptivity_level age_numeric\n",
       "1 Moderate         23         \n",
       "2 Moderate         23         \n",
       "3 Moderate         18         \n",
       "4 Moderate         13         \n",
       "5 Low              18         \n",
       "6 Low              13         "
      ]
     },
     "metadata": {},
     "output_type": "display_data"
    }
   ],
   "source": [
    "head(data)"
   ]
  },
  {
   "cell_type": "code",
   "execution_count": 6,
   "id": "d519dc6e-a2bf-4f0b-9c64-2892c5766b7c",
   "metadata": {},
   "outputs": [
    {
     "data": {
      "text/plain": [
       "       X           gender      education_level       institution_type\n",
       " Min.   :  1.00   Boy :148   College   : 53    Government    :104    \n",
       " 1st Qu.: 64.75   Girl:108   School    : 82    Non Government:152    \n",
       " Median :128.50              University:121                          \n",
       " Mean   :128.50                                                      \n",
       " 3rd Qu.:192.25                                                      \n",
       " Max.   :256.00                                                      \n",
       " it_student location  load_shedding financial_condition     internet_type\n",
       " No :178    No : 74   High: 54      Mid :183            Mobile Data:138  \n",
       " Yes: 78    Yes:182   Low :202      Poor: 49            Wifi       :118  \n",
       "                                    Rich: 24                             \n",
       "                                                                         \n",
       "                                                                         \n",
       "                                                                         \n",
       " network_type class_duration self_lms       device    adaptivity_level\n",
       " 2G:  7       0  : 41        No :198   Computer: 43   High    : 24    \n",
       " 3G: 88       1-3:163        Yes: 58   Mobile  :207   Low     :114    \n",
       " 4G:161       3-6: 52                  Tab     :  6   Moderate:118    \n",
       "                                                                      \n",
       "                                                                      \n",
       "                                                                      \n",
       "  age_numeric   \n",
       " Min.   : 3.00  \n",
       " 1st Qu.:13.00  \n",
       " Median :18.00  \n",
       " Mean   :18.72  \n",
       " 3rd Qu.:23.00  \n",
       " Max.   :28.00  "
      ]
     },
     "metadata": {},
     "output_type": "display_data"
    }
   ],
   "source": [
    "summary(data)"
   ]
  },
  {
   "cell_type": "code",
   "execution_count": 7,
   "id": "d7aa51c3-fa76-4bda-a8ba-07ca298777e6",
   "metadata": {},
   "outputs": [
    {
     "data": {
      "text/html": [
       "0"
      ],
      "text/latex": [
       "0"
      ],
      "text/markdown": [
       "0"
      ],
      "text/plain": [
       "[1] 0"
      ]
     },
     "metadata": {},
     "output_type": "display_data"
    }
   ],
   "source": [
    "sum(is.na(data))"
   ]
  },
  {
   "cell_type": "code",
   "execution_count": 8,
   "id": "3dcaafdb-92ed-4d1d-8252-61ebabb02662",
   "metadata": {},
   "outputs": [
    {
     "name": "stdout",
     "output_type": "stream",
     "text": [
      "'data.frame':\t256 obs. of  15 variables:\n",
      " $ X                  : int  1 2 3 4 5 6 7 8 9 10 ...\n",
      " $ gender             : Factor w/ 2 levels \"Boy\",\"Girl\": 1 2 2 2 2 1 1 1 1 1 ...\n",
      " $ education_level    : Factor w/ 3 levels \"College\",\"School\",..: 3 3 1 2 2 2 2 2 1 2 ...\n",
      " $ institution_type   : Factor w/ 2 levels \"Government\",\"Non Government\": 2 2 1 2 2 2 2 2 1 2 ...\n",
      " $ it_student         : Factor w/ 2 levels \"No\",\"Yes\": 1 1 1 1 1 1 1 1 1 1 ...\n",
      " $ location           : Factor w/ 2 levels \"No\",\"Yes\": 2 2 2 2 2 2 2 2 2 2 ...\n",
      " $ load_shedding      : Factor w/ 2 levels \"High\",\"Low\": 2 1 2 2 2 2 2 2 2 2 ...\n",
      " $ financial_condition: Factor w/ 3 levels \"Mid\",\"Poor\",\"Rich\": 1 1 1 1 2 2 1 1 1 1 ...\n",
      " $ internet_type      : Factor w/ 2 levels \"Mobile Data\",..: 2 1 2 1 1 1 2 2 2 1 ...\n",
      " $ network_type       : Factor w/ 3 levels \"2G\",\"3G\",\"4G\": 3 3 3 3 2 2 3 3 3 2 ...\n",
      " $ class_duration     : Factor w/ 3 levels \"0\",\"1-3\",\"3-6\": 3 2 2 2 1 2 1 2 2 2 ...\n",
      " $ self_lms           : Factor w/ 2 levels \"No\",\"Yes\": 1 2 1 1 1 1 1 1 1 1 ...\n",
      " $ device             : Factor w/ 3 levels \"Computer\",\"Mobile\",..: 3 2 2 2 2 2 2 2 2 2 ...\n",
      " $ adaptivity_level   : Factor w/ 3 levels \"High\",\"Low\",\"Moderate\": 3 3 3 3 2 2 2 3 2 3 ...\n",
      " $ age_numeric        : int  23 23 18 13 18 13 13 13 18 13 ...\n"
     ]
    }
   ],
   "source": [
    "str(data)"
   ]
  },
  {
   "cell_type": "code",
   "execution_count": 9,
   "id": "5f89556a-126a-4351-838f-77507e37c733",
   "metadata": {},
   "outputs": [
    {
     "data": {
      "text/html": [
       "<style>\n",
       ".list-inline {list-style: none; margin:0; padding: 0}\n",
       ".list-inline>li {display: inline-block}\n",
       ".list-inline>li:not(:last-child)::after {content: \"\\00b7\"; padding: 0 .5ex}\n",
       "</style>\n",
       "<ol class=list-inline><li>256</li><li>15</li></ol>\n"
      ],
      "text/latex": [
       "\\begin{enumerate*}\n",
       "\\item 256\n",
       "\\item 15\n",
       "\\end{enumerate*}\n"
      ],
      "text/markdown": [
       "1. 256\n",
       "2. 15\n",
       "\n",
       "\n"
      ],
      "text/plain": [
       "[1] 256  15"
      ]
     },
     "metadata": {},
     "output_type": "display_data"
    }
   ],
   "source": [
    "dim(data)"
   ]
  },
  {
   "cell_type": "code",
   "execution_count": 86,
   "id": "a88b4fa5-c9e3-4b0c-a563-a28598446066",
   "metadata": {},
   "outputs": [
    {
     "ename": "ERROR",
     "evalue": "\u001b[1m\u001b[33mError\u001b[39m in `ggplot()`:\u001b[22m\n\u001b[1m\u001b[22m\u001b[33m!\u001b[39m `data` cannot be a function.\n\u001b[36mℹ\u001b[39m Have you misspelled the `data` argument in `ggplot()`\n",
     "output_type": "error",
     "traceback": [
      "\u001b[1m\u001b[33mError\u001b[39m in `ggplot()`:\u001b[22m\n\u001b[1m\u001b[22m\u001b[33m!\u001b[39m `data` cannot be a function.\n\u001b[36mℹ\u001b[39m Have you misspelled the `data` argument in `ggplot()`\nTraceback:\n",
      "1. ggplot(., aes(x = internet_type, fill = adaptivity_level))",
      "2. ggplot.function(., aes(x = internet_type, fill = adaptivity_level))",
      "3. cli::cli_abort(c(\"{.arg data} cannot be a function.\", i = \"Have you misspelled the {.arg data} argument in {.fn ggplot}\"))",
      "4. rlang::abort(message, ..., call = call, use_cli_format = TRUE, \n .     .frame = .frame)",
      "5. signal_abort(cnd, .file)",
      "6. signalCondition(cnd)"
     ]
    }
   ],
   "source": [
    "# B. Internet Type vs. Adaptability\n",
    "df %>%\n",
    "  ggplot(aes(x = internet_type, fill = adaptivity_level)) +\n",
    "  geom_bar(position = \"fill\") +\n",
    "  labs(title = \"Adaptability Level by Internet Type\",\n",
    "       x = \"Internet Type\",\n",
    "       y = \"Proportion of Students\") +\n",
    "  theme_bw()"
   ]
  },
  {
   "cell_type": "code",
   "execution_count": null,
   "id": "2f5a19f5-0d17-45af-a8a8-c43dca35229b",
   "metadata": {},
   "outputs": [],
   "source": [
    "# Encode \"class_duration\" into numerical categories\n",
    "data$class_duration_num <- case_when(\n",
    "  data$class_duration == \"0\" ~ 0,\n",
    "  data$class_duration == \"1-3\" ~ 2,\n",
    "  data$class_duration == \"3-6\" ~ 4\n",
    ")\n",
    "\n",
    "# Encode \"financial_condition\" to numerical\n",
    "data$financial_condition_num <- case_when(\n",
    "  data$financial_condition == \"Poor\" ~ 1,\n",
    "  data$financial_condition == \"Mid\" ~ 2,\n",
    "  data$financial_condition == \"Rich\" ~ 3\n",
    ")\n",
    "\n",
    "# Encode \"internet_type\" to numerical\n",
    "data$internet_type_num <- case_when(\n",
    "  data$internet_type == \"2G\" ~ 1,\n",
    "  data$internet_type == \"3G\" ~ 2,\n",
    "  data$internet_type == \"4G\" ~ 3,\n",
    "  data$internet_type == \"Wifi\" ~ 4\n",
    ")\n",
    "\n",
    "# Encode \"device\" to numerical\n",
    "data$device_num <- case_when(\n",
    "  data$device == \"Mobile\" ~ 1,\n",
    "  data$device == \"Tab\" ~ 2,\n",
    "  data$device == \"Computer\" ~ 3\n",
    ")\n",
    "\n",
    "# Create Access Score\n",
    "data$access_score <- rowMeans(data[, c(\"financial_condition_num\", \"internet_type_num\", \"device_num\")], na.rm = TRUE)\n",
    "\n",
    "# Encode self_lms to numerical\n",
    "data$self_lms_num <- ifelse(data$self_lms == \"Yes\",1,0)\n",
    "\n",
    "#Re-encode adaptivity level to numerical.\n",
    "data$adaptivity_level_num <- case_when(\n",
    "  data$adaptivity_level == \"Low\" ~ 1,\n",
    "  data$adaptivity_level == \"Moderate\" ~ 2,\n",
    "  data$adaptivity_level == \"High\" ~ 3\n",
    ")"
   ]
  },
  {
   "cell_type": "code",
   "execution_count": null,
   "id": "fe78251b-c000-4308-86cb-a60120e0dbed",
   "metadata": {},
   "outputs": [],
   "source": [
    "# Check the modified data\n",
    "head(data)\n",
    "str(data)"
   ]
  },
  {
   "cell_type": "code",
   "execution_count": null,
   "id": "f6463f40-1406-4e18-b0f2-64521503eb80",
   "metadata": {},
   "outputs": [],
   "source": [
    "# A. Financial Condition vs. Adaptability\n",
    "df %>%\n",
    "  ggplot(aes(x = financial_condition, fill = adaptivity_level)) +\n",
    "  geom_bar(position = \"fill\") +\n",
    "  labs(title = \"Adaptability Level by Financial Condition\",\n",
    "       x = \"Financial Condition\",\n",
    "       y = \"Proportion of Students\") +\n",
    "  theme_bw() # Clean theme"
   ]
  },
  {
   "cell_type": "code",
   "execution_count": null,
   "id": "0980e2c3-7910-431a-b7cf-4fa00fa42058",
   "metadata": {},
   "outputs": [],
   "source": [
    "# C. Network Type vs. Adaptability\n",
    "df %>%\n",
    "  ggplot(aes(x = network_type, fill = adaptivity_level)) +\n",
    "  geom_bar(position = \"fill\") +\n",
    "  labs(title = \"Adaptability Level by Network Type\",\n",
    "       x = \"Network Type\",\n",
    "       y = \"Proportion of Students\") +\n",
    "  theme_bw()\n"
   ]
  },
  {
   "cell_type": "code",
   "execution_count": null,
   "id": "8170fc84-cbff-4e48-91b0-eee800d33724",
   "metadata": {},
   "outputs": [],
   "source": [
    "# Interpretation: Understanding the distribution of key variables helps identify balance and coverage in the dataset.\n",
    "# 1. Univariate Analysis\n",
    "# Distribution of Adaptivity Level\n",
    "barplot(table(df$adaptivity_level), main='Distribution of Adaptivity Levels', col='lightblue')"
   ]
  },
  {
   "cell_type": "code",
   "execution_count": null,
   "id": "9c541c33-ec24-4ab5-a7de-608e00b6a31d",
   "metadata": {},
   "outputs": [],
   "source": [
    "# Age Distribution\n",
    "hist(df$age_numeric, breaks=10, col='skyblue', main='Age Distribution', xlab='Age')"
   ]
  },
  {
   "cell_type": "code",
   "execution_count": null,
   "id": "0284e3c5-f4a9-4e39-b7e5-db37fb5fc759",
   "metadata": {},
   "outputs": [],
   "source": [
    "# Financial Condition and Institution Type Counts\n",
    "barplot(table(df$financial_condition), main='Financial Condition Distribution', col='orange')\n",
    "barplot(table(df$institution_type), main='Institution Type Distribution', col='purple')"
   ]
  },
  {
   "cell_type": "code",
   "execution_count": null,
   "id": "c4e89fba-e1bb-4116-acc3-de01c082ff83",
   "metadata": {},
   "outputs": [],
   "source": [
    "# Interpretation: These visualizations reveal how various factors correlate with adaptability levels.\n",
    "# 2. Bivariate Analysis\n",
    "\n",
    "# Adaptivity by Education Level\n",
    "ggplot(df, aes(x = education_level, fill = adaptivity_level)) +\n",
    "  geom_bar(position = 'fill') +\n",
    "  labs(title='Adaptivity by Education Level', x='Education Level', y='Proportion')"
   ]
  },
  {
   "cell_type": "code",
   "execution_count": null,
   "id": "631cc4ef-46ce-438d-bc9b-b2433e3666a8",
   "metadata": {},
   "outputs": [],
   "source": [
    "# Age vs. Adaptivity\n",
    "boxplot(df$age_numeric ~ df$adaptivity_level, col='lightgreen', main='Age vs Adaptivity Level', xlab='Adaptivity Level', ylab='Age')"
   ]
  },
  {
   "cell_type": "code",
   "execution_count": null,
   "id": "f1ca1a4b-ac96-4017-a43d-a28a3cb4b771",
   "metadata": {},
   "outputs": [],
   "source": [
    "# Internet Type vs. Adaptivity\n",
    "ggplot(df, aes(x = internet_type, fill = adaptivity_level)) +\n",
    "  geom_bar(position = 'fill') +\n",
    "  labs(title='Internet Type vs Adaptivity Level', x='Internet Type', y='Proportion')"
   ]
  },
  {
   "cell_type": "code",
   "execution_count": null,
   "id": "287ae288-72e8-4a66-a5dd-de8a44301868",
   "metadata": {},
   "outputs": [],
   "source": [
    "# Financial Condition vs. Adaptivity\n",
    "ggplot(df, aes(x = financial_condition, fill = adaptivity_level)) +\n",
    "  geom_bar(position = 'fill') +\n",
    "  labs(title='Financial Condition vs Adaptivity Level', x='Financial Condition', y='Proportion')"
   ]
  },
  {
   "cell_type": "code",
   "execution_count": null,
   "id": "eaf84155-5c5f-416a-a66d-c7fe69be364a",
   "metadata": {},
   "outputs": [],
   "source": [
    "# Interpretation: Combining variables gives deeper insights into the relationships between student characteristics and adaptability.\n",
    "# 3. Multivariate Analysis\n",
    "\n",
    "# Education Level + Institution Type vs. Adaptivity\n",
    "ggplot(df, aes(x = education_level, fill = adaptivity_level)) +\n",
    "  geom_bar(position = 'fill') +\n",
    "  facet_wrap(~institution_type) +\n",
    "  labs(title='Education Level and Institution Type vs Adaptivity')\n"
   ]
  },
  {
   "cell_type": "code",
   "execution_count": null,
   "id": "d820526f-2ede-4b86-bbd2-847b89a9ba09",
   "metadata": {},
   "outputs": [],
   "source": [
    "# Age, Class Duration, and Adaptivity\n",
    "ggplot(df, aes(x = class_duration, y = age_numeric, color = adaptivity_level)) +\n",
    "  geom_jitter(alpha=0.5) +\n",
    "  labs(title='Class Duration, Age, and Adaptivity')\n"
   ]
  },
  {
   "cell_type": "code",
   "execution_count": null,
   "id": "bec84a90-a0fb-4372-a358-06b1dbb7881c",
   "metadata": {},
   "outputs": [],
   "source": [
    "# Interpretation: Correlation helps identify relationships between numeric variables.\n",
    "# 4. Correlation Analysis\n",
    "\n",
    "# Correlation Matrix for Numeric Fields\n",
    "numeric_vars <- df %>% select(age_numeric, V1)\n",
    "cor_matrix <- cor(numeric_vars)\n",
    "corrplot(cor_matrix, method='circle', main='Correlation Matrix of Numeric Variables')"
   ]
  },
  {
   "cell_type": "code",
   "execution_count": null,
   "id": "9a0481e9-ea3d-428b-b13f-951115a93497",
   "metadata": {},
   "outputs": [],
   "source": [
    "# Interpretation: Identifying the most influential features helps understand key drivers of adaptability.\n",
    "# 5. Feature Importance\n",
    "\n",
    "# Random Forest Model\n",
    "model <- randomForest(adaptivity_level ~ ., data=df, importance=TRUE)\n",
    "importance(model)\n",
    "varImpPlot(model)\n"
   ]
  },
  {
   "cell_type": "code",
   "execution_count": null,
   "id": "e197705a-3543-40ea-a94d-a833ecd23dbd",
   "metadata": {},
   "outputs": [],
   "source": [
    "findings <- data.frame(\n",
    "  Analysis = c('Distribution of Adaptivity Level', 'Age Distribution', 'Financial Condition Distribution',\n",
    "               'Institution Type Distribution', 'Adaptivity by Education Level', 'Age vs Adaptivity',\n",
    "               'Internet Type vs Adaptivity', 'Financial Condition vs Adaptivity',\n",
    "               'Education Level and Institution Type vs Adaptivity', 'Class Duration, Age, and Adaptivity',\n",
    "               'Correlation Analysis', 'Feature Importance'),\n",
    "  Key_Insights = c('Most students show Moderate adaptability; High adaptability is less common',\n",
    "                   'Age distribution skews younger with most students between 13-23 years',\n",
    "                   'Most students come from Mid-level financial conditions',\n",
    "                   'Non-Government institutions have a larger representation',\n",
    "                   'College and University students show higher adaptability compared to school-level students',\n",
    "                   'Older students show higher adaptability levels compared to younger peers',\n",
    "                   'WiFi users tend to show higher adaptability than Mobile Data users',\n",
    "                   'Mid and Rich financial backgrounds correlate more with higher adaptability',\n",
    "                   'University students in Non-Government institutions show the highest adaptability rates',\n",
    "                   'Longer class durations (3-6 hrs) seem associated with higher adaptability',\n",
    "                   'Weak correlation between age and numeric variables; no strong linear relationships',\n",
    "                   'Feature importance ranks education level, financial condition, and internet type as top predictors')\n",
    ")\n",
    "\n",
    "print(findings)\n"
   ]
  },
  {
   "cell_type": "code",
   "execution_count": null,
   "id": "26f664a2-ca58-4b55-9dd1-42471fe66a57",
   "metadata": {},
   "outputs": [],
   "source": []
  },
  {
   "cell_type": "code",
   "execution_count": null,
   "id": "a9f909d3-62f6-4b7b-bb13-5386de11b625",
   "metadata": {},
   "outputs": [],
   "source": [
    "# Visualize gender distribution\n",
    "ggplot(data, aes(x = gender)) +\n",
    "  geom_bar(fill = \"#2C3E50\", color = \"#ECF0F1\") +\n",
    "  theme_minimal() +\n",
    "  ggtitle(\"Gender Distribution\")\n",
    "\n",
    "# Visualize education level distribution\n",
    "ggplot(data, aes(x = education_level)) +\n",
    "  geom_bar(fill = \"#3498DB\", color = \"#ECF0F1\") +\n",
    "  theme_minimal() +\n",
    "  ggtitle(\"Education Level Distribution\")\n",
    "\n",
    "# Visualize financial condition\n",
    "ggplot(data, aes(x = financial_condition)) +\n",
    "  geom_bar(fill = \"#E74C3C\", color = \"#ECF0F1\") +\n",
    "  theme_minimal() +\n",
    "  ggtitle(\"Financial Condition Distribution\")\n",
    "\n",
    "# Visualize age distribution\n",
    "ggplot(data, aes(x = age_numeric)) +\n",
    "  geom_histogram(binwidth = 2, fill = \"#27AE60\", color = \"#ECF0F1\") +\n",
    "  theme_minimal() +\n",
    "  ggtitle(\"Age Distribution\")\n",
    "\n",
    "# Check for missing values\n",
    "colSums(is.na(data))\n",
    "\n",
    "# Explore relationships: Education Level vs. Adaptivity Level\n",
    "ggplot(data, aes(x = education_level, fill = adaptivity_level)) +\n",
    "  geom_bar(position = \"dodge\") +\n",
    "  theme_minimal() +\n",
    "  ggtitle(\"Education Level vs Adaptivity Level\")\n",
    "\n",
    "# Explore relationships: Financial Condition vs. Internet Type\n",
    "ggplot(data, aes(x = financial_condition, fill = internet_type)) +\n",
    "  geom_bar(position = \"dodge\") +\n",
    "  theme_minimal() +\n",
    "  ggtitle(\"Financial Condition vs Internet Type\")\n"
   ]
  },
  {
   "cell_type": "code",
   "execution_count": null,
   "id": "7001df1a-5e69-40de-af18-d0b7956493fc",
   "metadata": {},
   "outputs": [],
   "source": []
  }
 ],
 "metadata": {
  "kernelspec": {
   "display_name": "R",
   "language": "R",
   "name": "ir"
  },
  "language_info": {
   "codemirror_mode": "r",
   "file_extension": ".r",
   "mimetype": "text/x-r-source",
   "name": "R",
   "pygments_lexer": "r",
   "version": "4.4.2"
  }
 },
 "nbformat": 4,
 "nbformat_minor": 5
}
