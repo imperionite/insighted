library(dplyr)
library(ggplot2)
library(rlang)


options(repr.plot.width = 8, repr.plot.height = 8)


# Load the data
df <- read.csv("employees_details.csv", stringsAsFactors = TRUE)

# Check the structure of the data
str(df)


# Check the first 6 rows in the dataframe (df)
head(df)


# check df dimensions; check for the # of rows as observations
dim(df)


# Check the column names
colnames(df)


# Check for missing values in each column
colSums(is.na(df))


# Check for duplicate rows
duplicates <- duplicated(df)
sum(duplicates)


# Identify numeric columns
numeric_cols <- names(df)[sapply(df, is.numeric)]

# Identify categorical (factor) columns
categorical_cols <- names(df)[sapply(df, is.factor)]

# Output the results
numeric_cols
categorical_cols



# List of columns that have comma-separated values, mistinterpreted as factors or categorical
columns_to_clean <- c('Basic.Salary', 'Rice.Subsidy', 'Phone.Allowance', 'Clothing.Allowance', 'Gross.Semi.monthly.Rate')

# Apply cleaning to the specified columns
df[columns_to_clean] <- lapply(df[columns_to_clean], function(x) {
  # Remove commas and convert to numeric
  as.numeric(gsub(",", "", x))
})

# Check the cleaned dataframe
str(df)


# Identify numeric columns
numeric_cols <- names(df)[sapply(df, is.numeric)]

# Identify categorical (factor) columns
categorical_cols <- names(df)[sapply(df, is.factor)]


# List of columns to treat as factors
columns_to_factor <- c('Philhealth..', 'Pag.ibig..', 'Employee..')

# Convert these columns to factors
df[columns_to_factor] <- lapply(df[columns_to_factor], as.factor)


# Output the results
numeric_cols
categorical_cols


# Function to detect outliers based on IQR
detect_outliers <- function(df) {
  outliers <- sapply(df, function(x) {
    if (is.numeric(x)) {
      Q1 <- quantile(x, 0.25, na.rm = TRUE)
      Q3 <- quantile(x, 0.75, na.rm = TRUE)
      IQR <- Q3 - Q1
      lower_bound <- Q1 - 1.5 * IQR
      upper_bound <- Q3 + 1.5 * IQR
      sum(x < lower_bound | x > upper_bound, na.rm = TRUE)
    } else {
      return(0)
    }
  })
  
  return(outliers)
}

# Detect outliers in numeric columns
outlier_counts <- detect_outliers(df)
outlier_counts


summary(df)


write.csv(df, "employees_details_cleaned.csv")
