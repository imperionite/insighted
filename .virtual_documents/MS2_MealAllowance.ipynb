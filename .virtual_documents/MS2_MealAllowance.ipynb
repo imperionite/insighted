


# Load Libraries
library(ggplot2)
library(dplyr)
library(lubridate) 
library(RColorBrewer)
library(viridis)
library(tidyr)  
library(treemap)
library(gridExtra)


options(repr.plot.width = 14, repr.plot.height = 11)
# Load CSV
food_prices <- read.csv("food_prices_ph_cleaned.csv", stringsAsFactors = TRUE)
employees <- read.csv("employees_details_cleaned.csv", stringsAsFactors = TRUE)

# Convert Date to date format
food_prices$Date <- as.Date(food_prices$Date)

# Ensure that numeric columns are properly formatted
food_prices$Price <- as.numeric(food_prices$Price)

# Extract year
food_prices$Year <- year(food_prices$Date)


# Filter for dates from 2019 onwards and exclude Unit entries
food_prices <- food_prices %>%
  filter(year(Date) >= 2019, Unit != "Unit")


# Exclude Unit entries
food_prices <- food_prices %>%
  filter(Unit != "Unit")






# Ingredient categories
ingredient_categories <- list(
  protein = c("Meat (pork)", "Meat (beef, chops with bones)", "Meat (chicken, whole)", "Fish (fresh)", "Fish (frigate tuna)", "Fish (mackerel, fresh)", "Fish (tilapia)", "Fish (roundscad)", "Fish (slipmouth)", "Fish (threadfin bream)", "Beans (mung)", "Groundnuts (unshelled)", "Groundnuts (shelled)", "Eggs", "Eggs (duck)", "Meat (pork, with bones)", "Meat (beef)", "Meat (pork, hock)", "Meat (pork, with fat)", "Shrimp (endeavor)", "Shrimp (tiger)", "Crab", "Fish (redbelly yellowtail fusilier)", "Fish (milkfish)"),
  carbohydrate = c("Rice (milled, superior)", "Rice (regular, milled)", "Rice (premium)", "Rice (special)", "Rice (well milled)", "Maize flour (yellow)", "Maize flour (white)", "Maize (yellow)", "Maize (white)", "Potatoes (Irish)", "Sweet potatoes", "Semolina (white)", "Semolina (yellow)", "Taro"),
  vegetables = c("Cabbage", "Cabbage (chinese)", "Carrots", "Garlic", "Onions (red)", "Onions (white)", "Tomatoes", "Eggplants", "Bitter melon", "Bottle gourd", "Choko", "Water spinach", "Sweet Potato leaves", "Choko", "Water spinach"),
  fruits = c("Bananas (latundan)", "Bananas (saba)", "Bananas (lakatan)", "Mangoes (carabao)", "Mangoes (piko)", "Pineapples", "Coconut"),
  oils_and_condiments = c("Oil (cooking)", "Sugar (brown)", "Sugar (white)", "Garlic (large)", "Garlic (small)", "Ginger", "Calamansi", "Anchovies")
)

# Category assignment
food_prices$Category <- sapply(food_prices$Commodity, function(x) {
  if (x %in% ingredient_categories$protein) return("Protein")
  if (x %in% ingredient_categories$carbohydrate) return("Carbohydrate")
  if (x %in% ingredient_categories$vegetables) return("Vegetable")
  if (x %in% ingredient_categories$fruits) return("Fruit")
  if (x %in% ingredient_categories$oils_and_condiments) return("Oils and Condiments")
  return("Other")
})

# Unit price calculation (per kg)
food_prices <- food_prices %>%
  mutate(UnitPrice_kg = ifelse(Unit == "750 ML" & Commodity == "Oil (cooking)", Price / (0.75 * 0.92),
                               ifelse(Unit == "KG", Price, NA))) %>%
  filter(!is.na(UnitPrice_kg)) # Remove rows where UnitPrice_kg is NA


# Treemap: Visual breakdown of ingredient categories
category_size <- food_prices %>%
  count(Category)

treemap(category_size,
        index = "Category",
        vSize = "n",
        title = "Treemap of Ingredient Categories",
        palette = "Set3")

## Boxplot: Price distribution by category
ggplot(food_prices, aes(x = Category, y = UnitPrice_kg, fill = Category)) +
  geom_boxplot() +
  scale_fill_viridis_d() +
  theme_minimal() +
  labs(title = "Price Distribution by Ingredient Category",
       x = "Category", y = "Price (PHP per kg)",
       fill = "Category") +
  theme(axis.text.x = element_text(angle = 45, hjust = 1))






# Average unit price per category
#  Category Distribution Visualization
avg_price <- food_prices %>%
  group_by(Category) %>%
  summarise(Avg_UnitPrice = mean(UnitPrice_kg, na.rm = TRUE)) %>%
  arrange(desc(Avg_UnitPrice))

# Bar plot
ggplot(avg_price, aes(x = reorder(Category, -Avg_UnitPrice), y = Avg_UnitPrice, fill = Category)) +
  geom_bar(stat = "identity", show.legend = FALSE) +
  theme_minimal() +
  scale_fill_brewer(palette = "Set3") +
  labs(title = "Average Unit Price per Ingredient Category",
       x = "Ingredient Category",
       y = "Average Unit Price (per kg)") +
  theme(axis.text.x = element_text(angle = 45, hjust = 1))






category_counts <- data.frame(
  Category = names(ingredient_categories),
  Count = sapply(ingredient_categories, length)
)

# Create individual plots
p1 <- ggplot(category_counts, aes(x = reorder(Category, -Count), y = Count)) +
  geom_col(width = 0.7, fill = "#69b3a2") +
  coord_flip() +
  theme_minimal() +
  labs(title = "Category Distribution", x = "Category", y = "Count")

p2 <- ggplot(food_prices, aes(x = Category, y = UnitPrice_kg, fill = Category)) +
  geom_boxplot() +
  coord_flip() +
  theme_minimal() +
  labs(title = "Price Distribution", x = "Category", y = "Unit Price (PHP/kg)")

# Combine plots
grid.arrange(p1, p2, ncol = 2)






# Average price per category per year
yearly_avg_prices <- food_prices %>%
  group_by(Year, Category) %>%
  summarize(Avg_Price = mean(UnitPrice_kg, na.rm = TRUE), .groups="keep") %>%
  pivot_wider(names_from = Category, values_from = Avg_Price)

# Imputation (fill NA with previous year's value, if available, otherwise 0)
yearly_avg_prices <- yearly_avg_prices %>%
  arrange(Year) %>%
  mutate(
    Protein = ifelse(is.na(Protein), lag(Protein, default = 0), Protein),
    Carbohydrate = ifelse(is.na(Carbohydrate), lag(Carbohydrate, default = 0), Carbohydrate),
    Vegetable = ifelse(is.na(Vegetable), lag(Vegetable, default = 0), Vegetable),
    Fruit = ifelse(is.na(Fruit), lag(Fruit, default = 0), Fruit),
    `Oils and Condiments` = ifelse(is.na(`Oils and Condiments`), lag(`Oils and Condiments`, default = 0), `Oils and Condiments`),
    Other = ifelse(is.na(Other), lag(Other, default = 0), Other)
  )

# Replace the first NA values in each column with 0.
yearly_avg_prices <- yearly_avg_prices %>%
  mutate(
    Protein = ifelse(is.na(Protein), 0, Protein),
    Carbohydrate = ifelse(is.na(Carbohydrate), 0, Carbohydrate),
    Vegetable = ifelse(is.na(Vegetable), 0, Vegetable),
    Fruit = ifelse(is.na(Fruit), 0, Fruit),
    `Oils and Condiments` = ifelse(is.na(`Oils and Condiments`), 0, `Oils and Condiments`),
    Other = ifelse(is.na(Other), 0, Other)
  )


# Line plot of average prices over time by category
yearly_avg_prices_long <- yearly_avg_prices %>%
  pivot_longer(cols = -Year, names_to = "Category", values_to = "Avg_Price")

ggplot(yearly_avg_prices_long, aes(x = Year, y = Avg_Price, color = Category)) +
  geom_line(size = 1.2) +
  geom_point(size = 2) +
  scale_color_viridis_d() +
  theme_minimal() +
  labs(title = "Trend of Average Ingredient Prices by Category (PHP/kg)",
       x = "Year",
       y = "Average Price (PHP/kg)",
       color = "Category")

# Stacked area plot to show category price share over time
ggplot(yearly_avg_prices_long, aes(x = Year, y = Avg_Price, fill = Category)) +
  geom_area(alpha = 0.8, color = "white", size = 0.5) +
  scale_fill_brewer(palette = "Set3") +
  theme_minimal() +
  labs(title = "Category-wise Contribution to Average Food Prices Over Time",
       x = "Year",
       y = "Average Price (PHP/kg)",
       fill = "Category")









### # Meal composition in grams
protein_weight <- 175 # grams
carb_weight <- 250 # grams
veg_weight <- 100 # grams
fruit_weight <- 150 # grams
oils_and_condiments_weight <- 10 # grams

# Calculate base meal price per year
yearly_avg_prices$Base_Meal_Price <-
  (protein_weight * yearly_avg_prices$Protein / 1000) +
  (carb_weight * yearly_avg_prices$Carbohydrate / 1000) +
  (veg_weight * yearly_avg_prices$Vegetable / 1000) +
  (fruit_weight * yearly_avg_prices$Fruit / 1000) +
  (oils_and_condiments_weight * yearly_avg_prices$`Oils and Condiments` / 1000)

print(yearly_avg_prices)


# Line Graph. Base Meal Price Over Time
ggplot(yearly_avg_prices, aes(x = Year, y = Base_Meal_Price)) +
  geom_line(color = "blue", linewidth = 1.2) +
  geom_point(data = yearly_avg_prices[yearly_avg_prices$Year == max(yearly_avg_prices$Year), ], color = "red", size = 3) +
  labs(title = "Base Meal Price Trend (2019-Present)", x = "Year", y = "Base Meal Price (PHP)") +
  theme_minimal()


# Find the latest year
latest_year <- max(yearly_avg_prices$Year)

# Extract the Base_Meal_Price for the latest year
latest_base_price <- yearly_avg_prices %>%
  filter(Year == latest_year) %>%
  pull(Base_Meal_Price)

# Print the recommended base price
print(paste("Recommended Base Meal Price:", latest_base_price, "PHP"))








latest_base_price <- latest_base_price

# Example scaling factor (adjust as needed)
scaling_factor <- 3.8

# Calculate the scaled base price
scaled_base_price <- latest_base_price * scaling_factor

# Print the scaled base price
print(paste("Scaled Base Meal Price:", scaled_base_price, "PHP"))

# Calculate the daily allowance for two meals.
daily_allowance <- scaled_base_price * 1 # adjust here if needed more than one meal a day
daily_allowance <- round(daily_allowance/10)*10

print(paste("Recommended Daily Meal Allowance:", daily_allowance, "PHP"))





key_data <- data.frame(
  Metric = c("Latest Year", "Base Meal Price (PHP)", "Scaling Factor", "Recommended Daily Allowance (PHP)"),
  Value = c(latest_year, latest_base_price, scaling_factor, daily_allowance)
)

print(key_data)






