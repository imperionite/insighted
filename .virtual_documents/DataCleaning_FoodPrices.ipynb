library(dplyr)
library(ggplot2)
library(rlang)


options(repr.plot.width = 8, repr.plot.height = 8)


# Load the data
df <- read.csv("food_prices_ph.csv", stringsAsFactors = TRUE)

# Check the structure of the data
str(df)


# Check the first 6 rows in the dataframe (df)
head(df)


# check df dimensions; check for the # of rows as observations
dim(df)


# Check the column names
colnames(df)


# Check for missing values in each column
colSums(is.na(df))


# Check for duplicate rows
duplicates <- duplicated(df)
sum(duplicates)


# Identify numeric columns
numeric_cols <- names(df)[sapply(df, is.numeric)]

# Identify categorical (factor) columns
categorical_cols <- names(df)[sapply(df, is.factor)]

# Output the results
numeric_cols
categorical_cols



# Function to detect outliers based on IQR
detect_outliers <- function(df) {
  outliers <- sapply(df, function(x) {
    if (is.numeric(x)) {
      Q1 <- quantile(x, 0.25, na.rm = TRUE)
      Q3 <- quantile(x, 0.75, na.rm = TRUE)
      IQR <- Q3 - Q1
      lower_bound <- Q1 - 1.5 * IQR
      upper_bound <- Q3 + 1.5 * IQR
      sum(x < lower_bound | x > upper_bound, na.rm = TRUE)
    } else {
      return(0)
    }
  })
  
  return(outliers)
}

# Detect outliers in numeric columns
outlier_counts <- detect_outliers(df)
outlier_counts



# Visualize the numeric columns with outliers using box plot
numeric_columns <- sapply(df, is.numeric)
df_numeric <- df[, numeric_columns, drop = FALSE]  # Ensure we're working only with numeric data

# Check if df_numeric is empty or contains NA values
if (ncol(df_numeric) == 0) {
  stop("There are no numeric columns in the dataframe.")
}

# Create box plot for numeric columns with outliers using stack
ggplot(stack(df_numeric), aes(x = ind, y = values)) +
  geom_boxplot() +
  xlab('Variables') + ylab('Values') + 
  ggtitle('Boxplot of Numeric Columns with Outliers')


# Adjust the multiplier to be more strict (e.g., 2.5 * IQR or 3 * IQR)
remove_outliers <- function(df, factor = 1.5) {
  df_no_outliers <- df
  for (i in 1:ncol(df)) {
    if (is.numeric(df[[i]])) {
      Q1 <- quantile(df[[i]], 0.25, na.rm = TRUE)
      Q3 <- quantile(df[[i]], 0.75, na.rm = TRUE)
      IQR <- Q3 - Q1
      lower_bound <- Q1 - factor * IQR
      upper_bound <- Q3 + factor * IQR
      df_no_outliers <- df_no_outliers[df[[i]] >= lower_bound & df[[i]] <= upper_bound, ]
    }
  }
  return(df_no_outliers)
}

# Remove outliers using a stricter threshold (e.g., 2.5 * IQR)
# Avoid over removal of outliers to preserve context
# There is no rule how many are allowed in the study but not more than 10% of total # of observations
df_no_outliers <- remove_outliers(df)

# Check outliers again in the cleaned dataset
outlier_counts_after_removal <- detect_outliers(df_no_outliers)
outlier_counts_after_removal




# Visualize the data after removing outliers using box plot
df_numeric_no_outliers <- df_no_outliers[, numeric_columns, drop = FALSE]

# Create box plot for numeric columns after removing outliers
ggplot(stack(df_numeric_no_outliers), aes(x = ind, y = values)) +
  geom_boxplot() +
  xlab('Variables') + ylab('Values') + 
  ggtitle('Boxplot of Numeric Columns After Removing Outliers')



# Function to detect outliers (same as before)
detect_outliers <- function(df) {
  outliers <- sapply(df, function(x) {
    if (is.numeric(x)) {
      Q1 <- quantile(x, 0.25, na.rm = TRUE)
      Q3 <- quantile(x, 0.75, na.rm = TRUE)
      IQR <- Q3 - Q1
      lower_bound <- Q1 - 1.5 * IQR
      upper_bound <- Q3 + 1.5 * IQR
      sum(x < lower_bound | x > upper_bound, na.rm = TRUE)
    } else {
      return(0)
    }
  })
  
  return(outliers)
}

# Re-run the outlier detection on the dataset after removing outliers
outlier_counts_after_removal <- detect_outliers(df_no_outliers)

# Display the count of remaining outliers
outlier_counts_after_removal



dim(df_no_outliers)


write.csv(df_no_outliers, "food_prices_ph_cleaned.csv")


str(df_no_outliers)


summary(df_no_outliers)









