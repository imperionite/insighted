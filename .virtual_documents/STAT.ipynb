


library(dplyr)
library(ggplot2)
library(ROCR)


# options(repr.plot.width = 8, repr.plot.height = 8)


# Load the data
data <- read.csv("cleaned_data.csv", stringsAsFactors = TRUE)

# Check the structure of the data
str(data)


# Create the three engineered variables: digital_literacy, socio_economic_status, and access_score

# 1. Digital Literacy (categorical)
data$digital_literacy <- ifelse(data$device == "Computer" & data$it_student == "Yes", "High", "Low")
data$digital_literacy <- as.factor(data$digital_literacy)

# 2. Socio-Economic Status (categorical)
data$socio_economic_status <- case_when(
  data$financial_condition == "Rich" & data$education_level == "College" ~ "High",
  data$financial_condition == "Mid" & data$education_level == "School" ~ "Medium",
  data$financial_condition == "Poor" & data$education_level == "School" ~ "Low",
  TRUE ~ "Other" # For combinations not explicitly covered.
)
data$socio_economic_status <- as.factor(data$socio_economic_status)

# 3. Access Score (numerical)
# Assign numerical values to each level of the variables
location_score <- ifelse(data$location == "Yes", 1, 0)
load_shedding_score <- ifelse(data$load_shedding == "Low", 1, 0)
internet_type_score <- ifelse(data$internet_type == "Wifi", 1, 0)

network_score <- case_when(
  data$network_type == "4G" ~ 3,
  data$network_type == "3G" ~ 2,
  data$network_type == "2G" ~ 1,
  TRUE ~ 0
)

# Calculate the access score
data$access_score <- location_score + load_shedding_score + internet_type_score + network_score

# Check the new variables
head(data[, c("digital_literacy", "socio_economic_status", "access_score")])



# Create binary adaptivity variable where "Moderate" and "High" are both considered high (1)
data$high_adaptivity <- ifelse(data$adaptivity_level %in% c("Moderate", "High"), 1, 0)
data$high_adaptivity <- as.factor(data$high_adaptivity)

# Check the new variable
table(data$high_adaptivity)


# Initial Data Exploration: Check the distributions of the engineered variables
# Check distributions
table(data$digital_literacy)
table(data$socio_economic_status)
summary(data$access_score)

# Visualize distributions
ggplot(data, aes(x = digital_literacy)) + 
  geom_bar(fill = "#e6f2ff", color = "#3399ff") + 
  theme_minimal() + 
  theme(axis.text.x = element_text(angle = 45, hjust = 1))

ggplot(data, aes(x = socio_economic_status)) + 
  geom_bar(fill = "#e6f2ff", color = "#3399ff") + 
  theme_minimal() + 
  theme(axis.text.x = element_text(angle = 45, hjust = 1))

ggplot(data, aes(x = access_score)) + 
  geom_histogram(binwidth = 1, fill = "#e6f2ff", color = "#3399ff") + 
  theme_minimal()

ggplot(data, aes(x = high_adaptivity)) + 
  geom_bar(fill = "#e6f2ff", color = "#3399ff") + 
  theme_minimal() + 
  theme(axis.text.x = element_text(angle = 45, hjust = 1))



# Statistical Analysis
# Examine the associations between our categorical engineered variables (digital_literacy, socio_economic_status) and our target variable (high_adaptivity)
# using Fischer's Exact Test due to the low expected frequecy in contingency table and low sample size.

# Fisher's Exact Test for digital literacy vs. high adaptivity
fisher_digital_literacy <- fisher.test(table(data$digital_literacy, data$high_adaptivity))
print(fisher_digital_literacy)

# Fisher's Exact Test for socio-economic status vs. high adaptivity
fisher_socio_economic <- fisher.test(table(data$socio_economic_status, data$high_adaptivity))
print(fisher_socio_economic)




# Logistic Regression
# Run the logistic regression model to predict high_adaptivity based on digital_literacy, socio_economic_status, and access_score.

# Run logistic regression model
model <- glm(high_adaptivity ~ digital_literacy + socio_economic_status + access_score, data = data, family = binomial)

# Summary of the model
summary(model)

# Odds ratios
odds_ratios <- exp(coef(model))
print(odds_ratios)









# Create bar plots to visualize the relationships between the categorical variables and high_adaptivity

# Bar plot for digital literacy vs. high adaptivity
ggplot(data, aes(x = digital_literacy, fill = high_adaptivity)) +
  geom_bar(position = "dodge") +
  scale_fill_manual(values = c("#ecf2f9", "#cce6ff")) + # Set colors
  labs(title = "Digital Literacy vs. High Adaptivity", y = "Proportion") +
  theme_minimal() # Add minimal theme to make it look professional

# Bar plot for socio-economic status vs. high adaptivity
ggplot(data, aes(x = socio_economic_status, fill = high_adaptivity)) +
  geom_bar(position = "dodge") +
  scale_fill_manual(values = c("#ecf2f9", "#c2f0c2")) + # Set colors
  labs(title = "Socio-Economic Status vs. High Adaptivity", y = "Proportion") +
  theme_minimal() # Add minimal theme to make it look professional


#  Evaluating the Model Performance: Evaluate the model's performance using metrics like:
# Confusion Matrix: To see how well the model predicts high_adaptivity.
# ROC Curve and AUC: To assess the model's ability to discriminate between the two classes

# Confusion Matrix: To see how well the model predicts high_adaptivity
predicted_probabilities <- predict(model, type = "response")
predicted_classes <- ifelse(predicted_probabilities > 0.5, 1, 0)
confusion_matrix <- table(Actual = data$high_adaptivity, Predicted = predicted_classes)
print(confusion_matrix)

# ROC Curve and AUC: To assess the model's ability to discriminate between the two classes
prediction <- prediction(predicted_probabilities, data$high_adaptivity)
performance <- performance(prediction, "tpr", "fpr")

# Plotting the ROC curve 
plot(performance, main = "ROC Curve", col = rgb(0.678, 0.847, 0.902)) 
auc <- performance(prediction, "auc")
print(paste("AUC:", auc@y.values[[1]]))


# Scatter Plot (Access Score vs. Probability)
# Scatter Plot (Access Score vs. Probability): To visualize the relationship between access_score and the probability of high_adaptivity

ggplot(data, aes(x = access_score, y = predicted_probabilities, color = predicted_probabilities)) +
  geom_point(alpha = 0.7) +  # Alpha adds transparency to points
  labs(title = "Access Score vs. Probability of High Adaptivity",
       x = "Access Score", 
       y = "Predicted Probability of High Adaptivity") +
  scale_color_gradient(low = "blue", high = "red") 






# Coefficient Plot: To show the coefficients of the logistic regression model
coef_data <- data.frame(Coefficient = names(coef(model)), Value = coef(model))

ggplot(coef_data[-1, ], aes(x = Coefficient, y = Value, fill = Value)) +  # Color bars based on Value
  geom_bar(stat = "identity") +
  labs(title = "Logistic Regression Coefficients",
       x = "Coefficient",
       y = "Value") +
  coord_flip() +  # Flip coordinates for better readability
  scale_fill_gradient2(low = "red", mid = "yellow", high = "#9fff80", midpoint = 0) +  # Red for negative, green for positive
  theme_minimal()














# Gender vs. high_adaptivity

# Bar plot
ggplot(data, aes(x = gender, fill = high_adaptivity)) +
  geom_bar(position = "dodge") +
  scale_fill_manual(values = c("#ecf2f9", "#9fbfdf")) +
  labs(title = "Gender vs. High Adaptivity", y = "Proportion") +
  theme_minimal()

# Fisher's Exact Test
fisher_gender <- fisher.test(table(data$gender, data$high_adaptivity))
print(fisher_gender)


# Education Level vs. high_adaptivity

# Bar plot
ggplot(data, aes(x = education_level, fill = high_adaptivity)) +
  geom_bar(position = "dodge") +
  scale_fill_manual(values = c("#ecf2f9", "#9fbfdf")) +
  labs(title = "Education Level vs. High Adaptivity", y = "Proportion") +
  theme_minimal()

# Fisher's Exact Test
fisher_education <- fisher.test(table(data$education_level, data$high_adaptivity))
print(fisher_education)


# Financial Condition vs. high_adaptivity

# Bar plot
ggplot(data, aes(x = financial_condition, fill = high_adaptivity)) +
  geom_bar(position = "dodge") +
  scale_fill_manual(values = c("#ecf2f9", "#9fbfdf")) +
  labs(title = "Financial Condition vs. High Adaptivity", y = "Proportion") +
  theme_minimal()

# Fisher's Exact Test
fisher_financial <- fisher.test(table(data$financial_condition, data$high_adaptivity))
print(fisher_financial)


# Internet Type vs. high_adaptivity

# Bar plot
ggplot(data, aes(x = internet_type, fill = high_adaptivity)) +
  geom_bar(position = "dodge") +
  scale_fill_manual(values = c("#ecf2f9", "#9fbfdf")) +
  labs(title = "Internet Type vs. High Adaptivity", y = "Proportion") +
  theme_minimal()

# Fisher's Exact Test
fisher_internet <- fisher.test(table(data$internet_type, data$high_adaptivity))
print(fisher_internet)


# Network Type vs. high_adaptivity

# Bar plot
ggplot(data, aes(x = network_type, fill = high_adaptivity)) +
  geom_bar(position = "dodge") +
  scale_fill_manual(values = c("#ecf2f9", "#9fbfdf")) +
  labs(title = "Network Type vs. High Adaptivity", y = "Proportion") +
  theme_minimal()

# Fisher's Exact Test
fisher_network <- fisher.test(table(data$network_type, data$high_adaptivity))
print(fisher_network)


# Device vs. high_adaptivity

# Bar plot
ggplot(data, aes(x = device, fill = high_adaptivity)) +
  geom_bar(position = "dodge") +
  scale_fill_manual(values = c("#ecf2f9", "#9fbfdf")) +
  labs(title = "Device vs. High Adaptivity", y = "Proportion") +
  theme_minimal()

# Fisher's Exact Test
fisher_device <- fisher.test(table(data$device, data$high_adaptivity))
print(fisher_device)


# Age vs. high_adaptivity

ggplot(data, aes(x = factor(high_adaptivity), y = age_numeric, fill = factor(high_adaptivity))) +
  geom_boxplot(color = "black", linewidth = 0.7, outlier.size = 3, outlier.colour = "red") +  # Black border and red outliers
  scale_fill_manual(values = c("0" = "#e6e6e6", "1" = "#66cc99")) +  # Professional color palette for high adaptivity categories
  labs(title = "Age vs. High Adaptivity", x = "High Adaptivity", y = "Age") +
  theme_minimal(base_size = 14) +  # Clean, larger font for readability
  theme(
    plot.title = element_text(face = "bold", size = 16, hjust = 0.5),  # Bold, centered title
    axis.title = element_text(face = "bold", size = 14),  # Bold axis titles
    axis.text = element_text(size = 12),  # Axis text size
    legend.title = element_text(face = "bold", size = 14),  # Bold legend title
    legend.text = element_text(size = 12),  # Legend text size
    panel.grid.major = element_line(color = "gray", linewidth = 0.5, linetype = "dashed"),  # Subtle grid lines
    panel.grid.minor = element_blank()  # Remove minor grid lines
  )

# T-test
age_high_adaptivity_0 <- data$age_numeric[data$high_adaptivity == 0]
age_high_adaptivity_1 <- data$age_numeric[data$high_adaptivity == 1]
t_test_age <- t.test(age_high_adaptivity_0, age_high_adaptivity_1)
print(t_test_age)





# Digital Literacy

# Frequency table
digital_literacy_table <- table(data$digital_literacy)
print(digital_literacy_table)

# Bar plot
ggplot(data, aes(x = digital_literacy)) +
  geom_bar(fill = "skyblue") +
  labs(title = "Distribution of Digital Literacy", x = "Digital Literacy", y = "Count") +
  theme_minimal()



# Socio-Economic Status

# Frequency table
socio_economic_table <- table(data$socio_economic_status)
print(socio_economic_table)

# Bar plot
ggplot(data, aes(x = socio_economic_status)) +
  geom_bar(fill = "lightgreen") +
  labs(title = "Distribution of Socio-Economic Status", x = "Socio-Economic Status", y = "Count") +
  theme_minimal()


# Access Score

# Summary statistics
summary(data$access_score)

# Histogram
ggplot(data, aes(x = access_score)) +
  geom_histogram(binwidth = 1, fill = "lightcoral", color = "black") +
  labs(title = "Distribution of Access Score", x = "Access Score", y = "Count") +
  theme_minimal()

# Box plot
ggplot(data, aes(y = access_score)) +
  geom_boxplot(fill = "lightblue") +
  labs(title = "Box Plot of Access Score", y = "Access Score") +
  theme_minimal()


# Digital Literacy vs. high_adaptivity

# Bar plot
ggplot(data, aes(x = digital_literacy, fill = high_adaptivity)) +
  geom_bar(position = "dodge") +
  labs(title = "Digital Literacy vs. High Adaptivity", y = "Proportion") +
  theme_minimal()


# Socio-Economic Status vs. high_adaptivity

# Bar plot
ggplot(data, aes(x = socio_economic_status, fill = high_adaptivity)) +
  geom_bar(position = "dodge") +
  labs(title = "Socio-Economic Status vs. High Adaptivity", y = "Proportion") +
  theme_minimal()


# Access Score vs. high_adaptivity

# Scatter plot
ggplot(data, aes(x = access_score, y = as.numeric(as.character(high_adaptivity)))) +
  geom_point() +
  labs(title = "Access Score vs. High Adaptivity", x = "Access Score", y = "High Adaptivity (1=Yes, 0=No)") +
  theme_minimal()


# Correlation Analysis: Access Score vs. Age Numeric

# Correlation coefficient
correlation <- cor(data$access_score, data$age_numeric)
print(paste("Correlation between Access Score and Age:", correlation))

# Scatter plot
ggplot(data, aes(x = age_numeric, y = access_score)) +
  geom_point() +
  labs(title = "Access Score vs. Age", x = "Age", y = "Access Score") +
  theme_minimal()


# Outlier Checks: Age Numeric

# Box plot
ggplot(data, aes(y = age_numeric)) +
  geom_boxplot(fill = "lightgreen") +
  labs(title = "Box Plot of Age", y = "Age") +
  theme_minimal()

# Histogram
ggplot(data, aes(x = age_numeric)) +
  geom_histogram(binwidth = 2, fill = "skyblue", color = "black") +
  labs(title = "Distribution of Age", x = "Age", y = "Count") +
  theme_minimal()
