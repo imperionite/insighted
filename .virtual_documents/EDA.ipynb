


library(tidyverse)
library(data.table)
library(skimr)
library(janitor) 
library(corrplot)
library(randomForest)


# read and load csv
data <- read.csv("cleaned_data.csv", stringsAsFactors = TRUE)


str(data)


head(data)


summary(data)


# Count missing (NA) values
sum(is.na(data))


str(data)


dim(data)


# Check the modified data
head(data)
str(data)


# Univariate Analysis of Original Variables: Gender

# Frequency table
library(ggplot2)

# Frequency table
# Univariate Analysis of Original Variables: Gender

# Frequency table
gender_table <- table(data$gender)
print(gender_table)

# Bar plot
ggplot(data, aes(x = gender)) +
  geom_bar(fill = "#ecf2f9") +
  labs(title = "Distribution of Gender", x = "Gender", y = "Count") +
  theme_minimal()


# Univariate Analysis of Original Variables: Education Level

# Frequency table
education_table <- table(data$education_level)
print(education_table)


# Bar plot
ggplot(data, aes(x = education_level)) +
  geom_bar(fill = "#b3cce6") +
  labs(title = "Distribution of Education Level", x = "Education Level", y = "Count") +
  theme_minimal()


# Univariate Analysis of Original Variables: Financial Condition

# Frequency table
financial_table <- table(data$financial_condition)
print(financial_table)

# Bar plot
ggplot(data, aes(x = financial_condition)) +
  geom_bar(fill = "#c2f0c2") +
  labs(title = "Distribution of Financial Condition", x = "Financial Condition", y = "Count") +
  theme_minimal()


# Univariate Analysis of Original Variables: Internet Type

# Frequency table
internet_table <- table(data$internet_type)
print(internet_table)

# Bar plot
ggplot(data, aes(x = internet_type)) +
  geom_bar(fill = "#ecf2f9") +
  labs(title = "Distribution of Internet Type", x = "Internet Type", y = "Count") +
  theme_minimal()


# Univariate Analysis of Original Variables: Network Type

# Frequency table
network_table <- table(data$network_type)
print(network_table)

# Bar plot
ggplot(data, aes(x = network_type)) +
  geom_bar(fill = "#ecf2f9") +
  labs(title = "Distribution of Network Type", x = "Network Type", y = "Count") +
  theme_minimal()


# Univariate Analysis of Original Variables: Device

# Frequency table
device_table <- table(data$device)
print(device_table)

# Bar plot
ggplot(data, aes(x = device)) +
  geom_bar(fill = "#ecf2f9") +
  labs(title = "Distribution of Device", x = "Device", y = "Count") +
  theme_minimal()


# Univariate Analysis of Original Variables: Age Numeric

# Summary statistics
summary(data$age_numeric)

# Histogram
ggplot(data, aes(x = age_numeric)) +
  geom_histogram(binwidth = 2, fill = "#b3cce6", color = "#79a6d2") +
  labs(title = "Distribution of Age", x = "Age", y = "Count") +
  theme_minimal()

# Box plot
ggplot(data, aes(y = age_numeric)) +
  geom_boxplot(fill = "#c6d9ec") +
  labs(title = "Box Plot of Age", y = "Age") +
  theme_minimal()
