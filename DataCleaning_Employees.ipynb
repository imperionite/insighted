{
 "cells": [
  {
   "cell_type": "code",
   "execution_count": 21,
   "id": "0cc115c2-f1ea-4619-b1da-4583be2c8d0b",
   "metadata": {},
   "outputs": [],
   "source": [
    "library(dplyr)\n",
    "library(ggplot2)\n",
    "library(rlang)"
   ]
  },
  {
   "cell_type": "code",
   "execution_count": 22,
   "id": "e1990311-397f-4bc0-a61b-0bdb8b880e86",
   "metadata": {},
   "outputs": [],
   "source": [
    "options(repr.plot.width = 8, repr.plot.height = 8)"
   ]
  },
  {
   "cell_type": "code",
   "execution_count": 23,
   "id": "9dcb34ee-32d9-4597-a5fb-0e3ad619357a",
   "metadata": {},
   "outputs": [
    {
     "name": "stdout",
     "output_type": "stream",
     "text": [
      "'data.frame':\t34 obs. of  19 variables:\n",
      " $ Employee..             : int  10001 10002 10003 10004 10005 10006 10007 10008 10009 10010 ...\n",
      " $ Last.Name              : Factor w/ 30 levels \"Aguilar\",\"Alvaro\",..: 11 15 3 22 13 29 26 23 4 2 ...\n",
      " $ First.Name             : Factor w/ 34 levels \"Alice\",\"Allison \",..: 26 5 7 19 15 3 8 1 31 30 ...\n",
      " $ Birthday               : Factor w/ 34 levels \"01/11/1942\",\"01/14/1987\",..: 27 16 19 15 24 6 10 13 25 11 ...\n",
      " $ Address                : Factor w/ 34 levels \"#284 T. Morato corner, Scout Rallos Street, Quezon City\",..: 34 33 32 9 31 5 26 4 21 1 ...\n",
      " $ Phone.Number           : Factor w/ 34 levels \"023-079-009\",..: 30 6 31 22 5 27 23 34 9 2 ...\n",
      " $ SSS..                  : Factor w/ 34 levels \"11-5062972-7\",..: 14 29 8 11 26 23 9 32 13 34 ...\n",
      " $ Philhealth..           : num  8.20e+11 3.32e+11 1.77e+11 3.42e+11 9.57e+11 ...\n",
      " $ TIN..                  : Factor w/ 34 levels \"031-702-374-000\",..: 20 29 34 31 1 15 28 32 27 23 ...\n",
      " $ Pag.ibig..             : num  6.91e+11 6.64e+11 1.72e+11 4.17e+11 9.52e+11 ...\n",
      " $ Status                 : Factor w/ 2 levels \"Probationary\",..: 2 2 2 2 2 2 2 2 2 2 ...\n",
      " $ Position               : Factor w/ 18 levels \"Account Manager\",..: 5 8 6 7 13 10 12 11 11 4 ...\n",
      " $ Immediate.Supervisor   : Factor w/ 12 levels \"Alvaro, Roderick\",..: 7 4 4 4 5 5 12 11 11 2 ...\n",
      " $ Basic.Salary           : Factor w/ 12 levels \"22,500\",\"23,250\",..: 12 11 11 11 9 9 7 1 1 9 ...\n",
      " $ Rice.Subsidy           : Factor w/ 1 level \"1,500\": 1 1 1 1 1 1 1 1 1 1 ...\n",
      " $ Phone.Allowance        : Factor w/ 4 levels \"1,000\",\"2,000\",..: 2 2 2 2 1 1 4 3 3 1 ...\n",
      " $ Clothing.Allowance     : Factor w/ 3 levels \"1,000\",\"500\",..: 1 1 1 1 1 1 3 2 2 1 ...\n",
      " $ Gross.Semi.monthly.Rate: Factor w/ 12 levels \"11,250\",\"11,625\",..: 12 11 11 11 9 9 7 1 1 9 ...\n",
      " $ Hourly.Rate            : num  536 357 357 357 314 ...\n"
     ]
    }
   ],
   "source": [
    "# Load the data\n",
    "df <- read.csv(\"employees_details.csv\", stringsAsFactors = TRUE)\n",
    "\n",
    "# Check the structure of the data\n",
    "str(df)"
   ]
  },
  {
   "cell_type": "code",
   "execution_count": 24,
   "id": "81890dc5-efdc-41e0-b6d1-881107cf7814",
   "metadata": {},
   "outputs": [
    {
     "data": {
      "text/html": [
       "<table class=\"dataframe\">\n",
       "<caption>A data.frame: 6 × 19</caption>\n",
       "<thead>\n",
       "\t<tr><th></th><th scope=col>Employee..</th><th scope=col>Last.Name</th><th scope=col>First.Name</th><th scope=col>Birthday</th><th scope=col>Address</th><th scope=col>Phone.Number</th><th scope=col>SSS..</th><th scope=col>Philhealth..</th><th scope=col>TIN..</th><th scope=col>Pag.ibig..</th><th scope=col>Status</th><th scope=col>Position</th><th scope=col>Immediate.Supervisor</th><th scope=col>Basic.Salary</th><th scope=col>Rice.Subsidy</th><th scope=col>Phone.Allowance</th><th scope=col>Clothing.Allowance</th><th scope=col>Gross.Semi.monthly.Rate</th><th scope=col>Hourly.Rate</th></tr>\n",
       "\t<tr><th></th><th scope=col>&lt;int&gt;</th><th scope=col>&lt;fct&gt;</th><th scope=col>&lt;fct&gt;</th><th scope=col>&lt;fct&gt;</th><th scope=col>&lt;fct&gt;</th><th scope=col>&lt;fct&gt;</th><th scope=col>&lt;fct&gt;</th><th scope=col>&lt;dbl&gt;</th><th scope=col>&lt;fct&gt;</th><th scope=col>&lt;dbl&gt;</th><th scope=col>&lt;fct&gt;</th><th scope=col>&lt;fct&gt;</th><th scope=col>&lt;fct&gt;</th><th scope=col>&lt;fct&gt;</th><th scope=col>&lt;fct&gt;</th><th scope=col>&lt;fct&gt;</th><th scope=col>&lt;fct&gt;</th><th scope=col>&lt;fct&gt;</th><th scope=col>&lt;dbl&gt;</th></tr>\n",
       "</thead>\n",
       "<tbody>\n",
       "\t<tr><th scope=row>1</th><td>10001</td><td>Garcia    </td><td>Manuel III  </td><td>10/11/1983</td><td>Valero Carpark Building Valero Street 1227, Makati City                    </td><td>966-860-270</td><td>44-4506057-3</td><td>820126853951</td><td>442-605-657-000</td><td>691295330870</td><td>Regular</td><td>Chief Executive Officer  </td><td>NULL              </td><td>90,000</td><td>1,500</td><td>2,000</td><td>1,000</td><td>45,000</td><td>535.71</td></tr>\n",
       "\t<tr><th scope=row>2</th><td>10002</td><td>Lim       </td><td>Antonio     </td><td>06/19/1988</td><td>San Antonio De Padua 2, Block 1 Lot 8 and 2, Dasmarinas, Cavite            </td><td>171-867-411</td><td>52-2061274-9</td><td>331735646338</td><td>683-102-776-000</td><td>663904995411</td><td>Regular</td><td>Chief Operating Officer  </td><td>Garcia, Manuel III</td><td>60,000</td><td>1,500</td><td>2,000</td><td>1,000</td><td>30,000</td><td>357.14</td></tr>\n",
       "\t<tr><th scope=row>3</th><td>10003</td><td>Aquino    </td><td>Bianca Sofia</td><td>08/04/1989</td><td>Rm. 402 4/F Jiao Building Timog Avenue Cor. Quezon Avenue 1100, Quezon City</td><td>966-889-370</td><td>30-8870406-2</td><td>177451189665</td><td>971-711-280-000</td><td>171519773969</td><td>Regular</td><td>Chief Finance Officer    </td><td>Garcia, Manuel III</td><td>60,000</td><td>1,500</td><td>2,000</td><td>1,000</td><td>30,000</td><td>357.14</td></tr>\n",
       "\t<tr><th scope=row>4</th><td>10004</td><td>Reyes     </td><td>Isabella    </td><td>06/16/1994</td><td>460 Solanda Street Intramuros 1000, Manila                                 </td><td>786-868-477</td><td>40-2511815-0</td><td>341911411254</td><td>876-809-437-000</td><td>416946776041</td><td>Regular</td><td>Chief Marketing Officer  </td><td>Garcia, Manuel III</td><td>60,000</td><td>1,500</td><td>2,000</td><td>1,000</td><td>30,000</td><td>357.14</td></tr>\n",
       "\t<tr><th scope=row>5</th><td>10005</td><td>Hernandez </td><td>Eduard      </td><td>09/23/1989</td><td>National Highway, Gingoog,  Misamis Occidental                             </td><td>088-861-012</td><td>50-5577638-1</td><td>957436191812</td><td>031-702-374-000</td><td>952347222457</td><td>Regular</td><td>IT Operations and Systems</td><td>Lim, Antonio      </td><td>52,670</td><td>1,500</td><td>1,000</td><td>1,000</td><td>26,335</td><td>313.51</td></tr>\n",
       "\t<tr><th scope=row>6</th><td>10006</td><td>Villanueva</td><td>Andrea Mae  </td><td>02/14/1988</td><td>17/85 Stracke Via Suite 042, Poblacion, Las Piñas 4783 Dinagat Islands     </td><td>918-621-603</td><td>49-1632020-8</td><td>382189453145</td><td>317-674-022-000</td><td>441093369646</td><td>Regular</td><td>HR Manager               </td><td>Lim, Antonio      </td><td>52,670</td><td>1,500</td><td>1,000</td><td>1,000</td><td>26,335</td><td>313.51</td></tr>\n",
       "</tbody>\n",
       "</table>\n"
      ],
      "text/latex": [
       "A data.frame: 6 × 19\n",
       "\\begin{tabular}{r|lllllllllllllllllll}\n",
       "  & Employee.. & Last.Name & First.Name & Birthday & Address & Phone.Number & SSS.. & Philhealth.. & TIN.. & Pag.ibig.. & Status & Position & Immediate.Supervisor & Basic.Salary & Rice.Subsidy & Phone.Allowance & Clothing.Allowance & Gross.Semi.monthly.Rate & Hourly.Rate\\\\\n",
       "  & <int> & <fct> & <fct> & <fct> & <fct> & <fct> & <fct> & <dbl> & <fct> & <dbl> & <fct> & <fct> & <fct> & <fct> & <fct> & <fct> & <fct> & <fct> & <dbl>\\\\\n",
       "\\hline\n",
       "\t1 & 10001 & Garcia     & Manuel III   & 10/11/1983 & Valero Carpark Building Valero Street 1227, Makati City                     & 966-860-270 & 44-4506057-3 & 820126853951 & 442-605-657-000 & 691295330870 & Regular & Chief Executive Officer   & NULL               & 90,000 & 1,500 & 2,000 & 1,000 & 45,000 & 535.71\\\\\n",
       "\t2 & 10002 & Lim        & Antonio      & 06/19/1988 & San Antonio De Padua 2, Block 1 Lot 8 and 2, Dasmarinas, Cavite             & 171-867-411 & 52-2061274-9 & 331735646338 & 683-102-776-000 & 663904995411 & Regular & Chief Operating Officer   & Garcia, Manuel III & 60,000 & 1,500 & 2,000 & 1,000 & 30,000 & 357.14\\\\\n",
       "\t3 & 10003 & Aquino     & Bianca Sofia & 08/04/1989 & Rm. 402 4/F Jiao Building Timog Avenue Cor. Quezon Avenue 1100, Quezon City & 966-889-370 & 30-8870406-2 & 177451189665 & 971-711-280-000 & 171519773969 & Regular & Chief Finance Officer     & Garcia, Manuel III & 60,000 & 1,500 & 2,000 & 1,000 & 30,000 & 357.14\\\\\n",
       "\t4 & 10004 & Reyes      & Isabella     & 06/16/1994 & 460 Solanda Street Intramuros 1000, Manila                                  & 786-868-477 & 40-2511815-0 & 341911411254 & 876-809-437-000 & 416946776041 & Regular & Chief Marketing Officer   & Garcia, Manuel III & 60,000 & 1,500 & 2,000 & 1,000 & 30,000 & 357.14\\\\\n",
       "\t5 & 10005 & Hernandez  & Eduard       & 09/23/1989 & National Highway, Gingoog,  Misamis Occidental                              & 088-861-012 & 50-5577638-1 & 957436191812 & 031-702-374-000 & 952347222457 & Regular & IT Operations and Systems & Lim, Antonio       & 52,670 & 1,500 & 1,000 & 1,000 & 26,335 & 313.51\\\\\n",
       "\t6 & 10006 & Villanueva & Andrea Mae   & 02/14/1988 & 17/85 Stracke Via Suite 042, Poblacion, Las Piñas 4783 Dinagat Islands      & 918-621-603 & 49-1632020-8 & 382189453145 & 317-674-022-000 & 441093369646 & Regular & HR Manager                & Lim, Antonio       & 52,670 & 1,500 & 1,000 & 1,000 & 26,335 & 313.51\\\\\n",
       "\\end{tabular}\n"
      ],
      "text/markdown": [
       "\n",
       "A data.frame: 6 × 19\n",
       "\n",
       "| <!--/--> | Employee.. &lt;int&gt; | Last.Name &lt;fct&gt; | First.Name &lt;fct&gt; | Birthday &lt;fct&gt; | Address &lt;fct&gt; | Phone.Number &lt;fct&gt; | SSS.. &lt;fct&gt; | Philhealth.. &lt;dbl&gt; | TIN.. &lt;fct&gt; | Pag.ibig.. &lt;dbl&gt; | Status &lt;fct&gt; | Position &lt;fct&gt; | Immediate.Supervisor &lt;fct&gt; | Basic.Salary &lt;fct&gt; | Rice.Subsidy &lt;fct&gt; | Phone.Allowance &lt;fct&gt; | Clothing.Allowance &lt;fct&gt; | Gross.Semi.monthly.Rate &lt;fct&gt; | Hourly.Rate &lt;dbl&gt; |\n",
       "|---|---|---|---|---|---|---|---|---|---|---|---|---|---|---|---|---|---|---|---|\n",
       "| 1 | 10001 | Garcia     | Manuel III   | 10/11/1983 | Valero Carpark Building Valero Street 1227, Makati City                     | 966-860-270 | 44-4506057-3 | 820126853951 | 442-605-657-000 | 691295330870 | Regular | Chief Executive Officer   | NULL               | 90,000 | 1,500 | 2,000 | 1,000 | 45,000 | 535.71 |\n",
       "| 2 | 10002 | Lim        | Antonio      | 06/19/1988 | San Antonio De Padua 2, Block 1 Lot 8 and 2, Dasmarinas, Cavite             | 171-867-411 | 52-2061274-9 | 331735646338 | 683-102-776-000 | 663904995411 | Regular | Chief Operating Officer   | Garcia, Manuel III | 60,000 | 1,500 | 2,000 | 1,000 | 30,000 | 357.14 |\n",
       "| 3 | 10003 | Aquino     | Bianca Sofia | 08/04/1989 | Rm. 402 4/F Jiao Building Timog Avenue Cor. Quezon Avenue 1100, Quezon City | 966-889-370 | 30-8870406-2 | 177451189665 | 971-711-280-000 | 171519773969 | Regular | Chief Finance Officer     | Garcia, Manuel III | 60,000 | 1,500 | 2,000 | 1,000 | 30,000 | 357.14 |\n",
       "| 4 | 10004 | Reyes      | Isabella     | 06/16/1994 | 460 Solanda Street Intramuros 1000, Manila                                  | 786-868-477 | 40-2511815-0 | 341911411254 | 876-809-437-000 | 416946776041 | Regular | Chief Marketing Officer   | Garcia, Manuel III | 60,000 | 1,500 | 2,000 | 1,000 | 30,000 | 357.14 |\n",
       "| 5 | 10005 | Hernandez  | Eduard       | 09/23/1989 | National Highway, Gingoog,  Misamis Occidental                              | 088-861-012 | 50-5577638-1 | 957436191812 | 031-702-374-000 | 952347222457 | Regular | IT Operations and Systems | Lim, Antonio       | 52,670 | 1,500 | 1,000 | 1,000 | 26,335 | 313.51 |\n",
       "| 6 | 10006 | Villanueva | Andrea Mae   | 02/14/1988 | 17/85 Stracke Via Suite 042, Poblacion, Las Piñas 4783 Dinagat Islands      | 918-621-603 | 49-1632020-8 | 382189453145 | 317-674-022-000 | 441093369646 | Regular | HR Manager                | Lim, Antonio       | 52,670 | 1,500 | 1,000 | 1,000 | 26,335 | 313.51 |\n",
       "\n"
      ],
      "text/plain": [
       "  Employee.. Last.Name  First.Name   Birthday  \n",
       "1 10001      Garcia     Manuel III   10/11/1983\n",
       "2 10002      Lim        Antonio      06/19/1988\n",
       "3 10003      Aquino     Bianca Sofia 08/04/1989\n",
       "4 10004      Reyes      Isabella     06/16/1994\n",
       "5 10005      Hernandez  Eduard       09/23/1989\n",
       "6 10006      Villanueva Andrea Mae   02/14/1988\n",
       "  Address                                                                    \n",
       "1 Valero Carpark Building Valero Street 1227, Makati City                    \n",
       "2 San Antonio De Padua 2, Block 1 Lot 8 and 2, Dasmarinas, Cavite            \n",
       "3 Rm. 402 4/F Jiao Building Timog Avenue Cor. Quezon Avenue 1100, Quezon City\n",
       "4 460 Solanda Street Intramuros 1000, Manila                                 \n",
       "5 National Highway, Gingoog,  Misamis Occidental                             \n",
       "6 17/85 Stracke Via Suite 042, Poblacion, Las Piñas 4783 Dinagat Islands     \n",
       "  Phone.Number SSS..        Philhealth.. TIN..           Pag.ibig..   Status \n",
       "1 966-860-270  44-4506057-3 820126853951 442-605-657-000 691295330870 Regular\n",
       "2 171-867-411  52-2061274-9 331735646338 683-102-776-000 663904995411 Regular\n",
       "3 966-889-370  30-8870406-2 177451189665 971-711-280-000 171519773969 Regular\n",
       "4 786-868-477  40-2511815-0 341911411254 876-809-437-000 416946776041 Regular\n",
       "5 088-861-012  50-5577638-1 957436191812 031-702-374-000 952347222457 Regular\n",
       "6 918-621-603  49-1632020-8 382189453145 317-674-022-000 441093369646 Regular\n",
       "  Position                  Immediate.Supervisor Basic.Salary Rice.Subsidy\n",
       "1 Chief Executive Officer   NULL                 90,000       1,500       \n",
       "2 Chief Operating Officer   Garcia, Manuel III   60,000       1,500       \n",
       "3 Chief Finance Officer     Garcia, Manuel III   60,000       1,500       \n",
       "4 Chief Marketing Officer   Garcia, Manuel III   60,000       1,500       \n",
       "5 IT Operations and Systems Lim, Antonio         52,670       1,500       \n",
       "6 HR Manager                Lim, Antonio         52,670       1,500       \n",
       "  Phone.Allowance Clothing.Allowance Gross.Semi.monthly.Rate Hourly.Rate\n",
       "1 2,000           1,000              45,000                  535.71     \n",
       "2 2,000           1,000              30,000                  357.14     \n",
       "3 2,000           1,000              30,000                  357.14     \n",
       "4 2,000           1,000              30,000                  357.14     \n",
       "5 1,000           1,000              26,335                  313.51     \n",
       "6 1,000           1,000              26,335                  313.51     "
      ]
     },
     "metadata": {},
     "output_type": "display_data"
    }
   ],
   "source": [
    "# Check the first 6 rows in the dataframe (df)\n",
    "head(df)"
   ]
  },
  {
   "cell_type": "code",
   "execution_count": 25,
   "id": "14c63423-0a35-4f2a-8bf9-ebe44c155c72",
   "metadata": {},
   "outputs": [
    {
     "data": {
      "text/html": [
       "<style>\n",
       ".list-inline {list-style: none; margin:0; padding: 0}\n",
       ".list-inline>li {display: inline-block}\n",
       ".list-inline>li:not(:last-child)::after {content: \"\\00b7\"; padding: 0 .5ex}\n",
       "</style>\n",
       "<ol class=list-inline><li>34</li><li>19</li></ol>\n"
      ],
      "text/latex": [
       "\\begin{enumerate*}\n",
       "\\item 34\n",
       "\\item 19\n",
       "\\end{enumerate*}\n"
      ],
      "text/markdown": [
       "1. 34\n",
       "2. 19\n",
       "\n",
       "\n"
      ],
      "text/plain": [
       "[1] 34 19"
      ]
     },
     "metadata": {},
     "output_type": "display_data"
    }
   ],
   "source": [
    "# check df dimensions; check for the # of rows as observations\n",
    "dim(df)"
   ]
  },
  {
   "cell_type": "code",
   "execution_count": 26,
   "id": "f90fad83-9e56-4486-b495-4ddfd1aefb38",
   "metadata": {},
   "outputs": [
    {
     "data": {
      "text/html": [
       "<style>\n",
       ".list-inline {list-style: none; margin:0; padding: 0}\n",
       ".list-inline>li {display: inline-block}\n",
       ".list-inline>li:not(:last-child)::after {content: \"\\00b7\"; padding: 0 .5ex}\n",
       "</style>\n",
       "<ol class=list-inline><li>'Employee..'</li><li>'Last.Name'</li><li>'First.Name'</li><li>'Birthday'</li><li>'Address'</li><li>'Phone.Number'</li><li>'SSS..'</li><li>'Philhealth..'</li><li>'TIN..'</li><li>'Pag.ibig..'</li><li>'Status'</li><li>'Position'</li><li>'Immediate.Supervisor'</li><li>'Basic.Salary'</li><li>'Rice.Subsidy'</li><li>'Phone.Allowance'</li><li>'Clothing.Allowance'</li><li>'Gross.Semi.monthly.Rate'</li><li>'Hourly.Rate'</li></ol>\n"
      ],
      "text/latex": [
       "\\begin{enumerate*}\n",
       "\\item 'Employee..'\n",
       "\\item 'Last.Name'\n",
       "\\item 'First.Name'\n",
       "\\item 'Birthday'\n",
       "\\item 'Address'\n",
       "\\item 'Phone.Number'\n",
       "\\item 'SSS..'\n",
       "\\item 'Philhealth..'\n",
       "\\item 'TIN..'\n",
       "\\item 'Pag.ibig..'\n",
       "\\item 'Status'\n",
       "\\item 'Position'\n",
       "\\item 'Immediate.Supervisor'\n",
       "\\item 'Basic.Salary'\n",
       "\\item 'Rice.Subsidy'\n",
       "\\item 'Phone.Allowance'\n",
       "\\item 'Clothing.Allowance'\n",
       "\\item 'Gross.Semi.monthly.Rate'\n",
       "\\item 'Hourly.Rate'\n",
       "\\end{enumerate*}\n"
      ],
      "text/markdown": [
       "1. 'Employee..'\n",
       "2. 'Last.Name'\n",
       "3. 'First.Name'\n",
       "4. 'Birthday'\n",
       "5. 'Address'\n",
       "6. 'Phone.Number'\n",
       "7. 'SSS..'\n",
       "8. 'Philhealth..'\n",
       "9. 'TIN..'\n",
       "10. 'Pag.ibig..'\n",
       "11. 'Status'\n",
       "12. 'Position'\n",
       "13. 'Immediate.Supervisor'\n",
       "14. 'Basic.Salary'\n",
       "15. 'Rice.Subsidy'\n",
       "16. 'Phone.Allowance'\n",
       "17. 'Clothing.Allowance'\n",
       "18. 'Gross.Semi.monthly.Rate'\n",
       "19. 'Hourly.Rate'\n",
       "\n",
       "\n"
      ],
      "text/plain": [
       " [1] \"Employee..\"              \"Last.Name\"              \n",
       " [3] \"First.Name\"              \"Birthday\"               \n",
       " [5] \"Address\"                 \"Phone.Number\"           \n",
       " [7] \"SSS..\"                   \"Philhealth..\"           \n",
       " [9] \"TIN..\"                   \"Pag.ibig..\"             \n",
       "[11] \"Status\"                  \"Position\"               \n",
       "[13] \"Immediate.Supervisor\"    \"Basic.Salary\"           \n",
       "[15] \"Rice.Subsidy\"            \"Phone.Allowance\"        \n",
       "[17] \"Clothing.Allowance\"      \"Gross.Semi.monthly.Rate\"\n",
       "[19] \"Hourly.Rate\"            "
      ]
     },
     "metadata": {},
     "output_type": "display_data"
    }
   ],
   "source": [
    "# Check the column names\n",
    "colnames(df)"
   ]
  },
  {
   "cell_type": "code",
   "execution_count": 27,
   "id": "68fd8043-c411-4397-8506-e33dfe15942d",
   "metadata": {},
   "outputs": [
    {
     "data": {
      "text/html": [
       "<style>\n",
       ".dl-inline {width: auto; margin:0; padding: 0}\n",
       ".dl-inline>dt, .dl-inline>dd {float: none; width: auto; display: inline-block}\n",
       ".dl-inline>dt::after {content: \":\\0020\"; padding-right: .5ex}\n",
       ".dl-inline>dt:not(:first-of-type) {padding-left: .5ex}\n",
       "</style><dl class=dl-inline><dt>Employee..</dt><dd>0</dd><dt>Last.Name</dt><dd>0</dd><dt>First.Name</dt><dd>0</dd><dt>Birthday</dt><dd>0</dd><dt>Address</dt><dd>0</dd><dt>Phone.Number</dt><dd>0</dd><dt>SSS..</dt><dd>0</dd><dt>Philhealth..</dt><dd>0</dd><dt>TIN..</dt><dd>0</dd><dt>Pag.ibig..</dt><dd>0</dd><dt>Status</dt><dd>0</dd><dt>Position</dt><dd>0</dd><dt>Immediate.Supervisor</dt><dd>0</dd><dt>Basic.Salary</dt><dd>0</dd><dt>Rice.Subsidy</dt><dd>0</dd><dt>Phone.Allowance</dt><dd>0</dd><dt>Clothing.Allowance</dt><dd>0</dd><dt>Gross.Semi.monthly.Rate</dt><dd>0</dd><dt>Hourly.Rate</dt><dd>0</dd></dl>\n"
      ],
      "text/latex": [
       "\\begin{description*}\n",
       "\\item[Employee..] 0\n",
       "\\item[Last.Name] 0\n",
       "\\item[First.Name] 0\n",
       "\\item[Birthday] 0\n",
       "\\item[Address] 0\n",
       "\\item[Phone.Number] 0\n",
       "\\item[SSS..] 0\n",
       "\\item[Philhealth..] 0\n",
       "\\item[TIN..] 0\n",
       "\\item[Pag.ibig..] 0\n",
       "\\item[Status] 0\n",
       "\\item[Position] 0\n",
       "\\item[Immediate.Supervisor] 0\n",
       "\\item[Basic.Salary] 0\n",
       "\\item[Rice.Subsidy] 0\n",
       "\\item[Phone.Allowance] 0\n",
       "\\item[Clothing.Allowance] 0\n",
       "\\item[Gross.Semi.monthly.Rate] 0\n",
       "\\item[Hourly.Rate] 0\n",
       "\\end{description*}\n"
      ],
      "text/markdown": [
       "Employee..\n",
       ":   0Last.Name\n",
       ":   0First.Name\n",
       ":   0Birthday\n",
       ":   0Address\n",
       ":   0Phone.Number\n",
       ":   0SSS..\n",
       ":   0Philhealth..\n",
       ":   0TIN..\n",
       ":   0Pag.ibig..\n",
       ":   0Status\n",
       ":   0Position\n",
       ":   0Immediate.Supervisor\n",
       ":   0Basic.Salary\n",
       ":   0Rice.Subsidy\n",
       ":   0Phone.Allowance\n",
       ":   0Clothing.Allowance\n",
       ":   0Gross.Semi.monthly.Rate\n",
       ":   0Hourly.Rate\n",
       ":   0\n",
       "\n"
      ],
      "text/plain": [
       "             Employee..               Last.Name              First.Name \n",
       "                      0                       0                       0 \n",
       "               Birthday                 Address            Phone.Number \n",
       "                      0                       0                       0 \n",
       "                  SSS..            Philhealth..                   TIN.. \n",
       "                      0                       0                       0 \n",
       "             Pag.ibig..                  Status                Position \n",
       "                      0                       0                       0 \n",
       "   Immediate.Supervisor            Basic.Salary            Rice.Subsidy \n",
       "                      0                       0                       0 \n",
       "        Phone.Allowance      Clothing.Allowance Gross.Semi.monthly.Rate \n",
       "                      0                       0                       0 \n",
       "            Hourly.Rate \n",
       "                      0 "
      ]
     },
     "metadata": {},
     "output_type": "display_data"
    }
   ],
   "source": [
    "# Check for missing values in each column\n",
    "colSums(is.na(df))"
   ]
  },
  {
   "cell_type": "code",
   "execution_count": 28,
   "id": "1814df2a-8ed9-4a33-a7ac-457b1f3532a6",
   "metadata": {},
   "outputs": [
    {
     "data": {
      "text/html": [
       "0"
      ],
      "text/latex": [
       "0"
      ],
      "text/markdown": [
       "0"
      ],
      "text/plain": [
       "[1] 0"
      ]
     },
     "metadata": {},
     "output_type": "display_data"
    }
   ],
   "source": [
    "# Check for duplicate rows\n",
    "duplicates <- duplicated(df)\n",
    "sum(duplicates)"
   ]
  },
  {
   "cell_type": "code",
   "execution_count": 29,
   "id": "4d5f555d-35d7-4800-ad62-79f7a27a82a0",
   "metadata": {},
   "outputs": [
    {
     "data": {
      "text/html": [
       "<style>\n",
       ".list-inline {list-style: none; margin:0; padding: 0}\n",
       ".list-inline>li {display: inline-block}\n",
       ".list-inline>li:not(:last-child)::after {content: \"\\00b7\"; padding: 0 .5ex}\n",
       "</style>\n",
       "<ol class=list-inline><li>'Employee..'</li><li>'Philhealth..'</li><li>'Pag.ibig..'</li><li>'Hourly.Rate'</li></ol>\n"
      ],
      "text/latex": [
       "\\begin{enumerate*}\n",
       "\\item 'Employee..'\n",
       "\\item 'Philhealth..'\n",
       "\\item 'Pag.ibig..'\n",
       "\\item 'Hourly.Rate'\n",
       "\\end{enumerate*}\n"
      ],
      "text/markdown": [
       "1. 'Employee..'\n",
       "2. 'Philhealth..'\n",
       "3. 'Pag.ibig..'\n",
       "4. 'Hourly.Rate'\n",
       "\n",
       "\n"
      ],
      "text/plain": [
       "[1] \"Employee..\"   \"Philhealth..\" \"Pag.ibig..\"   \"Hourly.Rate\" "
      ]
     },
     "metadata": {},
     "output_type": "display_data"
    },
    {
     "data": {
      "text/html": [
       "<style>\n",
       ".list-inline {list-style: none; margin:0; padding: 0}\n",
       ".list-inline>li {display: inline-block}\n",
       ".list-inline>li:not(:last-child)::after {content: \"\\00b7\"; padding: 0 .5ex}\n",
       "</style>\n",
       "<ol class=list-inline><li>'Last.Name'</li><li>'First.Name'</li><li>'Birthday'</li><li>'Address'</li><li>'Phone.Number'</li><li>'SSS..'</li><li>'TIN..'</li><li>'Status'</li><li>'Position'</li><li>'Immediate.Supervisor'</li><li>'Basic.Salary'</li><li>'Rice.Subsidy'</li><li>'Phone.Allowance'</li><li>'Clothing.Allowance'</li><li>'Gross.Semi.monthly.Rate'</li></ol>\n"
      ],
      "text/latex": [
       "\\begin{enumerate*}\n",
       "\\item 'Last.Name'\n",
       "\\item 'First.Name'\n",
       "\\item 'Birthday'\n",
       "\\item 'Address'\n",
       "\\item 'Phone.Number'\n",
       "\\item 'SSS..'\n",
       "\\item 'TIN..'\n",
       "\\item 'Status'\n",
       "\\item 'Position'\n",
       "\\item 'Immediate.Supervisor'\n",
       "\\item 'Basic.Salary'\n",
       "\\item 'Rice.Subsidy'\n",
       "\\item 'Phone.Allowance'\n",
       "\\item 'Clothing.Allowance'\n",
       "\\item 'Gross.Semi.monthly.Rate'\n",
       "\\end{enumerate*}\n"
      ],
      "text/markdown": [
       "1. 'Last.Name'\n",
       "2. 'First.Name'\n",
       "3. 'Birthday'\n",
       "4. 'Address'\n",
       "5. 'Phone.Number'\n",
       "6. 'SSS..'\n",
       "7. 'TIN..'\n",
       "8. 'Status'\n",
       "9. 'Position'\n",
       "10. 'Immediate.Supervisor'\n",
       "11. 'Basic.Salary'\n",
       "12. 'Rice.Subsidy'\n",
       "13. 'Phone.Allowance'\n",
       "14. 'Clothing.Allowance'\n",
       "15. 'Gross.Semi.monthly.Rate'\n",
       "\n",
       "\n"
      ],
      "text/plain": [
       " [1] \"Last.Name\"               \"First.Name\"             \n",
       " [3] \"Birthday\"                \"Address\"                \n",
       " [5] \"Phone.Number\"            \"SSS..\"                  \n",
       " [7] \"TIN..\"                   \"Status\"                 \n",
       " [9] \"Position\"                \"Immediate.Supervisor\"   \n",
       "[11] \"Basic.Salary\"            \"Rice.Subsidy\"           \n",
       "[13] \"Phone.Allowance\"         \"Clothing.Allowance\"     \n",
       "[15] \"Gross.Semi.monthly.Rate\""
      ]
     },
     "metadata": {},
     "output_type": "display_data"
    }
   ],
   "source": [
    "# Identify numeric columns\n",
    "numeric_cols <- names(df)[sapply(df, is.numeric)]\n",
    "\n",
    "# Identify categorical (factor) columns\n",
    "categorical_cols <- names(df)[sapply(df, is.factor)]\n",
    "\n",
    "# Output the results\n",
    "numeric_cols\n",
    "categorical_cols\n"
   ]
  },
  {
   "cell_type": "code",
   "execution_count": 30,
   "id": "1f702697-2f9d-4b24-af78-f40120b01a1f",
   "metadata": {},
   "outputs": [
    {
     "name": "stdout",
     "output_type": "stream",
     "text": [
      "'data.frame':\t34 obs. of  19 variables:\n",
      " $ Employee..             : int  10001 10002 10003 10004 10005 10006 10007 10008 10009 10010 ...\n",
      " $ Last.Name              : Factor w/ 30 levels \"Aguilar\",\"Alvaro\",..: 11 15 3 22 13 29 26 23 4 2 ...\n",
      " $ First.Name             : Factor w/ 34 levels \"Alice\",\"Allison \",..: 26 5 7 19 15 3 8 1 31 30 ...\n",
      " $ Birthday               : Factor w/ 34 levels \"01/11/1942\",\"01/14/1987\",..: 27 16 19 15 24 6 10 13 25 11 ...\n",
      " $ Address                : Factor w/ 34 levels \"#284 T. Morato corner, Scout Rallos Street, Quezon City\",..: 34 33 32 9 31 5 26 4 21 1 ...\n",
      " $ Phone.Number           : Factor w/ 34 levels \"023-079-009\",..: 30 6 31 22 5 27 23 34 9 2 ...\n",
      " $ SSS..                  : Factor w/ 34 levels \"11-5062972-7\",..: 14 29 8 11 26 23 9 32 13 34 ...\n",
      " $ Philhealth..           : num  8.20e+11 3.32e+11 1.77e+11 3.42e+11 9.57e+11 ...\n",
      " $ TIN..                  : Factor w/ 34 levels \"031-702-374-000\",..: 20 29 34 31 1 15 28 32 27 23 ...\n",
      " $ Pag.ibig..             : num  6.91e+11 6.64e+11 1.72e+11 4.17e+11 9.52e+11 ...\n",
      " $ Status                 : Factor w/ 2 levels \"Probationary\",..: 2 2 2 2 2 2 2 2 2 2 ...\n",
      " $ Position               : Factor w/ 18 levels \"Account Manager\",..: 5 8 6 7 13 10 12 11 11 4 ...\n",
      " $ Immediate.Supervisor   : Factor w/ 12 levels \"Alvaro, Roderick\",..: 7 4 4 4 5 5 12 11 11 2 ...\n",
      " $ Basic.Salary           : num  90000 60000 60000 60000 52670 ...\n",
      " $ Rice.Subsidy           : num  1500 1500 1500 1500 1500 1500 1500 1500 1500 1500 ...\n",
      " $ Phone.Allowance        : num  2000 2000 2000 2000 1000 1000 800 500 500 1000 ...\n",
      " $ Clothing.Allowance     : num  1000 1000 1000 1000 1000 1000 800 500 500 1000 ...\n",
      " $ Gross.Semi.monthly.Rate: num  45000 30000 30000 30000 26335 ...\n",
      " $ Hourly.Rate            : num  536 357 357 357 314 ...\n"
     ]
    }
   ],
   "source": [
    "# List of columns that have comma-separated values, mistinterpreted as factors or categorical\n",
    "columns_to_clean <- c('Basic.Salary', 'Rice.Subsidy', 'Phone.Allowance', 'Clothing.Allowance', 'Gross.Semi.monthly.Rate')\n",
    "\n",
    "# Apply cleaning to the specified columns\n",
    "df[columns_to_clean] <- lapply(df[columns_to_clean], function(x) {\n",
    "  # Remove commas and convert to numeric\n",
    "  as.numeric(gsub(\",\", \"\", x))\n",
    "})\n",
    "\n",
    "# Check the cleaned dataframe\n",
    "str(df)"
   ]
  },
  {
   "cell_type": "code",
   "execution_count": 31,
   "id": "13dd9db0-f37e-4971-b65e-4ed2708f498a",
   "metadata": {},
   "outputs": [
    {
     "data": {
      "text/html": [
       "<style>\n",
       ".list-inline {list-style: none; margin:0; padding: 0}\n",
       ".list-inline>li {display: inline-block}\n",
       ".list-inline>li:not(:last-child)::after {content: \"\\00b7\"; padding: 0 .5ex}\n",
       "</style>\n",
       "<ol class=list-inline><li>'Employee..'</li><li>'Philhealth..'</li><li>'Pag.ibig..'</li><li>'Basic.Salary'</li><li>'Rice.Subsidy'</li><li>'Phone.Allowance'</li><li>'Clothing.Allowance'</li><li>'Gross.Semi.monthly.Rate'</li><li>'Hourly.Rate'</li></ol>\n"
      ],
      "text/latex": [
       "\\begin{enumerate*}\n",
       "\\item 'Employee..'\n",
       "\\item 'Philhealth..'\n",
       "\\item 'Pag.ibig..'\n",
       "\\item 'Basic.Salary'\n",
       "\\item 'Rice.Subsidy'\n",
       "\\item 'Phone.Allowance'\n",
       "\\item 'Clothing.Allowance'\n",
       "\\item 'Gross.Semi.monthly.Rate'\n",
       "\\item 'Hourly.Rate'\n",
       "\\end{enumerate*}\n"
      ],
      "text/markdown": [
       "1. 'Employee..'\n",
       "2. 'Philhealth..'\n",
       "3. 'Pag.ibig..'\n",
       "4. 'Basic.Salary'\n",
       "5. 'Rice.Subsidy'\n",
       "6. 'Phone.Allowance'\n",
       "7. 'Clothing.Allowance'\n",
       "8. 'Gross.Semi.monthly.Rate'\n",
       "9. 'Hourly.Rate'\n",
       "\n",
       "\n"
      ],
      "text/plain": [
       "[1] \"Employee..\"              \"Philhealth..\"           \n",
       "[3] \"Pag.ibig..\"              \"Basic.Salary\"           \n",
       "[5] \"Rice.Subsidy\"            \"Phone.Allowance\"        \n",
       "[7] \"Clothing.Allowance\"      \"Gross.Semi.monthly.Rate\"\n",
       "[9] \"Hourly.Rate\"            "
      ]
     },
     "metadata": {},
     "output_type": "display_data"
    },
    {
     "data": {
      "text/html": [
       "<style>\n",
       ".list-inline {list-style: none; margin:0; padding: 0}\n",
       ".list-inline>li {display: inline-block}\n",
       ".list-inline>li:not(:last-child)::after {content: \"\\00b7\"; padding: 0 .5ex}\n",
       "</style>\n",
       "<ol class=list-inline><li>'Last.Name'</li><li>'First.Name'</li><li>'Birthday'</li><li>'Address'</li><li>'Phone.Number'</li><li>'SSS..'</li><li>'TIN..'</li><li>'Status'</li><li>'Position'</li><li>'Immediate.Supervisor'</li></ol>\n"
      ],
      "text/latex": [
       "\\begin{enumerate*}\n",
       "\\item 'Last.Name'\n",
       "\\item 'First.Name'\n",
       "\\item 'Birthday'\n",
       "\\item 'Address'\n",
       "\\item 'Phone.Number'\n",
       "\\item 'SSS..'\n",
       "\\item 'TIN..'\n",
       "\\item 'Status'\n",
       "\\item 'Position'\n",
       "\\item 'Immediate.Supervisor'\n",
       "\\end{enumerate*}\n"
      ],
      "text/markdown": [
       "1. 'Last.Name'\n",
       "2. 'First.Name'\n",
       "3. 'Birthday'\n",
       "4. 'Address'\n",
       "5. 'Phone.Number'\n",
       "6. 'SSS..'\n",
       "7. 'TIN..'\n",
       "8. 'Status'\n",
       "9. 'Position'\n",
       "10. 'Immediate.Supervisor'\n",
       "\n",
       "\n"
      ],
      "text/plain": [
       " [1] \"Last.Name\"            \"First.Name\"           \"Birthday\"            \n",
       " [4] \"Address\"              \"Phone.Number\"         \"SSS..\"               \n",
       " [7] \"TIN..\"                \"Status\"               \"Position\"            \n",
       "[10] \"Immediate.Supervisor\""
      ]
     },
     "metadata": {},
     "output_type": "display_data"
    }
   ],
   "source": [
    "# Identify numeric columns\n",
    "numeric_cols <- names(df)[sapply(df, is.numeric)]\n",
    "\n",
    "# Identify categorical (factor) columns\n",
    "categorical_cols <- names(df)[sapply(df, is.factor)]\n",
    "\n",
    "\n",
    "# List of columns to treat as factors\n",
    "columns_to_factor <- c('Philhealth..', 'Pag.ibig..', 'Employee..')\n",
    "\n",
    "# Convert these columns to factors\n",
    "df[columns_to_factor] <- lapply(df[columns_to_factor], as.factor)\n",
    "\n",
    "\n",
    "# Output the results\n",
    "numeric_cols\n",
    "categorical_cols"
   ]
  },
  {
   "cell_type": "code",
   "execution_count": 32,
   "id": "c71bf0d0-27df-4fc4-b9d5-99144c4f93e6",
   "metadata": {},
   "outputs": [
    {
     "data": {
      "text/html": [
       "<style>\n",
       ".dl-inline {width: auto; margin:0; padding: 0}\n",
       ".dl-inline>dt, .dl-inline>dd {float: none; width: auto; display: inline-block}\n",
       ".dl-inline>dt::after {content: \":\\0020\"; padding-right: .5ex}\n",
       ".dl-inline>dt:not(:first-of-type) {padding-left: .5ex}\n",
       "</style><dl class=dl-inline><dt>Employee..</dt><dd>0</dd><dt>Last.Name</dt><dd>0</dd><dt>First.Name</dt><dd>0</dd><dt>Birthday</dt><dd>0</dd><dt>Address</dt><dd>0</dd><dt>Phone.Number</dt><dd>0</dd><dt>SSS..</dt><dd>0</dd><dt>Philhealth..</dt><dd>0</dd><dt>TIN..</dt><dd>0</dd><dt>Pag.ibig..</dt><dd>0</dd><dt>Status</dt><dd>0</dd><dt>Position</dt><dd>0</dd><dt>Immediate.Supervisor</dt><dd>0</dd><dt>Basic.Salary</dt><dd>0</dd><dt>Rice.Subsidy</dt><dd>0</dd><dt>Phone.Allowance</dt><dd>4</dd><dt>Clothing.Allowance</dt><dd>0</dd><dt>Gross.Semi.monthly.Rate</dt><dd>0</dd><dt>Hourly.Rate</dt><dd>0</dd></dl>\n"
      ],
      "text/latex": [
       "\\begin{description*}\n",
       "\\item[Employee..] 0\n",
       "\\item[Last.Name] 0\n",
       "\\item[First.Name] 0\n",
       "\\item[Birthday] 0\n",
       "\\item[Address] 0\n",
       "\\item[Phone.Number] 0\n",
       "\\item[SSS..] 0\n",
       "\\item[Philhealth..] 0\n",
       "\\item[TIN..] 0\n",
       "\\item[Pag.ibig..] 0\n",
       "\\item[Status] 0\n",
       "\\item[Position] 0\n",
       "\\item[Immediate.Supervisor] 0\n",
       "\\item[Basic.Salary] 0\n",
       "\\item[Rice.Subsidy] 0\n",
       "\\item[Phone.Allowance] 4\n",
       "\\item[Clothing.Allowance] 0\n",
       "\\item[Gross.Semi.monthly.Rate] 0\n",
       "\\item[Hourly.Rate] 0\n",
       "\\end{description*}\n"
      ],
      "text/markdown": [
       "Employee..\n",
       ":   0Last.Name\n",
       ":   0First.Name\n",
       ":   0Birthday\n",
       ":   0Address\n",
       ":   0Phone.Number\n",
       ":   0SSS..\n",
       ":   0Philhealth..\n",
       ":   0TIN..\n",
       ":   0Pag.ibig..\n",
       ":   0Status\n",
       ":   0Position\n",
       ":   0Immediate.Supervisor\n",
       ":   0Basic.Salary\n",
       ":   0Rice.Subsidy\n",
       ":   0Phone.Allowance\n",
       ":   4Clothing.Allowance\n",
       ":   0Gross.Semi.monthly.Rate\n",
       ":   0Hourly.Rate\n",
       ":   0\n",
       "\n"
      ],
      "text/plain": [
       "             Employee..               Last.Name              First.Name \n",
       "                      0                       0                       0 \n",
       "               Birthday                 Address            Phone.Number \n",
       "                      0                       0                       0 \n",
       "                  SSS..            Philhealth..                   TIN.. \n",
       "                      0                       0                       0 \n",
       "             Pag.ibig..                  Status                Position \n",
       "                      0                       0                       0 \n",
       "   Immediate.Supervisor            Basic.Salary            Rice.Subsidy \n",
       "                      0                       0                       0 \n",
       "        Phone.Allowance      Clothing.Allowance Gross.Semi.monthly.Rate \n",
       "                      4                       0                       0 \n",
       "            Hourly.Rate \n",
       "                      0 "
      ]
     },
     "metadata": {},
     "output_type": "display_data"
    }
   ],
   "source": [
    "# Function to detect outliers based on IQR\n",
    "detect_outliers <- function(df) {\n",
    "  outliers <- sapply(df, function(x) {\n",
    "    if (is.numeric(x)) {\n",
    "      Q1 <- quantile(x, 0.25, na.rm = TRUE)\n",
    "      Q3 <- quantile(x, 0.75, na.rm = TRUE)\n",
    "      IQR <- Q3 - Q1\n",
    "      lower_bound <- Q1 - 1.5 * IQR\n",
    "      upper_bound <- Q3 + 1.5 * IQR\n",
    "      sum(x < lower_bound | x > upper_bound, na.rm = TRUE)\n",
    "    } else {\n",
    "      return(0)\n",
    "    }\n",
    "  })\n",
    "  \n",
    "  return(outliers)\n",
    "}\n",
    "\n",
    "# Detect outliers in numeric columns\n",
    "outlier_counts <- detect_outliers(df)\n",
    "outlier_counts"
   ]
  },
  {
   "cell_type": "code",
   "execution_count": 33,
   "id": "efc351a0-32c8-44ef-a2a2-91e7c44a0a5a",
   "metadata": {},
   "outputs": [
    {
     "data": {
      "text/plain": [
       "   Employee..     Last.Name       First.Name       Birthday \n",
       " 10001  : 1   Martinez : 2   Alice     : 1   01/11/1942: 1  \n",
       " 10002  : 1   Romualdez: 2   Allison   : 1   01/14/1987: 1  \n",
       " 10003  : 1   San Jose : 2   Andrea Mae: 1   01/27/1989: 1  \n",
       " 10004  : 1   Santos   : 2   Anthony   : 1   02/09/1992: 1  \n",
       " 10005  : 1   Aguilar  : 1   Antonio   : 1   02/12/1991: 1  \n",
       " 10006  : 1   Alvaro   : 1   Beatriz   : 1   02/14/1988: 1  \n",
       " (Other):28   (Other)  :24   (Other)   :28   (Other)   :28  \n",
       "                                                                    Address  \n",
       " #284 T. Morato corner, Scout Rallos Street, Quezon City                : 1  \n",
       " 06A Gulgowski Extensions, Bongabon 6085 Zamboanga del Sur              : 1  \n",
       " 08 Grant Drive Suite 406, Poblacion, Iloilo City 9186 La Union         : 1  \n",
       " 12A/33 Upton Isle Apt. 420, Roxas City 1814 Surigao del Norte          : 1  \n",
       " 17/85 Stracke Via Suite 042, Poblacion, Las Piñas 4783 Dinagat Islands : 1  \n",
       " 22A/52 Lubowitz Meadows, Pililla 4895 Zambales                         : 1  \n",
       " (Other)                                                                :28  \n",
       "      Phone.Number          SSS..          Philhealth..             TIN..   \n",
       " 023-079-009: 1    11-5062972-7: 1   126445315651: 1    031-702-374-000: 1  \n",
       " 053-381-386: 1    20-2987501-5: 1   136451303068: 1    101-558-994-000: 1  \n",
       " 070-766-300: 1    26-7145133-4: 1   177451189665: 1    103-100-522-000: 1  \n",
       " 078-854-208: 1    26-8768374-1: 1   233693897247: 1    121-203-336-000: 1  \n",
       " 088-861-012: 1    26-9647608-3: 1   239192926939: 1    122-244-511-000: 1  \n",
       " 171-867-411: 1    27-2090208-8: 1   308366860059: 1    187-500-345-000: 1  \n",
       " (Other)    :28    (Other)     :28   (Other)     :28    (Other)        :28  \n",
       "        Pag.ibig..          Status                    Position \n",
       " 101205445886: 1   Probationary:11   Account Rank and File:14  \n",
       " 104907708845: 1   Regular     :23   Account Team Leader  : 2  \n",
       " 110018813465: 1                     HR Rank and File     : 2  \n",
       " 113017988667: 1                     Payroll Rank and File: 2  \n",
       " 113071293354: 1                     Account Manager      : 1  \n",
       " 114901859343: 1                     Accounting Head      : 1  \n",
       " (Other)     :28                     (Other)              :12  \n",
       "         Immediate.Supervisor  Basic.Salary    Rice.Subsidy  Phone.Allowance \n",
       " De Leon, Selena   :7         Min.   :22500   Min.   :1500   Min.   : 500.0  \n",
       " Mata, Christian   :7         1st Qu.:22688   1st Qu.:1500   1st Qu.: 500.0  \n",
       " Garcia, Manuel III:3         Median :24750   Median :1500   Median : 500.0  \n",
       " Lim, Antonio      :3         Mean   :37504   Mean   :1500   Mean   : 829.4  \n",
       " Reyes, Isabella   :3         3rd Qu.:52670   3rd Qu.:1500   3rd Qu.:1000.0  \n",
       " Salcedo, Anthony  :3         Max.   :90000   Max.   :1500   Max.   :2000.0  \n",
       " (Other)           :8                                                        \n",
       " Clothing.Allowance Gross.Semi.monthly.Rate  Hourly.Rate   \n",
       " Min.   : 500.0     Min.   :11250           Min.   :133.9  \n",
       " 1st Qu.: 500.0     1st Qu.:11344           1st Qu.:135.0  \n",
       " Median : 500.0     Median :12375           Median :147.3  \n",
       " Mean   : 711.8     Mean   :18752           Mean   :223.2  \n",
       " 3rd Qu.:1000.0     3rd Qu.:26335           3rd Qu.:313.5  \n",
       " Max.   :1000.0     Max.   :45000           Max.   :535.7  \n",
       "                                                           "
      ]
     },
     "metadata": {},
     "output_type": "display_data"
    }
   ],
   "source": [
    "summary(df)"
   ]
  },
  {
   "cell_type": "code",
   "execution_count": 34,
   "id": "09d22baa-f57c-4a95-9e79-3a655e806e69",
   "metadata": {},
   "outputs": [],
   "source": [
    "write.csv(df, \"employees_details_cleaned.csv\")"
   ]
  }
 ],
 "metadata": {
  "kernelspec": {
   "display_name": "R",
   "language": "R",
   "name": "ir"
  },
  "language_info": {
   "codemirror_mode": "r",
   "file_extension": ".r",
   "mimetype": "text/x-r-source",
   "name": "R",
   "pygments_lexer": "r",
   "version": "4.4.2"
  }
 },
 "nbformat": 4,
 "nbformat_minor": 5
}
